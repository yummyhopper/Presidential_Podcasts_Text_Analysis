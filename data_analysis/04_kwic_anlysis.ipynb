{
 "cells": [
  {
   "cell_type": "markdown",
   "id": "9e9168c8-53dc-420d-aeb4-430df81155bf",
   "metadata": {},
   "source": [
    "# Analysis of Trump vs Harris Interviews and Podcasts using Key Word in Context\n",
    "\n",
    "Overview of Key Word in Context:\n",
    "\n",
    "KWIC (Key Word in Context) analysis is a method used in text analysis to explore how specific words or phrases are used within their surrounding context in a corpus.\n",
    "\n",
    "Steps:\n",
    "\n",
    "* The `make_kwic()` function returns:\n",
    "    * a `list` where each item is one concordance line containing\n",
    "         1. a `list` of tokens to the left of the keyword\n",
    "         2. the keyword\n",
    "         3. a `list` of tokens to the right of the keyword\n",
    "         \n",
    "    * so we have a `list-of-lists` structure\n",
    " \n",
    "\n",
    "* We pass `make_kwic`:\n",
    "    1. a search term (or `keyword`)\n",
    "    2. a `list` of tokens\n",
    "    3. the size of the context\n",
    "\n",
    "\n",
    "* Which you can see is itself a list with 3 items:\n",
    "    * index 0 - left context tokens (a list of length win - here 4 words)\n",
    "    * index 1 - the keyword as a string\n",
    "    * index 2 - right context tokens (a list of length win - here 4 words)\n",
    "    \n",
    "* The `list-of-lists` structure is hard to read so we can write a `print_kwic()` function  to display the KWIC lines more nicely\n",
    "\n",
    "This notebook is organized to guide the analysis step-by-step, starting with data preparation and progressing through multiple comparative analyses. Each section focuses on addressing one of our key research questons\n",
    "\n",
    "Here’s an overview of the structure:\n",
    "\n",
    "* Setup\n",
    "\n",
    "* Loading the Data\n",
    "\n",
    "* Understanding the Data Structure and Preparing for Analysis\n",
    "\n",
    "* Issue Focus\n",
    "\n",
    "* Opponent Mentions\n",
    "\n",
    "* Emotional Language"
   ]
  },
  {
   "cell_type": "markdown",
   "id": "46f5c5bd-f6db-4e0b-abfe-816ae7c90e85",
   "metadata": {},
   "source": [
    "### Setup"
   ]
  },
  {
   "cell_type": "code",
   "execution_count": 1,
   "id": "70e092fd-c3cf-48cf-b3ad-cc124993a819",
   "metadata": {},
   "outputs": [],
   "source": [
    "import json\n",
    "import random\n",
    "from collections import Counter\n",
    "import matplotlib.pyplot as plt\n",
    "import emoji\n",
    "\n",
    "from nltk.tokenize import TweetTokenizer\n"
   ]
  },
  {
   "cell_type": "code",
   "execution_count": 2,
   "id": "ecc307ce-95be-409f-8c81-06c8e948704e",
   "metadata": {},
   "outputs": [],
   "source": [
    "def tokenize(text, lowercase=True, strip_chars=''):\n",
    "    '''turn a string into a list of whitespace separated tokens - after observing lowercase flag and stripping specified characters\n",
    "    \n",
    "    Args:\n",
    "        text        -- a string object containing the text to be tokenized\n",
    "        lowercase   -- whether the string should be lowercased before tokenization (default: True)\n",
    "        strip_chars -- a string containing a series of characters which should be stripped from text before tokenization (default: empty string)\n",
    "        \n",
    "    \n",
    "    Returns:\n",
    "        list of tokens\n",
    "    '''\n",
    "    if lowercase:\n",
    "        text=text.lower()\n",
    "        \n",
    "    rdict = str.maketrans('','',strip_chars)\n",
    "    text = text.translate(rdict)\n",
    "        \n",
    "    tokens=text.split()\n",
    "    \n",
    "    return tokens"
   ]
  },
  {
   "cell_type": "code",
   "execution_count": 3,
   "id": "f09556b3-27f3-4f15-8a8a-ec0dae8accc6",
   "metadata": {},
   "outputs": [],
   "source": [
    "def make_kwic(kw, text, win=4):\n",
    "    '''A basic KWIC function for a text\n",
    "    \n",
    "    Args:\n",
    "        kw   -- string match for keyword to match for each line\n",
    "        text -- a list of tokens for the text\n",
    "        win  -- window size for left and right context\n",
    "        \n",
    "    Return:\n",
    "        list of lines of form [ [left context words], kw, [right context words]]\n",
    "    '''\n",
    "    hits = [(word, idx) for idx, word in enumerate(text) if word == kw]\n",
    "    \n",
    "    lines = []\n",
    "    for hit in hits:\n",
    "        hidx = hit[1]\n",
    "        kw = hit[0]\n",
    "        left = text[max(0, hidx-win):hidx]\n",
    "        right = text[hidx+1:min(len(text), hidx+win+1)]\n",
    "        \n",
    "        left = [''] * (win - len(left)) + left if len(left) < win else left\n",
    "        right = right + [''] * (win - len(right)) if len(right) < win else right\n",
    "        \n",
    "        lines.append([left, kw, right])\n",
    "    \n",
    "    return lines"
   ]
  },
  {
   "cell_type": "code",
   "execution_count": 4,
   "id": "0a0b108e-6d16-4c0e-ad3c-a3f4bd2badad",
   "metadata": {},
   "outputs": [],
   "source": [
    "def print_kwic(kwic, win=None):\n",
    "    '''A basic print function for a KWIC object\n",
    "    \n",
    "    Args:\n",
    "        kwic -- a list of KWIC lines of the form [ [left words], kw, [right words]]\n",
    "        win  -- if None then use all words provided in context otherwise limit by win\n",
    "        \n",
    "    Prints KWIC lines with left context width/padding win*8 characters\n",
    "    '''\n",
    "    \n",
    "    if not kwic:\n",
    "        return\n",
    "    \n",
    "    if win is None:\n",
    "        win = len(kwic[0][0])\n",
    "        \n",
    "    max_left = max([len(' '.join(l[0])) for l in kwic])\n",
    "    \n",
    "    for line in kwic:\n",
    "        print(\"{: >{}}  {}  {}\".format(' '.join(line[0][-win:]), \n",
    "                                      max_left, \n",
    "                                      line[1], \n",
    "                                      ' '.join(line[2][:win])\n",
    "                                     )\n",
    "             )            "
   ]
  },
  {
   "cell_type": "code",
   "execution_count": 5,
   "id": "bd2004e1-f152-4afe-be0a-2879ff4d4269",
   "metadata": {},
   "outputs": [],
   "source": [
    "def sort_kwic(kwic, order=None):\n",
    "    ''' sort a kwic list using the passed positional arguments \n",
    "    \n",
    "    Args:\n",
    "        kwic   -- a list of lists [ [left tokens], kw, [right tokens]]\n",
    "        order  -- a list of one or more positional arguments of form side-pos, e.g. L1, R3, L4 (default: None)\n",
    "    \n",
    "    Returns:\n",
    "        kwic sorted for each positional argument in reverse, i.e. ['R1','L1'] sorts first by L1 and then R1\n",
    "    '''\n",
    "    if order is None:\n",
    "        return kwic\n",
    "   \n",
    "    order = [order] if not type(order) is list else order\n",
    "    order.reverse()\n",
    "    \n",
    "    for sort_term in order:\n",
    "        if not re.match('[LR][1-4]', sort_term):\n",
    "            pass\n",
    "        \n",
    "        pos1 = 0 if sort_term[0]=='L' else 2\n",
    "        pos2 = int(sort_term[1])-1\n",
    "        pos2 = 3-pos2 if sort_term[0]=='L' else pos2\n",
    "        kwic.sort(key=lambda l : l[pos1][pos2])\n",
    "    \n",
    "    return kwic"
   ]
  },
  {
   "cell_type": "markdown",
   "id": "39ee5096-4c1c-41d3-b7eb-9a00d352f362",
   "metadata": {},
   "source": [
    "### Loading the Data"
   ]
  },
  {
   "cell_type": "code",
   "execution_count": 6,
   "id": "3d148589-5a36-4c71-9135-bff10a4fb0c7",
   "metadata": {},
   "outputs": [],
   "source": [
    "master_list = json.load(open('../data/master_list.json'))"
   ]
  },
  {
   "cell_type": "markdown",
   "id": "6d4d111c-3c89-4284-a074-6370cc30b215",
   "metadata": {},
   "source": [
    "### Understanding the Data Structure and Preparing for Analysis"
   ]
  },
  {
   "cell_type": "code",
   "execution_count": 7,
   "id": "56a06acf-84aa-4a1b-a881-697f91eeca7f",
   "metadata": {},
   "outputs": [
    {
     "data": {
      "text/plain": [
       "list"
      ]
     },
     "execution_count": 7,
     "metadata": {},
     "output_type": "execute_result"
    }
   ],
   "source": [
    "type(master_list)"
   ]
  },
  {
   "cell_type": "code",
   "execution_count": 8,
   "id": "3ef5f5d8-eba8-4c41-8ad0-adb3dc0cd623",
   "metadata": {},
   "outputs": [
    {
     "data": {
      "text/plain": [
       "24"
      ]
     },
     "execution_count": 8,
     "metadata": {},
     "output_type": "execute_result"
    }
   ],
   "source": [
    "len(master_list)"
   ]
  },
  {
   "cell_type": "code",
   "execution_count": 9,
   "id": "b2240c0d-a0d9-4636-925e-8f008bfa8df3",
   "metadata": {},
   "outputs": [
    {
     "data": {
      "text/plain": [
       "dict"
      ]
     },
     "execution_count": 9,
     "metadata": {},
     "output_type": "execute_result"
    }
   ],
   "source": [
    "type(master_list[0])"
   ]
  },
  {
   "cell_type": "code",
   "execution_count": 10,
   "id": "df42be3a-6f13-4f99-afe9-5b4537b4e09a",
   "metadata": {
    "scrolled": true
   },
   "outputs": [
    {
     "data": {
      "text/plain": [
       "{'title': 'Harris_CNN',\n",
       " 'medium': 'harris_interviews',\n",
       " 'transcript': [['Host',\n",
       "   'Madam Vice President, Governor Walz, thank you so much for sitting down with me and bringing the bus. The bus tour is well underway here in Georgia. You have less time to make your case to voters than any candidate in modern American history. The voters are really eager to hear what your plans are. If you are elected, what would you do on day one in the White House?'],\n",
       "  ['Harris',\n",
       "   'Well, there are a number of things. I will tell you first and foremost, one of my highest priorities is to do what we can to support and strengthen the middle class. When I look at the aspirations, the goals, the ambitions of the American people, I think that people are ready for a new way forward in a way that generations of Americans have been fueled by hope and by optimism. I think, sadly, in the last decade, we have had in the former president someone who has really been pushing an agenda and an environment that is about diminishing the character and the strength of who we are as Americans, really dividing our nation, and I think people are ready to turn the page on that.'],\n",
       "  ['Host', 'So what would you do day one?'],\n",
       "  ['Harris',\n",
       "   \"It's going to be about, one, implementing my plan for what I call an opportunity economy. I've already laid out a number of proposals in that regard, which include what we're going to do to bring down the cost of everyday goods, what we're going to do to invest in America's small businesses, what we're going to do to invest in families, for example, extending the child tax credit to $6,000 for families for the first year of their child's life to help them buy a car seat, to help them buy baby clothes, a crib. There's the work that we're going to do that is about investing in the American family around affordable housing, a big issue in our country right now. So there are a number of things on day one. What about you?\"],\n",
       "  ['Walz',\n",
       "   \"Well, I'm excited about this agenda, too, as I said, the idea of inspiring America to what can be, and I think many of these things that the vice president is proposing are things that we share in values, and the child tax credit is one we know that reduces childhood poverty by a third. We did it in Minnesota to have a federal partner in this. It's unbelievable, I think, in the impact that we can make.\"],\n",
       "  ['Host',\n",
       "   \"You talked about, you call it the opportunity economy. You are well aware that right now many Americans are struggling. There's a crisis of affordability. One of your campaign themes is we're not going back. But I wonder what you say to voters who do want to go back when it comes to the economy specifically because their groceries were less expensive, housing was more affordable when Donald Trump was president.\"],\n",
       "  ['Harris',\n",
       "   \"Well, let's start with the fact that when Joe Biden and I came in office during the height of a pandemic, we saw over 10 million jobs were lost. People, I mean, literally, we were all tracking the numbers, hundreds of people a day were dying because of covid. The economy had crashed in large part, all of that because of mismanagement by Donald Trump of that crisis. When we came in, our highest priority was to do what we could to rescue America. And today we know that we have inflation at under 3 percent. A lot of our policies have led to the reality that America recovered faster than any wealthy nation around the world. But you are right, prices in particular for groceries are still too high. The American people know it. I know it, which is why my agenda includes what we need to do to bring down the price of groceries, for example, dealing with an issue like price gouging. What we need to do to extend the child tax credit, to help young families be able to take care of their children in their most formative years. What we need to do to bring down the cost of housing. My proposal includes what would be a tax credit of twenty five thousand dollars for first time homebuyers so they can just have enough to put a down payment on a home, which is part of the American dream and their aspiration, but do it in a way that allows them to actually get on the path to achieving that goal and that dream.\"],\n",
       "  ['Host',\n",
       "   \"So you have been vice president for three and a half years. The steps that you're talking about now, why haven't you done them already?\"],\n",
       "  ['Harris',\n",
       "   \"Well, first of all, we had to recover as an economy and we have done that. I'm very proud of the work that we have done that has brought inflation down to less than 3 percent. The work that we have done to cap the cost of insulin at thirty five dollars a month for seniors. Donald Trump said he was going to do a number of things, including allowing Medicare to negotiate drug prices. Never happened. We did it. So now and as I travel in the state of Georgia and around our country, the number of seniors that have benefited. I've met I was in Nevada recently, a grandmother who showed me her receipts and before we kept the cost of insulin for seniors at thirty five dollars a month. She was playing hundreds of dollars, up to thousands of dollars a month for her insulin. She's not doing that. And you maintain bynomics is a success. I maintain that when we do the work of bringing down prescription medication for the American people, including capping the cost of the annual cost of prescription medication for seniors at two thousand dollars, when we do what we did in the first year of being in office to extend the child tax credit so that we cut child poverty in America by over 50 percent, when we do what we have done to invest in the American people and bringing manufacturing back to the United States so that we created over eight hundred thousand new manufacturing jobs, bringing business back to America, what we have done to improve the supply chain. So we're not relying on foreign governments to supply American families with their basic needs. I'll say that that's good work. There's more to do, but that's good work.\"],\n",
       "  ['Host',\n",
       "   \"I want to get some clarity on where you stand on some key policy issues. Energy is a big one. When you were in Congress, you supported the Green New Deal. And in 2019, you said, quote, there is no question I'm in favor of banning fracking. Fracking, as you know, is a pretty big issue, particularly in your must win state of Pennsylvania. Do you still want to ban fracking?\"],\n",
       "  ['Harris',\n",
       "   'No. And I made that clear on the debate stage in 2020 that I would not ban fracking as vice president. I did not ban fracking as president. I will not ban fracking.'],\n",
       "  ['Host',\n",
       "   \"In 2019, I believe at a town hall, you said you were asked, would you commit to implementing a federal ban on fracking on your first day in office? And you said, there's no question I'm in favor of banning fracking. So, yes. So it changed in that campaign.\"],\n",
       "  ['Harris',\n",
       "   \"In 2020, I made very clear where I stand. We are in 2024 and I've not changed that position nor will I going forward. I kept my word and I will keep my word.\"],\n",
       "  ['Host', 'What made you change that position at the time?'],\n",
       "  ['Harris',\n",
       "   \"Well, let's be clear. My values have not changed. I believe it is very important that we take seriously what we must do to guard against what is a clear crisis in terms of the climate. And to do that, we can do what we have accomplished thus far. The Inflation Reduction Act, what we have done to invest by my calculation over probably a trillion dollars over the next 10 years, investing in a clean energy economy. What we've already done, creating over 300,000 new clean energy jobs. That tells me, from my experience as vice president, we can do it without banning fracking. In fact, Dana, Dana, excuse me. I cast the tie-breaking vote that actually increased leases for fracking as vice president. So I'm very clear about where I stand.\"],\n",
       "  ['Host',\n",
       "   'And was there some policy or scientific data that you saw that you said, oh, OK, I get'],\n",
       "  ['Harris',\n",
       "   'it now? What I have seen is that we can we can grow and we can increase a thriving clean energy economy without banning fracking.'],\n",
       "  ['Host',\n",
       "   'OK, another issue, big one is immigration. As vice president, you were tasked with addressing the root causes of migration in southern countries and northern part of Central America, the northern part of Central America that deals with that affects the southern border of the U.S. During the Biden-Harris administration, there were record numbers of illegal border crossings. Why did the Biden-Harris administration wait three and a half years to implement sweeping asylum restrictions?'],\n",
       "  ['Harris',\n",
       "   \"Well, first of all, the root causes work that I did as vice president, that I was asked to do by the president, has actually resulted in a number of benefits, including historic investments by American businesses in that region. The number of immigrants coming from that region has actually reduced since we began that work. But I will say this, that Joe Biden and I and our administration worked with members of the United States Congress on an immigration issue that is very significant to the American people and to our security, which is the border. And through bipartisan work, including some of the most conservative members of the United States Congress, a bill was crafted, which we supported, which I support, and Donald Trump got word of this bill that would have contributed to securing our border. And because he believes that it would not have helped him politically, he told his folks in Congress, don't put it forward. He killed the bill, a border security bill that would have put 1,500 more agents on the border. And let me tell you something. The Border Patrol endorsed the bill. And I'm sure and I'm sure in large part because they knew they were working around the clock and 1,500 more agents would help them. That bill would have allowed us to increase seizures of fentanyl. Ask any community in America that has been devastated by fentanyl. What passing that bill would have done to address their concern and a pain that they've experienced. So you would push that legislation again?\"],\n",
       "  ['Host', 'I just want to push it.'],\n",
       "  ['Harris', 'I will make sure that it comes to my desk and I would sign it.'],\n",
       "  ['Host',\n",
       "   'Just one other question about something that you said in 2019. When you first ran, there was a debate. You raised your hand when asked whether or not the border should be decriminalized. Do you still believe that?'],\n",
       "  ['Harris',\n",
       "   \"I believe there should be consequence. We have laws that have to be followed and enforced that address and deal with people who cross our border illegally. And there should be consequence. And let's be clear in this race, I'm the only person who has prosecuted transnational criminal organizations who trafficking guns, drugs and human beings. I'm the only person in this race who actually served a border state as attorney general to enforce our laws. And I would enforce our laws as president going forward. I recognize the problem.\"],\n",
       "  ['Host',\n",
       "   \"Generally speaking, how should voters look at some of the changes that you've made that you've explained some of here in your policy? Is it because you have more experience now and you've learned more about the information? Is it because you were running for president in a Democratic primary? And should they feel comfortable and confident that what you're saying now is going to be your policy moving forward?\"],\n",
       "  ['Harris',\n",
       "   \"Dana, I think the the most important and most significant aspect of my policy perspective and decisions is my values have not changed. You mentioned the Green New Deal. I have always believed and I have worked on it that the climate crisis is real, that it is an urgent matter to which we should apply metrics that include holding ourselves to deadlines around time. We did that with the Inflation Reduction Act. We have set goals for the United States of America and by extension, the globe around when we should meet certain standards for reduction of greenhouse gas emissions. As an example, that value has not changed my value around what we need to do to secure our border. That value has not changed. I spent two terms as the attorney general of California prosecuting transnational criminal organizations, violations of American laws regarding the passage, illegal passage of guns, drugs and human beings across our border. My values have not changed. So that is the reality of it. And four years of being vice president, I'll tell you, one of the aspects, to your point, is traveling the country extensively. I mean, I'm here in Georgia. I think somebody told me 17 times since I've been vice president in Georgia alone. I believe it is important to build consensus and it is important to find a common place of understanding of where we can actually solve problems.\"],\n",
       "  ['Host',\n",
       "   'On that note, you had a lot of Republican speakers at the convention. Will you appoint a Republican to your cabinet?'],\n",
       "  ['Harris',\n",
       "   \"Yes, I would. Anyone in mind? No one in particular in mind. I got 68 days to go with this election, so I'm not putting the cart before the horse, but I would. I think it's really important. I have spent my career inviting diversity of opinion. I think it's important to have people at the table when some of the most important decisions are being made that have different views, different experiences. And I think it would be to the benefit of the American public to have a member of my cabinet who was a Republican.\"],\n",
       "  ['Host',\n",
       "   \"I want to ask you about your opponent, Donald Trump. I was a little bit surprised. People might be surprised to hear that you have never interacted with him, met him face to face. That's going to change soon. But what I want to ask you about is what he said last month. He suggested that you happened to turn black recently for political purposes, questioning a core part of your identity. Yeah. Same old, tired playbook.\"],\n",
       "  ['Harris', \"Next question, please. That's it? That's it. Okay.\"],\n",
       "  ['Host',\n",
       "   \"Let's talk about some foreign policy issues that would be on your plate if you become commander in chief. President Biden has tried unsuccessfully to end the war between Israel and Hamas in Gaza. He's been doing it for months and months, along with you. Would you do anything differently? For example, would you, with the Trump administration, would you do anything differently? For example, would you withhold some U.S. weapons shipments to Israel? That's what a lot of people on the progressive left want you to do.\"],\n",
       "  ['Harris',\n",
       "   \"Let me be very clear. I am unequivocal and unwavering in my commitment to Israel's defense and its ability to defend itself. And that's not going to change. But let's take a step back. October 7, 1,200 people were massacred. Many young people who were simply attending a music festival. Women were horribly raped. As I said then, I say today, Israel has a right to defend itself. We would. And how it does so matters. Far too many innocent Palestinians have been killed. And we have got to get a deal done. We were in Doha. We have to get a deal done. This war must end. And we must get a deal that is about getting the hostages out. I've met with the families of the American hostages. Let's get the hostages out. Let's get the ceasefire done.\"],\n",
       "  ['Host', 'But no change in policy, in terms of arms and so forth?'],\n",
       "  ['Harris',\n",
       "   \"No, we have to get a deal done. Dana, we have to get a deal done. When you look at the significance of this to the families, to the people who are living in that region, a deal is not only the right thing to do to end this war, but will unlock so much of what must happen next. I remain committed, since I've been on October 8, to what we must do to work toward a two-state solution, where Israel is secure and, in equal measure, the Palestinians have security and self-determination and dignity.\"],\n",
       "  ['Host',\n",
       "   \"Governor Walz, the country is just starting to get to know you. I want to ask you a question about how you've described your service in the National Guard. You said that you carried weapons in war, but you have never deployed, actually, in a war zone. A campaign official said that you misspoke. Did you?\"],\n",
       "  ['Walze',\n",
       "   \"Well, first of all, I'm incredibly proud. I've done 24 years of wearing the uniform of this country, equally proud of my service in a public school classroom, whether it's Congress or the governor. My record speaks for itself, but I think people are coming to get to know me. I speak like they do. I speak candidly. I wear my emotions on my sleeves, and I speak especially passionately about our children being shot in schools and around guns. So I think people know me. They know who I am. They know where my heart is, and again, my record has been out there for over 40 years to speak for itself.\"],\n",
       "  ['Host',\n",
       "   'And the idea that you said that you were in war, did you misspeak, as the campaign'],\n",
       "  ['Walze',\n",
       "   \"has said? Yeah. I said we were talking about, in this case, this was after a school shooting, the ideas of carrying these weapons of war. And my wife, the English you're telling my grammar is not always correct, but again, if it's not this, it's an attack on my children for showing love for me, or it's an attack on my dog, I'm not going to do that. And the one thing I'll never do is I'll never demean another member's service in any way. I never have, and I never will.\"],\n",
       "  ['Host',\n",
       "   \"Just one other question, because again, this is all new. This was not however many days ago. This was not on either of your bingo cards, especially yours. You had to clarify that you had said that you and your wife used IVF, but it turned out you used a different kind of fertility in order to have children. And then when you ran for Congress in 2006, your campaign repeatedly made false statements about a 1995 arrest for drunk and reckless driving. What do you say to voters who aren't sure whether they can take you at your word?\"],\n",
       "  ['Walze',\n",
       "   \"Well, I've been very public. I think they can see my students come out, former folks I've served with, and they do, they vouch for me. I certainly own my mistakes when I make them. The one thing I'll tell you is I wished in this country we wouldn't have to do this. I spoke about our infertility issues, because it's hell, and families know this. And I spoke about the treatments that were available to us that had those beautiful children there. That's quite a contrast in folks that are trying to take those rights away from us. And so I think people know who I am. They know that record. They've seen that. I've taught thousands of students. I've been out there. And I won't apologize for speaking passionately, whether it's guns in schools or protecting of reproductive rights. The contrast could not be clearer between what we're running against. The vice president's position on this has been clear. And I think most Americans get it if you've been through that. I don't think they're cutting hairs on IVF or IUI. I think what they're cutting hairs on is an abortion ban and the ability to be able to deny families the chance to have a beautiful child.\"],\n",
       "  ['Host',\n",
       "   \"Vice President Harris, you were a very staunch defender of President Biden's capacity to serve another four years. Right after the debate, you insisted that President Biden is extraordinarily strong. Given where we are now, do you have any regrets about what you told the American people?\"],\n",
       "  ['Harris',\n",
       "   \"No, not at all. Not at all. I have served with President Biden for almost four years now, and I'll tell you, it's one of the greatest honors of my career, truly. He cares so deeply about the American people. He is so smart and loyal to the American people. And I have spent hours upon hours with him, be it in the Oval Office or the Situation Room. He has the intelligence, the commitment and the judgment and disposition that I think the American people rightly deserve in their president. By contrast, the former president has none of that. And so, one, I am so proud to have served as vice president to Joe Biden. And two, I am so proud to be running with Tim Walz for president of the United States and to bring America what I believe the American people deserve, which is a new way forward and turn the page on the last decade of what I believe has been contrary to where the spirit of our country really lies.\"],\n",
       "  ['Host',\n",
       "   'But the last decade, of course, the last three and a half years has been part of your administration.'],\n",
       "  ['Harris',\n",
       "   \"I'm talking about an era that started about a decade ago, where there is some suggestion, warped, I believe it to be, that the measure of the strength of a leader is based on who you beat down, instead of where I believe most Americans are, which is to believe that the true measure of the strength of a leader is based on who you lift up. That's what's at stake as much as any other detail that we could discuss in this election.\"],\n",
       "  ['Host',\n",
       "   \"Because we haven't had a chance to talk, I'm just curious, staying on President Biden, when he called you and said he was pulling out of the race, what was that like? And did he offer to endorse you right away, or did you ask for it?\"],\n",
       "  ['Harris',\n",
       "   \"It was, it was a Sunday. So here, I'll give you a little too much information. Go for it. There's no such thing, Madam Vice President. My family was staying with us, and including my baby nieces. And we had just had pancakes and, you know, Auntie, can I have more bacon? Yes, I'll make you more bacon. And then we were going to sit, we were sitting down to do a puzzle. And the phone rang and it was Joe Biden. And, and he told me what he had decided to do. And I asked him, are you sure? And he said yes. And that's how I learned about it.\"],\n",
       "  ['Host', 'And what about the endorsement? Did you ask for it?'],\n",
       "  ['Harris', 'He was very clear that he was going to support me.'],\n",
       "  ['Host',\n",
       "   \"So when he called to tell you, he said, I'm pulling out of the race and I'm going to support\"],\n",
       "  ['Harris',\n",
       "   \"you. Well, my first thought was not about me, to be honest with you. My first thought was about him. To be honest. I think history is going to show a number of things about Joe Biden's presidency. I think history is going to show that in so many ways it was transformative, be it on what we have accomplished around finally investing in America's infrastructure, investing in new economies, in new industries, what we have done to bring our allies back together and have confidence in who we are as America and grow that alliance, what we have done to stand true to our principles, including one of the most important international rules and norms, which is the importance of sovereignty and territorial integrity. And I think history is going to show not only has Joe Biden led an administration that has achieved those extraordinary successes, but the character of the man is one that he has been in his life and career, including as a president, quite selfless and puts the American people first.\"],\n",
       "  ['Host',\n",
       "   \"I just have to ask you both about two standout moments, aside, of course, from the addresses that you both gave, but standout moments that were perhaps unexpected during the convention. You mentioned one of them, Governor, a moment that you shared, that the world shared with your son, Gus. You were speaking, the camera caught him, so incredibly proud of you, so emotional, saying, that's my dad.\"],\n",
       "  ['Walze',\n",
       "   \"Yeah, I don't know as a father I could have ever imagined that. I'm grateful for so many reasons to be on this ticket, but that moment to understand that moment was really important, to have my son feel a sense of pride in me, that I was trying to do the right thing. And it was, you know, you try and protect your kids, you know, it brings, it brings notoriety and things, but it was just such a visceral, emotional moment that I'm just, I'm grateful I got to experience it. And I'm so proud of him. I'm proud of him. I'm proud of Hope. I'm proud of Gwen. She's a wonderful mother. And these are great kids. I think the one thing he's talking about the era we're in is our politics can be better. It can be different. We can, we can show some of these things and we can have families involved in this. And I hope that there was, I hope people felt that out there and I hope they hug their kids a little tighter because you just never know and life can be kind of hard.\"],\n",
       "  ['Host',\n",
       "   \"And last question, Madam Vice President, the photograph that has gone viral. You were speaking, one of your grandnieces that you were just talking about was watching you accept the nomination. You didn't explicitly talk about gender or race in your speech, but it obviously means a lot to a lot of people and that viral picture really says it. What does it mean to you?\"],\n",
       "  ['Harris',\n",
       "   \"You know, I listen, I am running because I believe that I am the best person to do this job at this moment for all Americans, regardless of race and gender. But I did see that photograph and I was deeply touched by it. And you're right, she's, it's the back of her head, her two little braids and, um, and then I'm in the front of the photograph, obviously speaking, and, um, it's very humbling. It's very humbling in many ways.\"],\n",
       "  ['Host', 'Did she talk to you about it afterwards?'],\n",
       "  ['Harris',\n",
       "   'Oh, she had a lot to talk about. She listened to everything and she listens to everything. Give you your hotcakes? Oh yeah, definitely.'],\n",
       "  ['Host',\n",
       "   'Uh huh. Madam Vice President, Governor Walz, thank you so much for your time. Appreciate it.'],\n",
       "  ['Walz', 'Thanks for having us.'],\n",
       "  ['Harris', 'Thank you, Dana. Thank you.']],\n",
       " 'tokens': ['well',\n",
       "  'there',\n",
       "  'are',\n",
       "  'a',\n",
       "  'number',\n",
       "  'of',\n",
       "  'things',\n",
       "  'i',\n",
       "  'will',\n",
       "  'tell',\n",
       "  'you',\n",
       "  'first',\n",
       "  'and',\n",
       "  'foremost',\n",
       "  'one',\n",
       "  'of',\n",
       "  'my',\n",
       "  'highest',\n",
       "  'priorities',\n",
       "  'is',\n",
       "  'to',\n",
       "  'do',\n",
       "  'what',\n",
       "  'we',\n",
       "  'can',\n",
       "  'to',\n",
       "  'support',\n",
       "  'and',\n",
       "  'strengthen',\n",
       "  'the',\n",
       "  'middle',\n",
       "  'class',\n",
       "  'when',\n",
       "  'i',\n",
       "  'look',\n",
       "  'at',\n",
       "  'the',\n",
       "  'aspirations',\n",
       "  'the',\n",
       "  'goals',\n",
       "  'the',\n",
       "  'ambitions',\n",
       "  'of',\n",
       "  'the',\n",
       "  'american',\n",
       "  'people',\n",
       "  'i',\n",
       "  'think',\n",
       "  'that',\n",
       "  'people',\n",
       "  'are',\n",
       "  'ready',\n",
       "  'for',\n",
       "  'a',\n",
       "  'new',\n",
       "  'way',\n",
       "  'forward',\n",
       "  'in',\n",
       "  'a',\n",
       "  'way',\n",
       "  'that',\n",
       "  'generations',\n",
       "  'of',\n",
       "  'americans',\n",
       "  'have',\n",
       "  'been',\n",
       "  'fueled',\n",
       "  'by',\n",
       "  'hope',\n",
       "  'and',\n",
       "  'by',\n",
       "  'optimism',\n",
       "  'i',\n",
       "  'think',\n",
       "  'sadly',\n",
       "  'in',\n",
       "  'the',\n",
       "  'last',\n",
       "  'decade',\n",
       "  'we',\n",
       "  'have',\n",
       "  'had',\n",
       "  'in',\n",
       "  'the',\n",
       "  'former',\n",
       "  'president',\n",
       "  'someone',\n",
       "  'who',\n",
       "  'has',\n",
       "  'really',\n",
       "  'been',\n",
       "  'pushing',\n",
       "  'an',\n",
       "  'agenda',\n",
       "  'and',\n",
       "  'an',\n",
       "  'environment',\n",
       "  'that',\n",
       "  'is',\n",
       "  'about',\n",
       "  'diminishing',\n",
       "  'the',\n",
       "  'character',\n",
       "  'and',\n",
       "  'the',\n",
       "  'strength',\n",
       "  'of',\n",
       "  'who',\n",
       "  'we',\n",
       "  'are',\n",
       "  'as',\n",
       "  'americans',\n",
       "  'really',\n",
       "  'dividing',\n",
       "  'our',\n",
       "  'nation',\n",
       "  'and',\n",
       "  'i',\n",
       "  'think',\n",
       "  'people',\n",
       "  'are',\n",
       "  'ready',\n",
       "  'to',\n",
       "  'turn',\n",
       "  'the',\n",
       "  'page',\n",
       "  'on',\n",
       "  'that',\n",
       "  'its',\n",
       "  'going',\n",
       "  'to',\n",
       "  'be',\n",
       "  'about',\n",
       "  'one',\n",
       "  'implementing',\n",
       "  'my',\n",
       "  'plan',\n",
       "  'for',\n",
       "  'what',\n",
       "  'i',\n",
       "  'call',\n",
       "  'an',\n",
       "  'opportunity',\n",
       "  'economy',\n",
       "  'ive',\n",
       "  'already',\n",
       "  'laid',\n",
       "  'out',\n",
       "  'a',\n",
       "  'number',\n",
       "  'of',\n",
       "  'proposals',\n",
       "  'in',\n",
       "  'that',\n",
       "  'regard',\n",
       "  'which',\n",
       "  'include',\n",
       "  'what',\n",
       "  'were',\n",
       "  'going',\n",
       "  'to',\n",
       "  'do',\n",
       "  'to',\n",
       "  'bring',\n",
       "  'down',\n",
       "  'the',\n",
       "  'cost',\n",
       "  'of',\n",
       "  'everyday',\n",
       "  'goods',\n",
       "  'what',\n",
       "  'were',\n",
       "  'going',\n",
       "  'to',\n",
       "  'do',\n",
       "  'to',\n",
       "  'invest',\n",
       "  'in',\n",
       "  'americas',\n",
       "  'small',\n",
       "  'businesses',\n",
       "  'what',\n",
       "  'were',\n",
       "  'going',\n",
       "  'to',\n",
       "  'do',\n",
       "  'to',\n",
       "  'invest',\n",
       "  'in',\n",
       "  'families',\n",
       "  'for',\n",
       "  'example',\n",
       "  'extending',\n",
       "  'the',\n",
       "  'child',\n",
       "  'tax',\n",
       "  'credit',\n",
       "  'to',\n",
       "  '6000',\n",
       "  'for',\n",
       "  'families',\n",
       "  'for',\n",
       "  'the',\n",
       "  'first',\n",
       "  'year',\n",
       "  'of',\n",
       "  'their',\n",
       "  'childs',\n",
       "  'life',\n",
       "  'to',\n",
       "  'help',\n",
       "  'them',\n",
       "  'buy',\n",
       "  'a',\n",
       "  'car',\n",
       "  'seat',\n",
       "  'to',\n",
       "  'help',\n",
       "  'them',\n",
       "  'buy',\n",
       "  'baby',\n",
       "  'clothes',\n",
       "  'a',\n",
       "  'crib',\n",
       "  'theres',\n",
       "  'the',\n",
       "  'work',\n",
       "  'that',\n",
       "  'were',\n",
       "  'going',\n",
       "  'to',\n",
       "  'do',\n",
       "  'that',\n",
       "  'is',\n",
       "  'about',\n",
       "  'investing',\n",
       "  'in',\n",
       "  'the',\n",
       "  'american',\n",
       "  'family',\n",
       "  'around',\n",
       "  'affordable',\n",
       "  'housing',\n",
       "  'a',\n",
       "  'big',\n",
       "  'issue',\n",
       "  'in',\n",
       "  'our',\n",
       "  'country',\n",
       "  'right',\n",
       "  'now',\n",
       "  'so',\n",
       "  'there',\n",
       "  'are',\n",
       "  'a',\n",
       "  'number',\n",
       "  'of',\n",
       "  'things',\n",
       "  'on',\n",
       "  'day',\n",
       "  'one',\n",
       "  'what',\n",
       "  'about',\n",
       "  'you',\n",
       "  'well',\n",
       "  'lets',\n",
       "  'start',\n",
       "  'with',\n",
       "  'the',\n",
       "  'fact',\n",
       "  'that',\n",
       "  'when',\n",
       "  'joe',\n",
       "  'biden',\n",
       "  'and',\n",
       "  'i',\n",
       "  'came',\n",
       "  'in',\n",
       "  'office',\n",
       "  'during',\n",
       "  'the',\n",
       "  'height',\n",
       "  'of',\n",
       "  'a',\n",
       "  'pandemic',\n",
       "  'we',\n",
       "  'saw',\n",
       "  'over',\n",
       "  '10',\n",
       "  'million',\n",
       "  'jobs',\n",
       "  'were',\n",
       "  'lost',\n",
       "  'people',\n",
       "  'i',\n",
       "  'mean',\n",
       "  'literally',\n",
       "  'we',\n",
       "  'were',\n",
       "  'all',\n",
       "  'tracking',\n",
       "  'the',\n",
       "  'numbers',\n",
       "  'hundreds',\n",
       "  'of',\n",
       "  'people',\n",
       "  'a',\n",
       "  'day',\n",
       "  'were',\n",
       "  'dying',\n",
       "  'because',\n",
       "  'of',\n",
       "  'covid',\n",
       "  'the',\n",
       "  'economy',\n",
       "  'had',\n",
       "  'crashed',\n",
       "  'in',\n",
       "  'large',\n",
       "  'part',\n",
       "  'all',\n",
       "  'of',\n",
       "  'that',\n",
       "  'because',\n",
       "  'of',\n",
       "  'mismanagement',\n",
       "  'by',\n",
       "  'donald',\n",
       "  'trump',\n",
       "  'of',\n",
       "  'that',\n",
       "  'crisis',\n",
       "  'when',\n",
       "  'we',\n",
       "  'came',\n",
       "  'in',\n",
       "  'our',\n",
       "  'highest',\n",
       "  'priority',\n",
       "  'was',\n",
       "  'to',\n",
       "  'do',\n",
       "  'what',\n",
       "  'we',\n",
       "  'could',\n",
       "  'to',\n",
       "  'rescue',\n",
       "  'america',\n",
       "  'and',\n",
       "  'today',\n",
       "  'we',\n",
       "  'know',\n",
       "  'that',\n",
       "  'we',\n",
       "  'have',\n",
       "  'inflation',\n",
       "  'at',\n",
       "  'under',\n",
       "  '3',\n",
       "  'percent',\n",
       "  'a',\n",
       "  'lot',\n",
       "  'of',\n",
       "  'our',\n",
       "  'policies',\n",
       "  'have',\n",
       "  'led',\n",
       "  'to',\n",
       "  'the',\n",
       "  'reality',\n",
       "  'that',\n",
       "  'america',\n",
       "  'recovered',\n",
       "  'faster',\n",
       "  'than',\n",
       "  'any',\n",
       "  'wealthy',\n",
       "  'nation',\n",
       "  'around',\n",
       "  'the',\n",
       "  'world',\n",
       "  'but',\n",
       "  'you',\n",
       "  'are',\n",
       "  'right',\n",
       "  'prices',\n",
       "  'in',\n",
       "  'particular',\n",
       "  'for',\n",
       "  'groceries',\n",
       "  'are',\n",
       "  'still',\n",
       "  'too',\n",
       "  'high',\n",
       "  'the',\n",
       "  'american',\n",
       "  'people',\n",
       "  'know',\n",
       "  'it',\n",
       "  'i',\n",
       "  'know',\n",
       "  'it',\n",
       "  'which',\n",
       "  'is',\n",
       "  'why',\n",
       "  'my',\n",
       "  'agenda',\n",
       "  'includes',\n",
       "  'what',\n",
       "  'we',\n",
       "  'need',\n",
       "  'to',\n",
       "  'do',\n",
       "  'to',\n",
       "  'bring',\n",
       "  'down',\n",
       "  'the',\n",
       "  'price',\n",
       "  'of',\n",
       "  'groceries',\n",
       "  'for',\n",
       "  'example',\n",
       "  'dealing',\n",
       "  'with',\n",
       "  'an',\n",
       "  'issue',\n",
       "  'like',\n",
       "  'price',\n",
       "  'gouging',\n",
       "  'what',\n",
       "  'we',\n",
       "  'need',\n",
       "  'to',\n",
       "  'do',\n",
       "  'to',\n",
       "  'extend',\n",
       "  'the',\n",
       "  'child',\n",
       "  'tax',\n",
       "  'credit',\n",
       "  'to',\n",
       "  'help',\n",
       "  'young',\n",
       "  'families',\n",
       "  'be',\n",
       "  'able',\n",
       "  'to',\n",
       "  'take',\n",
       "  'care',\n",
       "  'of',\n",
       "  'their',\n",
       "  'children',\n",
       "  'in',\n",
       "  'their',\n",
       "  'most',\n",
       "  'formative',\n",
       "  'years',\n",
       "  'what',\n",
       "  'we',\n",
       "  'need',\n",
       "  'to',\n",
       "  'do',\n",
       "  'to',\n",
       "  'bring',\n",
       "  'down',\n",
       "  'the',\n",
       "  'cost',\n",
       "  'of',\n",
       "  'housing',\n",
       "  'my',\n",
       "  'proposal',\n",
       "  'includes',\n",
       "  'what',\n",
       "  'would',\n",
       "  'be',\n",
       "  'a',\n",
       "  'tax',\n",
       "  'credit',\n",
       "  'of',\n",
       "  'twenty',\n",
       "  'five',\n",
       "  'thousand',\n",
       "  'dollars',\n",
       "  'for',\n",
       "  'first',\n",
       "  'time',\n",
       "  'homebuyers',\n",
       "  'so',\n",
       "  'they',\n",
       "  'can',\n",
       "  'just',\n",
       "  'have',\n",
       "  'enough',\n",
       "  'to',\n",
       "  'put',\n",
       "  'a',\n",
       "  'down',\n",
       "  'payment',\n",
       "  'on',\n",
       "  'a',\n",
       "  'home',\n",
       "  'which',\n",
       "  'is',\n",
       "  'part',\n",
       "  'of',\n",
       "  'the',\n",
       "  'american',\n",
       "  'dream',\n",
       "  'and',\n",
       "  'their',\n",
       "  'aspiration',\n",
       "  'but',\n",
       "  'do',\n",
       "  'it',\n",
       "  'in',\n",
       "  'a',\n",
       "  'way',\n",
       "  'that',\n",
       "  'allows',\n",
       "  'them',\n",
       "  'to',\n",
       "  'actually',\n",
       "  'get',\n",
       "  'on',\n",
       "  'the',\n",
       "  'path',\n",
       "  'to',\n",
       "  'achieving',\n",
       "  'that',\n",
       "  'goal',\n",
       "  'and',\n",
       "  'that',\n",
       "  'dream',\n",
       "  'well',\n",
       "  'first',\n",
       "  'of',\n",
       "  'all',\n",
       "  'we',\n",
       "  'had',\n",
       "  'to',\n",
       "  'recover',\n",
       "  'as',\n",
       "  'an',\n",
       "  'economy',\n",
       "  'and',\n",
       "  'we',\n",
       "  'have',\n",
       "  'done',\n",
       "  'that',\n",
       "  'im',\n",
       "  'very',\n",
       "  'proud',\n",
       "  'of',\n",
       "  'the',\n",
       "  'work',\n",
       "  'that',\n",
       "  'we',\n",
       "  'have',\n",
       "  'done',\n",
       "  'that',\n",
       "  'has',\n",
       "  'brought',\n",
       "  'inflation',\n",
       "  'down',\n",
       "  'to',\n",
       "  'less',\n",
       "  'than',\n",
       "  '3',\n",
       "  'percent',\n",
       "  'the',\n",
       "  'work',\n",
       "  'that',\n",
       "  'we',\n",
       "  'have',\n",
       "  'done',\n",
       "  'to',\n",
       "  'cap',\n",
       "  'the',\n",
       "  'cost',\n",
       "  'of',\n",
       "  'insulin',\n",
       "  'at',\n",
       "  'thirty',\n",
       "  'five',\n",
       "  'dollars',\n",
       "  'a',\n",
       "  'month',\n",
       "  'for',\n",
       "  'seniors',\n",
       "  'donald',\n",
       "  'trump',\n",
       "  'said',\n",
       "  'he',\n",
       "  'was',\n",
       "  'going',\n",
       "  'to',\n",
       "  'do',\n",
       "  'a',\n",
       "  'number',\n",
       "  'of',\n",
       "  'things',\n",
       "  'including',\n",
       "  'allowing',\n",
       "  'medicare',\n",
       "  'to',\n",
       "  'negotiate',\n",
       "  'drug',\n",
       "  'prices',\n",
       "  'never',\n",
       "  'happened',\n",
       "  'we',\n",
       "  'did',\n",
       "  'it',\n",
       "  'so',\n",
       "  'now',\n",
       "  'and',\n",
       "  'as',\n",
       "  'i',\n",
       "  'travel',\n",
       "  'in',\n",
       "  'the',\n",
       "  'state',\n",
       "  'of',\n",
       "  'georgia',\n",
       "  'and',\n",
       "  'around',\n",
       "  'our',\n",
       "  'country',\n",
       "  'the',\n",
       "  'number',\n",
       "  'of',\n",
       "  'seniors',\n",
       "  'that',\n",
       "  'have',\n",
       "  'benefited',\n",
       "  'ive',\n",
       "  'met',\n",
       "  'i',\n",
       "  'was',\n",
       "  'in',\n",
       "  'nevada',\n",
       "  'recently',\n",
       "  'a',\n",
       "  'grandmother',\n",
       "  'who',\n",
       "  'showed',\n",
       "  'me',\n",
       "  'her',\n",
       "  'receipts',\n",
       "  'and',\n",
       "  'before',\n",
       "  'we',\n",
       "  'kept',\n",
       "  'the',\n",
       "  'cost',\n",
       "  'of',\n",
       "  'insulin',\n",
       "  'for',\n",
       "  'seniors',\n",
       "  'at',\n",
       "  'thirty',\n",
       "  'five',\n",
       "  'dollars',\n",
       "  'a',\n",
       "  'month',\n",
       "  'she',\n",
       "  'was',\n",
       "  'playing',\n",
       "  'hundreds',\n",
       "  'of',\n",
       "  'dollars',\n",
       "  'up',\n",
       "  'to',\n",
       "  'thousands',\n",
       "  'of',\n",
       "  'dollars',\n",
       "  'a',\n",
       "  'month',\n",
       "  'for',\n",
       "  'her',\n",
       "  'insulin',\n",
       "  'shes',\n",
       "  'not',\n",
       "  'doing',\n",
       "  'that',\n",
       "  'and',\n",
       "  'you',\n",
       "  'maintain',\n",
       "  'bynomics',\n",
       "  'is',\n",
       "  'a',\n",
       "  'success',\n",
       "  'i',\n",
       "  'maintain',\n",
       "  'that',\n",
       "  'when',\n",
       "  'we',\n",
       "  'do',\n",
       "  'the',\n",
       "  'work',\n",
       "  'of',\n",
       "  'bringing',\n",
       "  'down',\n",
       "  'prescription',\n",
       "  'medication',\n",
       "  'for',\n",
       "  'the',\n",
       "  'american',\n",
       "  'people',\n",
       "  'including',\n",
       "  'capping',\n",
       "  'the',\n",
       "  'cost',\n",
       "  'of',\n",
       "  'the',\n",
       "  'annual',\n",
       "  'cost',\n",
       "  'of',\n",
       "  'prescription',\n",
       "  'medication',\n",
       "  'for',\n",
       "  'seniors',\n",
       "  'at',\n",
       "  'two',\n",
       "  'thousand',\n",
       "  'dollars',\n",
       "  'when',\n",
       "  'we',\n",
       "  'do',\n",
       "  'what',\n",
       "  'we',\n",
       "  'did',\n",
       "  'in',\n",
       "  'the',\n",
       "  'first',\n",
       "  'year',\n",
       "  'of',\n",
       "  'being',\n",
       "  'in',\n",
       "  'office',\n",
       "  'to',\n",
       "  'extend',\n",
       "  'the',\n",
       "  'child',\n",
       "  'tax',\n",
       "  'credit',\n",
       "  'so',\n",
       "  'that',\n",
       "  'we',\n",
       "  'cut',\n",
       "  'child',\n",
       "  'poverty',\n",
       "  'in',\n",
       "  'america',\n",
       "  'by',\n",
       "  'over',\n",
       "  '50',\n",
       "  'percent',\n",
       "  'when',\n",
       "  'we',\n",
       "  'do',\n",
       "  'what',\n",
       "  'we',\n",
       "  'have',\n",
       "  'done',\n",
       "  'to',\n",
       "  'invest',\n",
       "  'in',\n",
       "  'the',\n",
       "  'american',\n",
       "  'people',\n",
       "  'and',\n",
       "  'bringing',\n",
       "  'manufacturing',\n",
       "  'back',\n",
       "  'to',\n",
       "  'the',\n",
       "  'united',\n",
       "  'states',\n",
       "  'so',\n",
       "  'that',\n",
       "  'we',\n",
       "  'created',\n",
       "  'over',\n",
       "  'eight',\n",
       "  'hundred',\n",
       "  'thousand',\n",
       "  'new',\n",
       "  'manufacturing',\n",
       "  'jobs',\n",
       "  'bringing',\n",
       "  'business',\n",
       "  'back',\n",
       "  'to',\n",
       "  'america',\n",
       "  'what',\n",
       "  'we',\n",
       "  'have',\n",
       "  'done',\n",
       "  'to',\n",
       "  'improve',\n",
       "  'the',\n",
       "  'supply',\n",
       "  'chain',\n",
       "  'so',\n",
       "  'were',\n",
       "  'not',\n",
       "  'relying',\n",
       "  'on',\n",
       "  'foreign',\n",
       "  'governments',\n",
       "  'to',\n",
       "  'supply',\n",
       "  'american',\n",
       "  'families',\n",
       "  'with',\n",
       "  'their',\n",
       "  'basic',\n",
       "  'needs',\n",
       "  'ill',\n",
       "  'say',\n",
       "  'that',\n",
       "  'thats',\n",
       "  'good',\n",
       "  'work',\n",
       "  'theres',\n",
       "  'more',\n",
       "  'to',\n",
       "  'do',\n",
       "  'but',\n",
       "  'thats',\n",
       "  'good',\n",
       "  'work',\n",
       "  'no',\n",
       "  'and',\n",
       "  'i',\n",
       "  'made',\n",
       "  'that',\n",
       "  'clear',\n",
       "  'on',\n",
       "  'the',\n",
       "  'debate',\n",
       "  'stage',\n",
       "  'in',\n",
       "  '2020',\n",
       "  'that',\n",
       "  'i',\n",
       "  'would',\n",
       "  'not',\n",
       "  'ban',\n",
       "  'fracking',\n",
       "  'as',\n",
       "  'vice',\n",
       "  'president',\n",
       "  'i',\n",
       "  'did',\n",
       "  'not',\n",
       "  'ban',\n",
       "  'fracking',\n",
       "  'as',\n",
       "  'president',\n",
       "  'i',\n",
       "  'will',\n",
       "  'not',\n",
       "  'ban',\n",
       "  'fracking',\n",
       "  'in',\n",
       "  '2020',\n",
       "  'i',\n",
       "  'made',\n",
       "  'very',\n",
       "  'clear',\n",
       "  'where',\n",
       "  'i',\n",
       "  'stand',\n",
       "  'we',\n",
       "  'are',\n",
       "  'in',\n",
       "  '2024',\n",
       "  'and',\n",
       "  'ive',\n",
       "  'not',\n",
       "  'changed',\n",
       "  'that',\n",
       "  'position',\n",
       "  'nor',\n",
       "  'will',\n",
       "  'i',\n",
       "  'going',\n",
       "  'forward',\n",
       "  'i',\n",
       "  'kept',\n",
       "  'my',\n",
       "  'word',\n",
       "  'and',\n",
       "  'i',\n",
       "  'will',\n",
       "  'keep',\n",
       "  'my',\n",
       "  'word',\n",
       "  'well',\n",
       "  'lets',\n",
       "  'be',\n",
       "  'clear',\n",
       "  'my',\n",
       "  'values',\n",
       "  'have',\n",
       "  'not',\n",
       "  'changed',\n",
       "  'i',\n",
       "  'believe',\n",
       "  'it',\n",
       "  'is',\n",
       "  'very',\n",
       "  'important',\n",
       "  'that',\n",
       "  'we',\n",
       "  'take',\n",
       "  'seriously',\n",
       "  'what',\n",
       "  'we',\n",
       "  'must',\n",
       "  'do',\n",
       "  'to',\n",
       "  'guard',\n",
       "  'against',\n",
       "  'what',\n",
       "  'is',\n",
       "  'a',\n",
       "  'clear',\n",
       "  'crisis',\n",
       "  'in',\n",
       "  'terms',\n",
       "  'of',\n",
       "  'the',\n",
       "  'climate',\n",
       "  'and',\n",
       "  'to',\n",
       "  'do',\n",
       "  'that',\n",
       "  'we',\n",
       "  'can',\n",
       "  'do',\n",
       "  'what',\n",
       "  'we',\n",
       "  'have',\n",
       "  'accomplished',\n",
       "  'thus',\n",
       "  'far',\n",
       "  'the',\n",
       "  'inflation',\n",
       "  'reduction',\n",
       "  'act',\n",
       "  'what',\n",
       "  'we',\n",
       "  'have',\n",
       "  'done',\n",
       "  'to',\n",
       "  'invest',\n",
       "  'by',\n",
       "  'my',\n",
       "  'calculation',\n",
       "  'over',\n",
       "  'probably',\n",
       "  'a',\n",
       "  'trillion',\n",
       "  'dollars',\n",
       "  'over',\n",
       "  'the',\n",
       "  'next',\n",
       "  '10',\n",
       "  'years',\n",
       "  'investing',\n",
       "  'in',\n",
       "  'a',\n",
       "  'clean',\n",
       "  'energy',\n",
       "  'economy',\n",
       "  'what',\n",
       "  'weve',\n",
       "  'already',\n",
       "  'done',\n",
       "  'creating',\n",
       "  'over',\n",
       "  '300000',\n",
       "  'new',\n",
       "  'clean',\n",
       "  'energy',\n",
       "  'jobs',\n",
       "  'that',\n",
       "  'tells',\n",
       "  'me',\n",
       "  'from',\n",
       "  'my',\n",
       "  'experience',\n",
       "  'as',\n",
       "  'vice',\n",
       "  'president',\n",
       "  'we',\n",
       "  'can',\n",
       "  ...]}"
      ]
     },
     "execution_count": 10,
     "metadata": {},
     "output_type": "execute_result"
    }
   ],
   "source": [
    "master_list[1]"
   ]
  },
  {
   "cell_type": "code",
   "execution_count": 11,
   "id": "024e9e8c-8950-4c03-a268-d135e14e2e5f",
   "metadata": {},
   "outputs": [],
   "source": [
    "# Separate lists for each type of interview or podcast\n",
    "harris_interviews_toks = []\n",
    "harris_podcasts_toks = []\n",
    "trump_interviews_toks = []\n",
    "trump_podcasts_toks = []\n",
    "\n",
    "# Filter and append tokens for Harris interviews\n",
    "for item in master_list:\n",
    "    if item['medium'] == 'harris_interviews':\n",
    "        harris_interviews_toks.extend(item['tokens'])\n",
    "    elif item['medium'] == 'harris_podcasts':\n",
    "        harris_podcasts_toks.extend(item['tokens'])\n",
    "    elif item['medium'] == 'trump_interviews':\n",
    "        trump_interviews_toks.extend(item['tokens'])\n",
    "    elif item['medium'] == 'trump_podcasts':\n",
    "        trump_podcasts_toks.extend(item['tokens'])"
   ]
  },
  {
   "cell_type": "markdown",
   "id": "12cab2da-f5c3-490d-b5ed-32fbe264abcd",
   "metadata": {},
   "source": [
    "**To address our key research questions, we have chosen several words to analyze using KWIC.**\n",
    "\n",
    "Issue Focus: % of Issue-Focused Content vs Personal Anecdotes\n",
    "* Words to Analyze: Border, Inflation\n",
    "   \n",
    "Opponent Mentions: Which candidate mentions the other more frequently?\n",
    "* Words to Analyze: 'Trump,' 'Harris'\n",
    "\n",
    "Emotional Language: In which outlet is emotional language utilized more?\n",
    "* Words to Analyze: 'Very', 'Good', 'Bad'\n"
   ]
  },
  {
   "cell_type": "markdown",
   "id": "e98bcf3f-488e-4ed9-b5b4-fdfbeb4ade25",
   "metadata": {},
   "source": [
    "### Issue Focus"
   ]
  },
  {
   "cell_type": "markdown",
   "id": "4bea682e-abf2-4cfb-8b38-436ed7bfdd86",
   "metadata": {},
   "source": [
    "'Border' mentions in Trump Interviews"
   ]
  },
  {
   "cell_type": "code",
   "execution_count": 12,
   "id": "7ab1595b-d1ef-4970-a239-533ba4733669",
   "metadata": {},
   "outputs": [
    {
     "name": "stdout",
     "output_type": "stream",
     "text": [
      "              so she was a  border  czar shes done a\n",
      "       even better but the  border  cant i mean we\n",
      "      theyre very near the  border  and theyre going to\n",
      "      people killed in the  border  look at the afghanistan\n",
      "       did things with the  border  that nobody could have\n",
      "       czar shes the worst  border  czar in the history\n",
      "        to happen shes the  border  czar shes the worst\n",
      "      that coming from the  border  are millions and millions\n",
      "    got the endorsement of  border  patrol all over i\n",
      "       theres never been a  border  czar like this shes\n",
      "         i left office the  border  was the safest it\n",
      "            do i close the  border  and i do two\n",
      "simultaneously i close the  border  we dont want people\n",
      "           and we have the  border  were the safest border\n",
      "         going to make the  border  even better but the\n",
      "            we never had a  border  that safe the famous\n",
      "      we had the strongest  border  in the history of\n",
      "      all over the country  border  patrol virtually every sheriffs\n",
      "       also had the safest  border  in the history of\n",
      "         we had the safest  border  we had the best\n",
      "         right part of the  border  so she was a\n",
      "      have the most unsafe  border  in the history of\n",
      "    border were the safest  border  in the history of\n"
     ]
    }
   ],
   "source": [
    "border_trump_interviews_kwic = make_kwic('border', trump_interviews_toks)\n",
    "border_trump_random_sample = random.sample(border_trump_interviews_kwic, min(30, len(border_trump_interviews_kwic)))\n",
    "print_kwic(border_trump_random_sample)"
   ]
  },
  {
   "cell_type": "markdown",
   "id": "60a3ec42-d9d3-4483-961e-78719aca4452",
   "metadata": {},
   "source": [
    "**Observations**\n",
    "\n",
    "* Criticism of Harris (\"she's the worst border czar\", \"never been a border czar like this\")\n",
    "* Personal Responsibility (\"I left office the border was the safest\", \"We did things with the border that nobody could have\")\n",
    "* Unsafe Border Under Others (\"We have the most unsafe border\", \"Millions and millions coming from the border\")\n"
   ]
  },
  {
   "cell_type": "markdown",
   "id": "253b86bf-80cd-4224-96e5-3c6ca4b5b21c",
   "metadata": {},
   "source": [
    "'Border' mentions in Trump Podcasts"
   ]
  },
  {
   "cell_type": "code",
   "execution_count": 13,
   "id": "c3da2365-fda2-458d-9eea-b9acfbccc1a2",
   "metadata": {
    "scrolled": true
   },
   "outputs": [
    {
     "name": "stdout",
     "output_type": "stream",
     "text": [
      "          she wasnt really the  border  czar but she was\n",
      "               good job on the  border  we had the worst\n",
      "           gonna make a strong  border  they say theyve been\n",
      "             going to seal the  border  and i had it\n",
      "               and i fixed the  border  and i couldnt even\n",
      "             we had the safest  border  and the best border\n",
      "           border and the best  border  in the history of\n",
      "      with the most successful  border  in the history of\n",
      "             of the border our  border  is 25 times worse\n",
      "            is the most unsafe  border  anywhere in the world\n",
      "different things including the  border  et cetera et cetera\n",
      "    comes through the southern  border  and i was with\n",
      "                 on the on the  border  its such a lie\n",
      "        whats happening at our  border  joe when you have\n",
      "          think because of the  border  our border is 25\n",
      "              in charge of the  border  and we have her\n",
      "        couldnt talk about the  border  because i fixed it\n",
      "           i had the strongest  border  but look at that\n",
      "           is going to provide  border  security where has she\n",
      "               the best is the  border  because you have millions\n",
      "       dead coming through the  border  can you believe that\n",
      "              know she was the  border  czar too he put\n",
      "            person who was the  border  czar who now said\n",
      "             to talk about the  border  i was proud of\n",
      "             very tough on the  border  and that includes drugs\n",
      "           could have shut the  border  down without him he\n",
      "           i had the strongest  border  we ever had and\n",
      "            issues we have the  border  we have this we\n",
      "          really bad the worst  border  in history the worst\n",
      "             was strong on the  border  were gonna be strong\n"
     ]
    }
   ],
   "source": [
    "border_trump_podcasts_kwic = make_kwic('border', trump_podcasts_toks)\n",
    "border_trump_podcasts_random_sample = random.sample(border_trump_podcasts_kwic, min(30, len(border_trump_podcasts_kwic)))\n",
    "print_kwic(border_trump_podcasts_random_sample)"
   ]
  },
  {
   "cell_type": "markdown",
   "id": "d0f65ea0-bf0e-4384-8284-b454f96fff12",
   "metadata": {},
   "source": [
    "**Observations**\n",
    "\n",
    "* Criticism of Current Admin: (\"The border was the worst ever\", \"Really bad the worst border in history\")\n",
    "* Trump's Succesess: (\"I ran on the border and I fixed it\", \"I fixed the border and I couldn’t even\", \"Very strong at the border\")"
   ]
  },
  {
   "cell_type": "markdown",
   "id": "6f1e03fd-6588-4937-8965-71ed035ef819",
   "metadata": {},
   "source": [
    "'Border' mentions in Harris Interviews"
   ]
  },
  {
   "cell_type": "code",
   "execution_count": 14,
   "id": "300d2e85-9b9e-4d25-ada4-2eec121e99e3",
   "metadata": {
    "scrolled": true
   },
   "outputs": [
    {
     "name": "stdout",
     "output_type": "stream",
     "text": [
      "           would put 1500 more  border  agents at the border\n",
      "         who actually served a  border  state as attorney general\n",
      "        tell you something the  border  patrol endorsed the bill\n",
      "   contributed to securing our  border  and because he believes\n",
      "             why i believe the  border  patrol agents supported the\n",
      "          people and cross our  border  with the intent of\n",
      "          border agents at the  border  to give those folks\n",
      "       human beings across our  border  my values have not\n",
      "       points of entry between  border  entry points thats the\n",
      "              just down at the  border  talking with border agents\n",
      "          border agents at the  border  which is why i\n",
      "                true that if a  border  security had actually been\n",
      "not believe in decriminalizing  border  crossings and ive not\n",
      "            have put 1500 more  border  agents at the border\n",
      "       the border talking with  border  agents and they will\n",
      "              do to secure our  border  that value has not\n",
      "            more agents on the  border  and let me tell\n",
      "                came up with a  border  security bill well guess\n",
      "         attorney general of a  border  state prosecuted trafficking of\n",
      "           and thats what that  border  security bill would have\n",
      "          what the customs and  border  patrol agents need what\n",
      "             killed the bill a  border  security bill that would\n",
      "           would have had more  border  agents at the border\n",
      "    to actually strengthen the  border  that border bill would\n",
      "    strengthen the border that  border  bill would have put\n",
      "          people who cross our  border  illegally and there should\n",
      "          border agents at the  border  more support for the\n",
      "         security which is the  border  and through bipartisan work\n",
      "              guys down at the  border  these men and women\n",
      "            harm and cross our  border  illegally and i will\n"
     ]
    }
   ],
   "source": [
    "border_harris_interviews_kwic = make_kwic('border', harris_interviews_toks)\n",
    "border_harris_interviews_random_sample = random.sample(border_harris_interviews_kwic, min(30, len(border_harris_interviews_kwic)))\n",
    "print_kwic(border_harris_interviews_random_sample)"
   ]
  },
  {
   "cell_type": "markdown",
   "id": "7e657e1b-43c8-4158-9b78-7d08e55288df",
   "metadata": {},
   "source": [
    "**Observations**\n",
    "\n",
    "* Focus on Legislative Action: (\"Border security bill that would\", \"Came up with a border security bill\", \"That border bill would have put\")\n",
    "* Support for law enforcement: (\"Border patrol agents supported the\", \"Talking with border agents\", \"What the customs and border patrol agents need\")\n",
    "* Strong stance on illegal crossing: (\"Not believe in decriminalizing border crossings\", \"People who cross our border illegally\", \"Harm and cross our border illegally\")"
   ]
  },
  {
   "cell_type": "markdown",
   "id": "fdb82d1a-f8cb-4b2c-a4a3-6fd453eeaf75",
   "metadata": {},
   "source": [
    "‘Border’ mentions in Harris Podcasts"
   ]
  },
  {
   "cell_type": "code",
   "execution_count": 15,
   "id": "a18941b4-3e51-4e97-8f77-e25f9d065720",
   "metadata": {},
   "outputs": [
    {
     "name": "stdout",
     "output_type": "stream",
     "text": [
      "        about having a secure  border  and making sure that\n",
      "         border agents at the  border  ive been down to\n",
      "         border agents at the  border  it would have reduced\n",
      "           have put 1500 more  border  agents at the border\n",
      "      we gotta strengthen the  border  and we need to\n",
      "         put more support for  border  patrol agents put more\n",
      "cares about strengthening the  border  when he had an\n",
      "      have been the strongest  border  security bill in years\n",
      "           have put 1500 more  border  agents at the border\n",
      "         border agents at the  border  to do what we\n",
      "             try and get that  border  security bill passed and\n",
      "          to the border those  border  agents are working around\n",
      "             been down to the  border  those border agents are\n",
      "             to put 1500 more  border  agents at the border\n",
      "       more technology at the  border  but it includes also\n",
      "               came up with a  border  security bill which was\n",
      "        more resources at the  border  which is why i\n",
      "             that in fact the  border  patrol agents have supported\n",
      "   was the strongest toughest  border  security bill in a\n"
     ]
    }
   ],
   "source": [
    "border_harris_podcasts_kwic = make_kwic('border', harris_podcasts_toks)\n",
    "border_harris_podcasts_random_sample = random.sample(border_harris_podcasts_kwic, min(30, len(border_harris_podcasts_kwic)))\n",
    "print_kwic(border_harris_podcasts_random_sample)"
   ]
  },
  {
   "cell_type": "markdown",
   "id": "15d0ddd7-c63a-4513-9727-2b4dbca63a8e",
   "metadata": {},
   "source": [
    "**Observations**\n",
    "\n",
    "* Focus on legislature: (\"Strongest border security bill in years\", \"Border security bill which was\", \"Try and get that border security bill passed\")\n",
    "* Specific actions in bills: (\"Put 1500 more border agents at the border\", \"More resources at the border\", \"More support for border patrol agents\")"
   ]
  },
  {
   "cell_type": "markdown",
   "id": "3437984f-3ff2-4694-b8e9-97d7e2873500",
   "metadata": {},
   "source": [
    "‘Inflation’ mentions in Trump Interviews"
   ]
  },
  {
   "cell_type": "code",
   "execution_count": 16,
   "id": "4eaf471b-fdde-4e44-90b0-2faaaaf85e8e",
   "metadata": {},
   "outputs": [
    {
     "name": "stdout",
     "output_type": "stream",
     "text": [
      "           check that too but  inflation  harris is absolutely destroying\n",
      "           rates down i bring  inflation  way down so people\n",
      "population within our country  inflation  is the worst its\n",
      "            had four years no  inflation  i had four years\n",
      "             down the cost of  inflation  this was all started\n",
      "            two years with no  inflation  because he inherited from\n",
      "      disaster in our country  inflation  is a country buster\n",
      "  class virtually every class  inflation  is a disaster in\n",
      "building because of inflation  inflation  is a disaster and\n",
      "             done to you with  inflation  is a disaster its\n",
      "            had four years no  inflation  i had four years\n",
      "             we had the worst  inflation  in the history of\n",
      "          the numbers its the  inflation  we had the worst\n",
      "               a mess we have  inflation  we have the millions\n",
      "              can with it the  inflation  is absolutely destroying our\n",
      "         my opinion the worst  inflation  weve had they say\n",
      "          our country but the  inflation  is the thing thats\n",
      "       of building because of  inflation  inflation is a disaster\n"
     ]
    }
   ],
   "source": [
    "inflation_trump_interviews_kwic = make_kwic('inflation', trump_interviews_toks)\n",
    "inflation_trump_interviews_random_sample = random.sample(inflation_trump_interviews_kwic, min(30, len(inflation_trump_interviews_kwic)))\n",
    "print_kwic(inflation_trump_interviews_random_sample)"
   ]
  },
  {
   "cell_type": "markdown",
   "id": "87c31e52-2b12-417c-8133-9a6b905fc152",
   "metadata": {},
   "source": [
    "**Observations**\n",
    "\n",
    "* Low inflation during Trump's presidency: (\"Had four years no inflation\", \"Two years with no inflation\")\n",
    "* Criticism of Current levels: (\"Inflation is a disaster\", \"Inflation is the worst its been\"\n",
    ", \"Inflation is absolutely destroying our\")\n"
   ]
  },
  {
   "cell_type": "markdown",
   "id": "6c8984a6-e51d-4b6b-89cd-911007a3eab4",
   "metadata": {},
   "source": [
    "‘Inflation’ mentions in Trump Podcasts"
   ]
  },
  {
   "cell_type": "code",
   "execution_count": 17,
   "id": "c5b5dc23-f2e2-4da9-bc1c-034b70c64090",
   "metadata": {
    "scrolled": true
   },
   "outputs": [
    {
     "name": "stdout",
     "output_type": "stream",
     "text": [
      "       just dont understand where  inflation  comes from inflation comes\n",
      "             too with energy with  inflation  hes been a disaster\n",
      "        of people concerned about  inflation  and inflation is effectively\n",
      "           problem well solve the  inflation  problem which means people\n",
      "               in this company no  inflation  we would have been\n",
      "      disaster with inflation the  inflation  it doesnt matter what\n",
      "                  and wed have no  inflation  and we wouldnt have\n",
      "    concerned about inflation and  inflation  is effectively a tax\n",
      "         goods and services thats  inflation  so really we need\n",
      "             to buy groceries the  inflation  has killed them food\n",
      "               would also have no  inflation  was caused by oil\n",
      "          look what happened with  inflation  because inflations just eating\n",
      "        would have never happened  inflation  would have never happened\n",
      "          have never happened and  inflation  would have never happened\n",
      "        destroyed our country the  inflation  the bad economy but\n",
      "        would have never happened  inflation  would have never happened\n",
      "             in history the worst  inflation  i think in history\n",
      "           nobodys better off now  inflation  has killed it and\n",
      "           it leads to tremendous  inflation  its just a bad\n",
      "              its a disaster with  inflation  the inflation it doesnt\n",
      "                what you make the  inflation  is eating you alive\n",
      "               economy is how bad  inflation  is how bad things\n",
      "                  but its not but  inflation  is caused by government\n",
      "                 gonna get rid of  inflation  and i just wanna\n",
      "       where inflation comes from  inflation  comes from government overspending\n",
      "government overspending you solve  inflation  which improves the living\n"
     ]
    }
   ],
   "source": [
    "inflation_trump_podcasts_kwic = make_kwic('inflation', trump_podcasts_toks)\n",
    "inflation_trump_podcasts_random_sample = random.sample(inflation_trump_podcasts_kwic, min(30, len(inflation_trump_podcasts_kwic)))\n",
    "print_kwic(inflation_trump_podcasts_random_sample)"
   ]
  },
  {
   "cell_type": "markdown",
   "id": "69a39919-c355-4495-a248-44275cac4bb6",
   "metadata": {},
   "source": [
    "**Observations**\n",
    "\n",
    "* Emphasis on the impact of Inflation: (\"Inflation has killed them food\", \"Inflation is eating you alive\", \"Inflation is effectively a tax\")\n",
    "* Contrast with Trump's leadership: (\"We'd have no inflation\", \"Inflation would have never happened\", \"We would have been\")"
   ]
  },
  {
   "cell_type": "markdown",
   "id": "6c0aca90-25e3-4863-b50a-81ae41b0c08f",
   "metadata": {},
   "source": [
    "‘Inflation’ mentions in Harris Interviews"
   ]
  },
  {
   "cell_type": "code",
   "execution_count": 18,
   "id": "ca782e81-1d77-44eb-9a1e-886aa21775e9",
   "metadata": {},
   "outputs": [
    {
     "name": "stdout",
     "output_type": "stream",
     "text": [
      "      them weaker would ignite  inflation  and invite a recession\n",
      "  on infrastructure before the  inflation  reduction act before the\n",
      "         done that has brought  inflation  down to less than\n",
      "have estimated will exasperate  inflation  and invite a recession\n",
      "             know that we have  inflation  at under 3 percent\n",
      "     accomplished thus far the  inflation  reduction act what we\n",
      "             did that with the  inflation  reduction act we have\n"
     ]
    }
   ],
   "source": [
    "inflation_harris_interviews_kwic = make_kwic('inflation', harris_interviews_toks)\n",
    "inflation_harris_interviews_random_sample = random.sample(inflation_harris_interviews_kwic, min(30, len(inflation_harris_interviews_kwic)))\n",
    "print_kwic(inflation_harris_interviews_random_sample)"
   ]
  },
  {
   "cell_type": "markdown",
   "id": "c55981db-9d4a-4c48-8ce7-74e36af08b49",
   "metadata": {},
   "source": [
    "**Observations**\n",
    "* Emphasis on achievements: (\"Inflation at under 3 percent\", \"Brought inflation down to less than\")\n",
    "* Avoiding recession: (\"Ignite inflation and invite a recession\", \"Estimated will exasperate inflation and invite a recession\")"
   ]
  },
  {
   "cell_type": "markdown",
   "id": "09010898-e521-4e77-85d5-dd7b24c64516",
   "metadata": {},
   "source": [
    "‘Inflation’ mentions in Harris Podcasts"
   ]
  },
  {
   "cell_type": "code",
   "execution_count": 19,
   "id": "8dd7a973-40ba-48ca-8e6b-36b6311a06fe",
   "metadata": {},
   "outputs": [
    {
     "name": "stdout",
     "output_type": "stream",
     "text": [
      " the economy would accelerate  inflation  and invite a recession\n",
      "     been wages have outpaced  inflation  inflation is going down\n",
      "    our economy would inflate  inflation  and would bring a\n",
      "            before we did the  inflation  reduction act before we\n",
      "wages have outpaced inflation  inflation  is going down to\n"
     ]
    }
   ],
   "source": [
    "inflation_harris_podcasts_kwic = make_kwic('inflation', harris_podcasts_toks)\n",
    "inflation_harris_podcasts_random_sample = random.sample(inflation_harris_podcasts_kwic, min(30, len(inflation_harris_podcasts_kwic)))\n",
    "print_kwic(inflation_harris_podcasts_random_sample)"
   ]
  },
  {
   "cell_type": "markdown",
   "id": "a371c217-2fb8-45a1-910e-eadd722357a4",
   "metadata": {},
   "source": [
    "**Observations**\n",
    "* Framing of economic trends: (\"Wages have outpaced inflation\", \"Inflation is going down\")\n",
    "* Preventing economic downturn: (\"Inflate inflation and would bring a\", \"Accelerate inflation and invite a recession\")"
   ]
  },
  {
   "cell_type": "markdown",
   "id": "99ad1805-ef90-4db4-9565-bd41395c237d",
   "metadata": {},
   "source": [
    "### Opponent Mentions"
   ]
  },
  {
   "cell_type": "markdown",
   "id": "68f33c34-af22-4475-abfd-1a5ada40db63",
   "metadata": {},
   "source": [
    "'Harris' mentions in Trump Interviews"
   ]
  },
  {
   "cell_type": "code",
   "execution_count": 20,
   "id": "0c184f8d-5435-4ff8-8d4a-b96d8c607f10",
   "metadata": {},
   "outputs": [
    {
     "name": "stdout",
     "output_type": "stream",
     "text": [
      "      that too but inflation  harris  is absolutely destroying this\n",
      "       states senator and so  harris  like i respect you\n",
      "there because because kamala  harris  whos our borders are\n",
      "        it again i suggested  harris  that — lets take\n",
      "           people to come in  harris  but they have to\n",
      "        a few more questions  harris  because of the distance\n",
      "       lady right over there  harris  is a fantastic person\n"
     ]
    }
   ],
   "source": [
    "harris_trump_interviews_kwic = make_kwic('harris', trump_interviews_toks)\n",
    "harris_trump_interviews_random_sample = random.sample(harris_trump_interviews_kwic, min(30, len(harris_trump_interviews_kwic)))\n",
    "print_kwic(harris_trump_interviews_random_sample)"
   ]
  },
  {
   "cell_type": "markdown",
   "id": "76c1df82-71d7-4fa7-81c2-789cc04ac901",
   "metadata": {},
   "source": [
    "**Observations**\n",
    "\n",
    "* Critical Commentary: ('destroying this')\n",
    "* Positive Description ('fantastic person')\n",
    "* Overall neutral tone"
   ]
  },
  {
   "cell_type": "markdown",
   "id": "7b51e9d4-3c66-4735-b8fa-5956f4a71c05",
   "metadata": {},
   "source": [
    "'Harris' mentions in Trump Podcasts"
   ]
  },
  {
   "cell_type": "code",
   "execution_count": 21,
   "id": "84aedbe9-676e-4201-af21-dfb1b35f73f8",
   "metadata": {},
   "outputs": [
    {
     "name": "stdout",
     "output_type": "stream",
     "text": [
      "         this can you imagine  kamala  doing this show if\n",
      "       people would she rests  kamala  rests in fact shes\n",
      "        think you have strong  kamala  voters whats to vote\n",
      "        are some like comrade  kamala  its a little hard\n",
      "        biden and kamala lyin  kamala  theyve done a bad\n",
      "          should he should do  kamala  that would be beautiful\n",
      "           ive seen the worst  kamala  goes on 60 minutes\n",
      "            years youre not a  kamala  person youre a khabib\n",
      "   happened with these people  kamala  and joe you see\n",
      "              when they see a  kamala  or when they see\n",
      "          laying on the floor  kamala  youd be saying call\n",
      " unconstitutional but i think  kamala  should have a test\n",
      "        percent and biden and  kamala  didnt press it it\n",
      "the biden administration with  kamala  is accusing me of\n",
      "            maybe ill call it  kamala  migrant crime the only\n",
      "           kamala youre not a  kamala  person i know you\n",
      "         cetera that was okay  kamala  is a very low\n",
      "           you take away from  kamala  having a beer with\n",
      "         biden and because of  kamala  as just as though\n",
      "            good and you know  kamala  doesnt she doesnt like\n",
      "           be speaking so now  kamala  is doing the same\n",
      "           them angry is what  kamala  and biden have allowed\n",
      "                 saw an ad by  kamala  saying how she is\n",
      "            they say that she  kamala  said that im against\n",
      "      since katrina biden and  kamala  lyin kamala theyve done\n",
      "      american dream and with  kamala  and inderjo i took\n",
      "         cannot be voting for  kamala  kamala youre not a\n",
      "          you what bothers me  kamala  the other day said\n",
      "         be voting for kamala  kamala  youre not a kamala\n",
      "            do you think that  kamala  could do this interview\n"
     ]
    }
   ],
   "source": [
    "harris_trump_podcasts_kwic = make_kwic('k', trump_podcasts_toks)\n",
    "harris_trump_podcasts_random_sample = random.sample(harris_trump_podcasts_kwic, min(30, len(harris_trump_podcasts_kwic)))\n",
    "print_kwic(harris_trump_podcasts_random_sample)\n"
   ]
  },
  {
   "cell_type": "markdown",
   "id": "ba0ebac6-e1cc-49e2-b057-925f80c89bcb",
   "metadata": {},
   "source": [
    "'Trump' mentions in Harris Interviews"
   ]
  },
  {
   "cell_type": "code",
   "execution_count": 22,
   "id": "cf53cd16-df13-4b66-88f1-fa09ff9c4788",
   "metadata": {},
   "outputs": [
    {
     "name": "stdout",
     "output_type": "stream",
     "text": [
      "            month for seniors donald  trump  said he was going\n",
      "         rhetoric coming from donald  trump  that has been designed\n",
      "                    that ad from the  trump  campaign is a little\n",
      "           has happened since donald  trump  allowed roe v wade\n",
      "russias unprovoked aggression donald  trump  if he were president\n",
      "                   go back to donald  trump  who pulled out of\n",
      "          guess what happened donald  trump  got word that this\n",
      "               has said about donald  trump  being a threat to\n",
      "                  come out of donald  trump  people are ready to\n",
      "              just finish and donald  trump  learned about that bill\n",
      "                   20 states we have  trump  abortion bans which some\n",
      "           are exhausted with donald  trump  and his approach because\n",
      "                   as i think donald  trump  would say he did\n",
      "           brain injuries and donald  trump  dismissed them as headaches\n",
      "               between me and donald  trump  my plans are focused\n",
      "                 opposed to a donald  trump  whos constantly focused on\n",
      "         also understand that donald  trump  is running tens of\n",
      "                   and know that the  trump  tax cuts blew up\n",
      "                the fact that donald  trump  handselected three members of\n",
      "                i support and donald  trump  got word of this\n",
      "          of mismanagement by donald  trump  of that crisis when\n",
      "                  is a person donald  trump  who tried to undo\n",
      "             to the president donald  trump  former defense secretaries national\n",
      "                 to that bill donald  trump  got word of it\n",
      "           it forward because donald  trump  would prefer to run\n",
      "                    go im not donald  trump  let me be very\n",
      "             an individual in donald  trump  who openly admires dictators\n",
      "                   a law that donald  trump  actually followed youre probably\n",
      "            the united states donald  trump  has said he would\n",
      "                you listen to donald  trump  if you watch any\n"
     ]
    }
   ],
   "source": [
    "trump_harris_interviews_kwic = make_kwic('trump', harris_interviews_toks)\n",
    "trump_harris_interviews_random_sample = random.sample(trump_harris_interviews_kwic, min(30, len(trump_harris_interviews_kwic)))\n",
    "print_kwic(trump_harris_interviews_random_sample)"
   ]
  },
  {
   "cell_type": "markdown",
   "id": "676bf88f-58e8-4f85-a7d9-f4278420be18",
   "metadata": {},
   "source": [
    "**Observations**\n",
    "\n",
    "* Critical tone: ('trump tax cuts blew up', 'allowed Roe v. wade', 'dismissed them as headaches')\n",
    "* Leadership criticism: ('trump being a threat to', 'openly admires dictators')\n",
    "* Focus on specific actions ('pulled out of', 'handselected three members of', 'allowed Roe v. wade')\n",
    "* Separation from Trump ('i'm not Donald Trump', 'between me and Donald trump')\n",
    "* Media representation: ('trump campaign is a little', 'trump running tens of')"
   ]
  },
  {
   "cell_type": "markdown",
   "id": "875dea03-fc38-4db8-8d4b-af15e6950f86",
   "metadata": {},
   "source": [
    "'Trump' mentions in Harris Podcasts"
   ]
  },
  {
   "cell_type": "code",
   "execution_count": 23,
   "id": "e2bda906-bc98-4926-afe0-6253ac5a0bbf",
   "metadata": {},
   "outputs": [
    {
     "name": "stdout",
     "output_type": "stream",
     "text": [
      "        virginia there is a  trump  abortion ban right and\n",
      "  in people thinking donald  trump  was responsible for and\n",
      "   does anyone think donald  trump  thinks that way thats\n",
      "   the contrast here donald  trump  and his followers spent\n",
      "    to our democracy donald  trump  would go in to\n",
      "     who served with donald  trump  in the white house\n",
      "    election i think donald  trump  is an unserious man\n",
      "     were looking at donald  trump  basically somebody who has\n",
      "    needed tests and donald  trump  during that time secretly\n",
      "  are thinking about donald  trump  he was president and\n",
      "   decision and then donald  trump  never being one to\n",
      "             a state with a  trump  abortion ban you know\n",
      "     the notion that donald  trump  could be president of\n",
      "          fix it and donald  trump  told them hold on\n",
      "military dont forget donald  trump  calling members of our\n",
      "      example of who donald  trump  is that he secretly\n",
      "       be very clear donald  trump  has been very clear\n",
      "           which by the way  trump  did not fix when\n",
      "         now 20 states with  trump  abortion bans including bans\n",
      "         win or lose donald  trump  has promised to seek\n",
      "      so january 6th donald  trump  incited a violent mob\n",
      "      know is unlike donald  trump  weve got 400 million\n",
      "    those two people donald  trump  on that stage spent\n",
      "  they were innocent donald  trump  who said of the\n",
      "   getting them help donald  trump  is fulltime focused on\n",
      "      between me and donald  trump  my plan is about\n",
      "      i believe that donald  trump  has this desire to\n",
      "    the closest with donald  trump  when he was president\n",
      "     examples of who donald  trump  really is yes and\n",
      "      very same time donald  trump  is president secretly sent\n"
     ]
    }
   ],
   "source": [
    "trump_harris_podcasts_kwic = make_kwic('trump', harris_podcasts_toks)\n",
    "trump_harris_podcasts_random_sample = random.sample(trump_harris_podcasts_kwic, min(30, len(trump_harris_podcasts_kwic)))\n",
    "print_kwic(trump_harris_podcasts_random_sample)"
   ]
  },
  {
   "cell_type": "markdown",
   "id": "396f58a1-c1cd-43d1-aeef-4084136fb4e1",
   "metadata": {},
   "source": [
    "**Observations**\n",
    "\n",
    "* Use of Trump's full name\n",
    "* Policy criticms ('died because of trump abortion bans'\n",
    "* Character criticism ('unserious man', 'belittles', 'examples of who donald trump really is', 'secretly sent')\n",
    "* Contrasts with others ('unlike any president before', 'trump abortion bans', 'trump who said of the')"
   ]
  },
  {
   "cell_type": "markdown",
   "id": "5466ccb5-b28e-4e6b-b728-81ad387ef7f8",
   "metadata": {},
   "source": [
    "### Emotional Language"
   ]
  },
  {
   "cell_type": "markdown",
   "id": "b2e57fa7-53db-4611-81cb-608ebcfe303a",
   "metadata": {},
   "source": [
    "‘Very’ mentions in Trump Interviews"
   ]
  },
  {
   "cell_type": "code",
   "execution_count": 24,
   "id": "8ca96041-ae30-40a9-a478-0bd27e052765",
   "metadata": {},
   "outputs": [
    {
     "name": "stdout",
     "output_type": "stream",
     "text": [
      "      bob lighthizer did a  very  good job we had\n",
      "         so far were doing  very  well i mean were\n",
      "         was very rude sir  very  rude it was a\n",
      "     people north korea is  very  nuclear they dont pay\n",
      "           same time its a  very  dangerous thing because we\n",
      "     who have been treated  very  unfairly because you have\n",
      "          north korea is a  very  serious power they have\n",
      "   country and people were  very  worried about — you\n",
      "              me and i got  very  lucky — i really\n",
      "   talking at another club  very  nice club and like\n",
      "           know this he is  very  family oriented and he\n",
      "           mean ive been a  very  successful businessman ive done\n",
      "        yes maam and thats  very  clear now its very\n",
      "  situation because it was  very  well documented in his\n",
      "           know china is a  very  powerful very smart group\n",
      "      tough you know whats  very  tough european union our\n",
      "country left okay currency  very  important yes and if\n",
      "             old and its a  very  different plan its much\n",
      "   product similar to ours  very  good product the phones\n",
      "     a thought because its  very  important you know this\n",
      "        a stupid country a  very  stupid country they cant\n",
      "       instance india is a  very  tough country its not\n",
      "           but his view is  very  different than mine let\n",
      "       and two people were  very  badly hurt and now\n",
      "           sir we like you  very  much but were going\n",
      "    family experience is a  very  important thing its a\n",
      "          pay you become a  very  wealthy country and just\n",
      "     jobs unions are being  very  badly affected by all\n",
      "            you i like you  very  much but its —\n",
      "           are there for a  very  long time and i\n"
     ]
    }
   ],
   "source": [
    "very_trump_interviews_kwic = make_kwic('very', trump_interviews_toks)\n",
    "very_trump_interviews_random_sample = random.sample(very_trump_interviews_kwic, min(30, len(very_trump_interviews_kwic)))\n",
    "print_kwic(very_trump_interviews_random_sample)"
   ]
  },
  {
   "cell_type": "markdown",
   "id": "481c30e5-8de4-491d-bd3d-288136588508",
   "metadata": {},
   "source": [
    "**Observations**\n",
    "\n",
    "* Negative language: ('very sick', 'very hostile nasty', 'very disturbed', 'very rude'"
   ]
  },
  {
   "cell_type": "markdown",
   "id": "797267ef-c6e6-49fd-8668-deaa6b257b3a",
   "metadata": {},
   "source": [
    "‘Very’ mentions in Trump Podcasts"
   ]
  },
  {
   "cell_type": "code",
   "execution_count": 25,
   "id": "fc19e656-cb95-40b8-8a1b-8b4048576643",
   "metadata": {},
   "outputs": [
    {
     "name": "stdout",
     "output_type": "stream",
     "text": [
      "            we have a very  very  corrupt and hence the\n",
      "         and this has been  very  interesting being with you\n",
      "        got along with him  very  well which is a\n",
      "    was you know certainly  very  strong in that sense\n",
      "              and i had it  very  well sealed with the\n",
      "               no it was a  very  nice phone call i\n",
      "          ill get it going  very  quickly because not only\n",
      "        use them theyll be  very  unsuccessful you know part\n",
      "            with me it was  very  very strong very very\n",
      "       hes very strong and  very  powerful and very interesting\n",
      "              it but it is  very  disconcerting i said you\n",
      "          found to be very  very  interesting how hes been\n",
      "  very different story its  very  much i say an\n",
      "to dominate theyre getting  very  big numbers i did\n",
      "        know i mustve been  very  young it was a\n",
      "          way you know its  very  interesting though so khabib\n",
      "         great pilot and a  very  talented other pilots would\n",
      "             ran and i was  very  close to him and\n",
      "       and that sniper was  very  talented to hit the\n",
      "      is very powerful its  very  good and weve got\n",
      "                — it was a  very  dangerous place especially caracas\n",
      "            do i think its  very  crooked thats my opinion\n",
      "            xi we did very  very  well with china we\n",
      "      was very surreal its  very  interesting when i got\n",
      "            think it was a  very  you know its a\n",
      "            to win and its  very  interesting like as an\n",
      "              was no hes a  very  hes a spectacular guy\n",
      "             and this is a  very  small group of people\n",
      "           got to know him  very  well i got to\n",
      "         tell you truth is  very  powerful truth and its\n"
     ]
    }
   ],
   "source": [
    "very_trump_podcasts_kwic = make_kwic('very', trump_podcasts_toks)\n",
    "very_trump_podcasts_random_sample = random.sample(very_trump_podcasts_kwic, min(30, len(very_trump_podcasts_kwic)))\n",
    "print_kwic(very_trump_podcasts_random_sample)"
   ]
  },
  {
   "cell_type": "markdown",
   "id": "f8ea01f0-45de-41bc-a848-658755bd8e93",
   "metadata": {},
   "source": [
    "**Observations**\n",
    "\n",
    "* Negative Language: ('very liberal democrats', 'very bad', 'very corupt', 'very badly'"
   ]
  },
  {
   "cell_type": "markdown",
   "id": "d516c5cb-2ce1-498c-b494-f78fb3f6ce7d",
   "metadata": {},
   "source": [
    "‘Very’ mentions in Harris Interviews"
   ]
  },
  {
   "cell_type": "code",
   "execution_count": 26,
   "id": "eabf8ff5-a7f2-4528-9d01-9e2920ae001f",
   "metadata": {},
   "outputs": [
    {
     "name": "stdout",
     "output_type": "stream",
     "text": [
      "   election there are two  very  different choices one that\n",
      "         years ago and im  very  clear that i will\n",
      "       meet you thank you  very  much heres how i\n",
      "          trump let me be  very  clear my presidency will\n",
      "         the country i am  very  clear cost of groceries\n",
      "           in 2020 i made  very  clear where i stand\n",
      "      speaking and um its  very  humbling its very humbling\n",
      "            all let me be  very  clear mine will not\n",
      "immigration issue that is  very  significant to the american\n",
      "           clear and i am  very  clear as is tim\n",
      "   being presented with a  very  very serious decision about\n",
      "          about it he was  very  clear that he was\n",
      "       has done in making  very  important decisions on behalf\n",
      "             to go and im  very  much grounded in the\n",
      "    presented with a very  very  serious decision about what\n",
      "          i believe it is  very  important that we take\n",
      "          in favor of the  very  fundamental principle that a\n",
      "   president well lets be  very  clear im the only\n",
      "        have done that im  very  proud of the work\n",
      "    its very humbling its  very  humbling in many ways\n",
      "           okay let me be  very  clear i am unequivocal\n",
      "    mention before we are  very  clear and i am\n",
      "     vice president so im  very  clear about where i\n"
     ]
    }
   ],
   "source": [
    "very_harris_interviews_kwic = make_kwic('very', harris_interviews_toks)\n",
    "very_harris_interviews_random_sample = random.sample(very_harris_interviews_kwic, min(30, len(very_harris_interviews_kwic)))\n",
    "print_kwic(very_harris_interviews_random_sample)"
   ]
  },
  {
   "cell_type": "markdown",
   "id": "e4469673-c101-4640-a8ac-f0c679b73a76",
   "metadata": {},
   "source": [
    "**Observations**\n",
    "\n",
    "* Clarity: ([vert clear about where I stand', 'very clear my presidency will'"
   ]
  },
  {
   "cell_type": "markdown",
   "id": "31cc7e53-e7d3-4782-b496-851e080aab22",
   "metadata": {},
   "source": [
    "‘Very’ mentions in Harris Podcasts"
   ]
  },
  {
   "cell_type": "code",
   "execution_count": 27,
   "id": "21fd5707-b3bc-4250-bae2-3d7de8f84975",
   "metadata": {},
   "outputs": [
    {
     "name": "stdout",
     "output_type": "stream",
     "text": [
      "              i do take it  very  seriously so there are\n",
      "          the country in a  very  urban environment you know\n",
      "          my husband i was  very  thoughtful and sensitive to\n",
      "              and so i was  very  intentional about always making\n",
      "          time oh ive been  very  clear i think that\n",
      "    very happy marriage im  very  thankful to say like\n",
      "strength democracy is also  very  fragile it will only\n",
      "       five and just being  very  frank and candid with\n",
      "          is very real and  very  much at stake in\n",
      "       enemies he has been  very  clear that he would\n",
      "          it listen i feel  very  strongly i need to\n",
      "overturned people who felt  very  strong about that they\n",
      "         of all i maintain  very  strongly america should never\n",
      "          and lets also be  very  clear donald trump has\n",
      "          you look in this  very  election legal black immigrants\n",
      "            year it is its  very  like really real like\n",
      "       forces that come in  very  different ways that are\n",
      "        very touched i was  very  touched im a huge\n",
      "     is which is obviously  very  smart so he was\n",
      "             he and i have  very  different musical tastes my\n",
      "    and medical debt thats  very  real so us capping\n",
      " to contraception which is  very  much at risk with\n",
      "         in history but im  very  clear the community is\n",
      "    profound point that is  very  much a part of\n",
      "      be because there are  very  two real paths right\n",
      "            but that was a  very  special time i mean\n",
      "  you for everything thats  very  cool for you to\n",
      "        sense of humor hes  very  i dont want to\n",
      "        when my mother was  very  sick with cancer and\n",
      "            all of this is  very  real and very much\n"
     ]
    }
   ],
   "source": [
    "very_harris_podcasts_kwic = make_kwic('very', harris_podcasts_toks)\n",
    "very_harris_podcasts_random_sample = random.sample(very_harris_podcasts_kwic, min(30, len(very_harris_podcasts_kwic)))\n",
    "print_kwic(very_harris_podcasts_random_sample)"
   ]
  },
  {
   "cell_type": "markdown",
   "id": "7720c74a-a023-4de8-9f7f-73b3855d0533",
   "metadata": {},
   "source": [
    "**Observations**\n",
    "\n",
    "* Background/her life ('very modern family', 'very sick with cancer', 'my husband was very'"
   ]
  },
  {
   "cell_type": "markdown",
   "id": "1cea2f7e-ab93-4b7d-ae92-b1ba0783fc08",
   "metadata": {},
   "source": [
    "‘Good’ mentions in Trump Interviews"
   ]
  },
  {
   "cell_type": "code",
   "execution_count": 28,
   "id": "c02b11ff-fab2-4b4e-93b7-f974e0f2be76",
   "metadata": {
    "scrolled": true
   },
   "outputs": [
    {
     "name": "stdout",
     "output_type": "stream",
     "text": [
      "             i had a very  good  relationship with president xi\n",
      "         me it didnt look  good  to me are you\n",
      "             i did a very  good  job in covid nobody\n",
      "             if i have 20  good  stories and 20 bad\n",
      "     similar to ours very  good  product the phones and\n",
      "         putin and a very  good  relationship with kim jongun\n",
      "      hell he wants thats  good  way to negotiate let\n",
      "        i was always very  good  at mathematics let me\n",
      "    lighthizer did a very  good  job we had great\n",
      "            know i have a  good  heart i have a\n",
      "      and would have been  good  that thats a bad\n",
      "       heard you got very  good  ratings on that interview\n",
      "       it would have been  good  if it was nine\n",
      "        he said all right  good  i said where do\n",
      "            he said its a  good  product i said then\n",
      "             — and a very  good  relationship with putin and\n",
      "            of mine hes a  good  guy hes a smart\n",
      "   good theyre doing very  good  i thought they were\n",
      "something that didnt look  good  to me i didnt\n",
      "       as good but theyre  good  enough i cant go\n",
      "    maralago thats not so  good  and i guess we\n",
      "         the person did a  good  job maybe with crime\n",
      " very good president with  good  sense you should be\n",
      "           abe was a very  good  friend of mine he\n",
      "     dirty steel it wasnt  good  steel which is a\n",
      "       she likes me thats  good  i mean lets say\n",
      "           i came here in  good  spirit i love the\n",
      "      with people thats a  good  thing not a bad\n",
      "         thing its a very  good  thing but that doesnt\n",
      "    plants thats what hes  good  at he doesnt want\n"
     ]
    }
   ],
   "source": [
    "good_trump_interviews_kwic = make_kwic('good', trump_interviews_toks)\n",
    "good_trump_interviews_random_sample = random.sample(good_trump_interviews_kwic, min(30, len(good_trump_interviews_kwic)))\n",
    "print_kwic(good_trump_interviews_random_sample)"
   ]
  },
  {
   "cell_type": "markdown",
   "id": "39b9a5cf-0bfe-43d1-a066-1ab20fda80d9",
   "metadata": {},
   "source": [
    "‘Good’ mentions in Trump Podcasts"
   ]
  },
  {
   "cell_type": "code",
   "execution_count": 29,
   "id": "7d361406-efb6-456d-b697-4efb583586b1",
   "metadata": {
    "scrolled": true
   },
   "outputs": [
    {
     "name": "stdout",
     "output_type": "stream",
     "text": [
      "           fact this is a  good  way of me getting\n",
      "            of them hes a  good  person they called me\n",
      "          at a point very  good  despite the russia russia\n",
      "           its for me its  good  fresh air it really\n",
      "     he thinks this looks  good  because it looks so\n",
      "        gonna have a very  good  election but i tell\n",
      "   viral they were really  good  i think they were\n",
      "             to do a very  good  job and maybe save\n",
      "      good college a very  good  one and he was\n",
      "            i never get a  good  story i only get\n",
      "    my pollsters good guy  good  good guy and i\n",
      "             i had a very  good  relationship thats a good\n",
      "         with you whats a  good  one the ymca man\n",
      "            gonna be in a  good  mood i hope so\n",
      "          and i think hes  good  at what he does\n",
      "             to be not so  good  but no the st\n",
      "that slips forward sounds  good  nice book by the\n",
      "     just pay my respects  good  luck have a good\n",
      "             to be a very  good  shot my sons don\n",
      "      a good student very  good  student theres nobody like\n",
      "         also a good very  good  person elon hes very\n",
      "           tall and hes a  good  boy hes a good\n",
      "       dont know if thats  good  or bad but hes\n",
      "     team yeah hes really  good  hes handling business you\n",
      "             i did such a  good  job she was horrible\n",
      "       didnt think it was  good  for them taking it\n",
      "           and i had some  good  thoughts and people wanted\n",
      "really appreciate it very  good  ben how are you\n",
      "           with them is a  good  thing not a bad\n",
      "       they have not been  good  so well see what\n"
     ]
    }
   ],
   "source": [
    "good_trump_podcasts_kwic = make_kwic('good', trump_podcasts_toks)\n",
    "good_trump_podcasts_random_sample = random.sample(good_trump_podcasts_kwic, min(30, len(good_trump_podcasts_kwic)))\n",
    "print_kwic(good_trump_podcasts_random_sample)"
   ]
  },
  {
   "cell_type": "markdown",
   "id": "22613b13-f525-4a98-8a7e-3125c2f931b6",
   "metadata": {},
   "source": [
    "‘Good’ mentions in Harris Interviews"
   ]
  },
  {
   "cell_type": "code",
   "execution_count": 30,
   "id": "c2109ebd-1c5a-45eb-800f-c5297c730b09",
   "metadata": {},
   "outputs": [
    {
     "name": "stdout",
     "output_type": "stream",
     "text": [
      "  for the time its  good  to meet you thank\n",
      " you thank you its  good  to be with you\n",
      "ill say that thats  good  work theres more to\n",
      "   to do but thats  good  work no and i\n"
     ]
    }
   ],
   "source": [
    "good_harris_interviews_kwic = make_kwic('good', harris_interviews_toks)\n",
    "good_harris_interviews_random_sample = random.sample(good_harris_interviews_kwic, min(30, len(good_harris_interviews_kwic)))\n",
    "print_kwic(good_harris_interviews_random_sample)"
   ]
  },
  {
   "cell_type": "markdown",
   "id": "f2075330-874d-4a4f-9928-9177e47eb9ac",
   "metadata": {},
   "source": [
    "‘Good’ mentions in Harris Podcasts"
   ]
  },
  {
   "cell_type": "code",
   "execution_count": 31,
   "id": "2acf3973-072c-418c-9bea-0f0c95511e05",
   "metadata": {
    "scrolled": true
   },
   "outputs": [
    {
     "name": "stdout",
     "output_type": "stream",
     "text": [
      "         yeah hes such a  good  person history is going\n",
      "      but theres so much  good  in the world so\n",
      "        we dont lack for  good  ideas but we do\n",
      "      i believe you make  good  decisions i got to\n",
      "     breaks my heart and  good  good teams because thats\n",
      "       what made us feel  good  youre so right it\n",
      "      hard work but it’s  good  work and it’s important\n",
      "   seriously ive had the  good  fortune to mentor a\n",
      "principles yeah but just  good  people right like good\n",
      "    have to remember the  good  we have so many\n",
      " our warriors are always  good  whichever era but that\n",
      "   people and things are  good  we are ambitious and\n",
      "  good people right like  good  solid hardworking people and\n",
      "      was not a terribly  good  businessman which is why\n",
      "       is and whos doing  good  in the community what\n",
      "  we should remember the  good  and i dont mean\n",
      "     vacation and have a  good  time have nice christmas\n",
      "have so many hardworking  good  people who i have\n",
      "            you it is so  good  to be with you\n",
      "   inlaws right hes just  good  people listen ive been\n",
      "       my heart and good  good  teams because thats what\n",
      "          you alex it is  good  to be with you\n",
      "            be kind of a  good  mix because then thats\n"
     ]
    }
   ],
   "source": [
    "good_harris_podcasts_kwic = make_kwic('good', harris_podcasts_toks)\n",
    "good_harris_podcasts_random_sample = random.sample(good_harris_podcasts_kwic, min(30, len(good_harris_podcasts_kwic)))\n",
    "print_kwic(good_harris_podcasts_random_sample)"
   ]
  },
  {
   "cell_type": "markdown",
   "id": "e6d4e734-500c-4d1a-aef4-3af60c89d6a2",
   "metadata": {},
   "source": [
    "‘Bad’ mentions in Trump Interviews"
   ]
  },
  {
   "cell_type": "code",
   "execution_count": 32,
   "id": "b32ab921-503d-4867-ba75-9cfcfb07bdb3",
   "metadata": {
    "scrolled": true
   },
   "outputs": [
    {
     "name": "stdout",
     "output_type": "stream",
     "text": [
      "           done that are so  bad  he desperately wants immunity\n",
      "            to me very very  bad  to me i mean\n",
      " difference between being a  bad  person and making an\n",
      "           china all of the  bad  things and the evil\n",
      "       allowed to put those  bad  votes and illegal votes\n",
      "  standpoint they only have  bad  stories in other words\n",
      "          good that thats a  bad  thing hes not saying\n",
      "         all started with a  bad  energy policy by joe\n",
      "        good stories and 20  bad  stories — and everyones\n",
      "          well theyve had a  bad  period of time i\n",
      "           wasnt so thats a  bad  thing and they were\n",
      "             — that were so  bad  that youd have to\n",
      "            only see the 20  bad  stories and i called\n",
      "            and it was also  bad  steel it was what\n",
      "           sense most of my  bad  stories but these are\n",
      "         like biden whos in  bad  shape i wouldnt appoint\n",
      "         deals that were so  bad  that i said who\n",
      "             us on trade so  bad  — the european nations\n",
      "           steel which is a  bad  thing for structural components\n",
      "           mean its in such  bad  shape our country has\n",
      "           was stuck with a  bad  deal i mean i\n",
      "           good thing not a  bad  thing in terms of\n",
      " thousands and thousands of  bad  votes and the justice\n",
      "         right and its only  bad  because of the fake\n",
      "        said well thats not  bad  for one conversation so\n",
      "decision and sometimes very  bad  decisions are made theyre\n",
      "         her game is pretty  bad  i mean she was\n",
      "     same because they have  bad  policy they have policies\n",
      "       of power theyre very  bad  to me very very\n",
      "    and theyre taking their  bad  people drug dealers gang\n"
     ]
    }
   ],
   "source": [
    "bad_trump_interviews_kwic = make_kwic('bad', trump_interviews_toks)\n",
    "bad_trump_interviews_random_sample = random.sample(bad_trump_interviews_kwic, min(30, len(bad_trump_interviews_kwic)))\n",
    "print_kwic(bad_trump_interviews_random_sample)"
   ]
  },
  {
   "cell_type": "markdown",
   "id": "36211b3a-5ed2-4b39-922a-8c2c70a649e2",
   "metadata": {},
   "source": [
    "**Observations**\n",
    "\n",
    "* Referring to opponent's bad choices"
   ]
  },
  {
   "cell_type": "markdown",
   "id": "e1adc6d4-0394-4aa4-8fd7-43589d00076c",
   "metadata": {},
   "source": [
    "‘Bad’ mentions in Trump Podcasts"
   ]
  },
  {
   "cell_type": "code",
   "execution_count": 33,
   "id": "6893793d-ecab-4a34-aee1-6a4917b6c210",
   "metadata": {
    "scrolled": true
   },
   "outputs": [
    {
     "name": "stdout",
     "output_type": "stream",
     "text": [
      "           taking all of their  bad  people really bad people\n",
      "               hes got bad way  bad  way i looked at\n",
      "           the people that are  bad  not only — i\n",
      "      shes incompetent shes as  bad  as biden in a\n",
      "                  bad he is so  bad  he is the worst\n",
      "               look you have a  bad  debate his numbers went\n",
      "                for so long in  bad  conditions you know in\n",
      "              so bad they were  bad  all it was is\n",
      "            no they know whats  bad  people either no its\n",
      "          opposed to waltz how  bad  is he by the\n",
      "          inflation its just a  bad  idea yeah they do\n",
      "           we have some really  bad  people in our government\n",
      "               it was a really  bad  month and a half\n",
      "       neocons yeah neocons or  bad  people or disloyal people\n",
      "            things they are so  bad  its like amateur night\n",
      "              story i only get  bad  press now i will\n",
      "         whole show is talking  bad  about trump yeah hes\n",
      "             all they all have  bad  ratings the one thats\n",
      "           give it theres some  bad  things theyve done a\n",
      "       mean its getting really  bad  over there ill tell\n",
      "            up well nuclear is  bad  i mean i think\n",
      "happened they probably thought  bad  things were happening to\n",
      "           mean maybe she said  bad  things but she didnt\n",
      "             so genius but the  bad  people what they say\n",
      "              i talk about how  bad  were doing how badly\n",
      "       artists and theyre very  bad  for our country so\n",
      "              good thing not a  bad  thing and a lot\n",
      "       tape they looked really  bad  and they had a\n",
      "               and came from a  bad  neighborhood yeah and he\n",
      "             other two were so  bad  that they thought they\n"
     ]
    }
   ],
   "source": [
    "bad_trump_podcasts_kwic = make_kwic('bad', trump_podcasts_toks)\n",
    "bad_trump_podcasts_random_sample = random.sample(bad_trump_podcasts_kwic, min(30, len(bad_trump_podcasts_kwic)))\n",
    "print_kwic(bad_trump_podcasts_random_sample)"
   ]
  },
  {
   "cell_type": "markdown",
   "id": "38e6be8b-3331-4171-8463-92ee3d1c8011",
   "metadata": {},
   "source": [
    "**Observations**\n",
    "\n",
    "* More intense emotion than in the interviews; ('so bad he is the worst', 'its just so bad its so sad')"
   ]
  },
  {
   "cell_type": "markdown",
   "id": "79c39259-2f97-49f9-ad40-c9f1ac7739d7",
   "metadata": {},
   "source": [
    "‘Bad’ mentions in Harris Interviews"
   ]
  },
  {
   "cell_type": "code",
   "execution_count": 34,
   "id": "e816b5dd-edb7-4ca4-a884-ac5d1bfc3e25",
   "metadata": {},
   "outputs": [
    {
     "name": "stdout",
     "output_type": "stream",
     "text": [
      "           no it was a  bad  debate people have bad\n",
      "bad debate people have  bad  debates he is absolutely\n",
      "  understand its not a  bad  thing as long as\n"
     ]
    }
   ],
   "source": [
    "bad_harris_interviews_kwic = make_kwic('bad', harris_interviews_toks)\n",
    "bad_harris_interviews_random_sample = random.sample(bad_harris_interviews_kwic, min(30, len(bad_harris_interviews_kwic)))\n",
    "print_kwic(bad_harris_interviews_random_sample)"
   ]
  },
  {
   "cell_type": "markdown",
   "id": "d3f1cd94-0d92-41d4-8211-e7092c4e11f3",
   "metadata": {},
   "source": [
    "‘Bad’ mentions in Harris Podcasts"
   ]
  },
  {
   "cell_type": "code",
   "execution_count": 35,
   "id": "fa4b9462-4c71-4f3b-a20e-a0450a12ce58",
   "metadata": {},
   "outputs": [
    {
     "name": "stdout",
     "output_type": "stream",
     "text": [
      "    said im a really  bad  driver so thats how\n",
      "   some child who is  bad  its not some child\n",
      " of class theyre the  bad  kid they still start\n",
      "     to go after the  bad  actors where they exist\n",
      "in an emergency some  bad  actors will jack up\n"
     ]
    }
   ],
   "source": [
    "bad_harris_podcasts_kwic = make_kwic('bad', harris_podcasts_toks)\n",
    "bad_harris_podcasts_random_sample = random.sample(bad_harris_podcasts_kwic, min(30, len(bad_harris_podcasts_kwic)))\n",
    "print_kwic(bad_harris_podcasts_random_sample)"
   ]
  },
  {
   "cell_type": "markdown",
   "id": "f35e0cb4-94cd-44b0-85bd-d491359ca2d4",
   "metadata": {},
   "source": [
    "### Other"
   ]
  },
  {
   "cell_type": "markdown",
   "id": "8758491c-ef28-4699-93a9-63e6259ba928",
   "metadata": {},
   "source": [
    "'Problem' mentions in Trump Interviews"
   ]
  },
  {
   "cell_type": "code",
   "execution_count": 36,
   "id": "a13b0a1a-ddbd-474f-9d04-b672e3839a5a",
   "metadata": {},
   "outputs": [
    {
     "name": "stdout",
     "output_type": "stream",
     "text": [
      "     one that has the  problem  i think theyre radical\n",
      "      i would have no  problem  and you do have\n",
      "    going to have any  problem  but youre going to\n",
      "numbers and heres the  problem  we have some of\n",
      "   else now heres the  problem  they say its unconstitutional\n"
     ]
    }
   ],
   "source": [
    "problem_trump_interviews_kwic = make_kwic('problem', trump_interviews_toks)\n",
    "problem_trump_interviews_random_sample = random.sample(problem_trump_interviews_kwic, min(30, len(problem_trump_interviews_kwic)))\n",
    "print_kwic(problem_trump_interviews_random_sample)\n"
   ]
  },
  {
   "cell_type": "markdown",
   "id": "ea319bec-1408-46fb-ab6a-d372d66b8b0c",
   "metadata": {},
   "source": [
    "'Problem' mentions in Trump Podcasts"
   ]
  },
  {
   "cell_type": "code",
   "execution_count": 37,
   "id": "a413b29b-74ba-4902-ac42-cce51ba95417",
   "metadata": {
    "scrolled": true
   },
   "outputs": [
    {
     "name": "stdout",
     "output_type": "stream",
     "text": [
      "          now we have a  problem  because we have this\n",
      "            — we had no  problem  with north korea we\n",
      "       i dont have that  problem  but well first of\n",
      "    get there thats the  problem  we have a number\n",
      "          knew he had a  problem  and its a dont\n",
      "       know there was a  problem  hes been hes an\n",
      "       not gonna have a  problem  with russia russia would\n",
      "          to me the big  problem  is the nuclear power\n",
      "       not to have this  problem  and i couldnt have\n",
      "     that doesnt have a  problem  shes a disaster shes\n",
      "        and they have a  problem  and they say that\n",
      "    united states its a  problem  and we have to\n",
      "    and its obviously a  problem  and its a big\n",
      " said whats the biggest  problem  he said north korea\n",
      "problem from within the  problem  on the outside if\n",
      "  not and everythings a  problem  but its degrees to\n",
      "           but i had no  problem  with it i did\n",
      "      do with where the  problem  is you know she\n",
      "      have to solve the  problem  from within the problem\n",
      "        good yes sir no  problem  well be down in\n",
      "      some people had a  problem  with the audio i\n",
      " said whats the biggest  problem  he said north korea\n",
      "        you dont have a  problem  with the outside but\n",
      "        it up whats the  problem  they cant get their\n",
      "easily actually but the  problem  from within – we\n",
      "         i didnt have a  problem  with north korea no\n",
      "  me thats an immediate  problem  because you have as\n",
      "        you have a drug  problem  he said no they\n",
      "     its a very serious  problem  i mean honestly what\n",
      "  settled but heres the  problem  it should have never\n"
     ]
    }
   ],
   "source": [
    "problem_trump_podcasts_kwic = make_kwic('problem', trump_podcasts_toks)\n",
    "problem_trump_podcasts_random_sample = random.sample(problem_trump_podcasts_kwic, min(30, len(problem_trump_podcasts_kwic)))\n",
    "print_kwic(problem_trump_podcasts_random_sample)"
   ]
  },
  {
   "cell_type": "markdown",
   "id": "b6c03f89-6a2c-45bc-9bcb-c61e442abe71",
   "metadata": {},
   "source": [
    "'Problem' mentions in Harris Interviews"
   ]
  },
  {
   "cell_type": "code",
   "execution_count": 38,
   "id": "b0162310-cf39-4eb5-ae01-b4bebc8399d0",
   "metadata": {},
   "outputs": [
    {
     "name": "stdout",
     "output_type": "stream",
     "text": [
      "   problem not promoting a  problem  ok and the numbers\n",
      "       more about fixing a  problem  even if it is\n",
      "               to run on a  problem  instead of fixing a\n",
      "               to run on a  problem  instead of fixing a\n",
      "   forward i recognize the  problem  dana i think the\n",
      "        are about fixing a  problem  not promoting a problem\n",
      "       instead of fixing a  problem  and in this election\n",
      "       instead of fixing a  problem  and again in this\n",
      "   obstacle to fixing this  problem  my proposal includes strengthening\n",
      "          been on fixing a  problem  and from day one\n",
      "       instead of fixing a  problem  so he told his\n",
      "               to run on a  problem  instead of fixing a\n",
      "forward its a longstanding  problem  and solutions are at\n",
      "       to actually fix the  problem  im glad youre pointing\n"
     ]
    }
   ],
   "source": [
    "problem_harris_interviews_kwic = make_kwic('problem', harris_interviews_toks)\n",
    "problem_harris_interviews_random_sample = random.sample(problem_harris_interviews_kwic, min(30, len(problem_harris_interviews_kwic)))\n",
    "print_kwic(problem_harris_interviews_random_sample)"
   ]
  },
  {
   "cell_type": "markdown",
   "id": "b89f1a06-640c-45bb-83fd-a058b55a417b",
   "metadata": {},
   "source": [
    "'Problem' mentions in Harris Podcasts"
   ]
  },
  {
   "cell_type": "code",
   "execution_count": 39,
   "id": "9adff8a4-66d1-4433-ab57-564ec8fb1a12",
   "metadata": {},
   "outputs": [
    {
     "name": "stdout",
     "output_type": "stream",
     "text": [
      "       a solution to a  problem  which is that we\n",
      "        it would fix a  problem  and told his buddies\n",
      "      came home with a  problem  im telling you every\n",
      "   instead of fixing a  problem  and hes running his\n",
      "     heres part of the  problem  with social security is\n",
      "   instead of fixing a  problem  and is putting out\n",
      "      instead of fix a  problem  and weve got to\n",
      "      came home with a  problem  the first thing my\n",
      "           to run on a  problem  instead of fix a\n",
      "           to run on a  problem  instead of fixing a\n",
      "affordable part of the  problem  there is we have\n",
      "           to run on a  problem  instead of fixing a\n"
     ]
    }
   ],
   "source": [
    "problem_harris_podcasts_kwic = make_kwic('problem', harris_podcasts_toks)\n",
    "problem_harris_podcasts_random_sample = random.sample(problem_harris_podcasts_kwic, min(30, len(problem_harris_podcasts_kwic)))\n",
    "print_kwic(problem_harris_podcasts_random_sample)"
   ]
  },
  {
   "cell_type": "markdown",
   "id": "405239ae-01eb-421f-9ba3-15818f3123f6",
   "metadata": {},
   "source": [
    "'Example' mentions in Trump Interviews"
   ]
  },
  {
   "cell_type": "code",
   "execution_count": 40,
   "id": "faf2a21b-2da2-49c8-a9d4-3b39e1ffb118",
   "metadata": {},
   "outputs": [
    {
     "name": "stdout",
     "output_type": "stream",
     "text": [
      "     give me a quick  example  and then i will\n",
      "   could give you an  example  of this if you\n",
      "    in chicago as an  example  a few weeks ago\n",
      "ill give you another  example  we have a man\n"
     ]
    }
   ],
   "source": [
    "example_trump_interviews_kwic = make_kwic('example', trump_interviews_toks)\n",
    "example_trump_interviews_random_sample = random.sample(example_trump_interviews_kwic, min(30, len(example_trump_interviews_kwic)))\n",
    "print_kwic(example_trump_interviews_random_sample)"
   ]
  },
  {
   "cell_type": "markdown",
   "id": "c13372f9-0f8a-471e-bc75-a2bce2c1380d",
   "metadata": {},
   "source": [
    "'Example' mentions in Trump Podcasts"
   ]
  },
  {
   "cell_type": "code",
   "execution_count": 41,
   "id": "91d7efc9-78d9-41b5-9391-beb3723ebca4",
   "metadata": {},
   "outputs": [
    {
     "name": "stdout",
     "output_type": "stream",
     "text": [
      "       ill give you an  example  i came out when\n",
      " pipp now the ultimate  example  of that was didnt\n",
      "       ill give you an  example  were gonna lose our\n",
      "      mark levin is an  example  they couldnt believe it\n",
      "       this list as an  example  so its such a\n",
      "        ill take as an  example  any one of you\n",
      "         of them as an  example  venezuela their crime is\n",
      "       japan was as an  example  theyll send us millions\n",
      "you take venezuela for  example  venezuela should be incredibly\n",
      "     about trump as an  example  you interview a lot\n",
      "          they — as an  example  the way they pulled\n",
      "interesting like as an  example  tiger or jack nicklaus\n",
      "      hoax thats a big  example  but thats only one\n"
     ]
    }
   ],
   "source": [
    "example_trump_podcasts_kwic = make_kwic('example', trump_podcasts_toks)\n",
    "example_trump_podcasts_random_sample = random.sample(example_trump_podcasts_kwic, min(30, len(example_trump_podcasts_kwic)))\n",
    "print_kwic(example_trump_podcasts_random_sample)"
   ]
  },
  {
   "cell_type": "markdown",
   "id": "eec59576-97dd-4c33-b313-2610692e3ed3",
   "metadata": {},
   "source": [
    "'Example' mentions in Harris Interviews"
   ]
  },
  {
   "cell_type": "code",
   "execution_count": 42,
   "id": "a1e53900-2a9e-42e8-a5b4-d33b9bffb7f1",
   "metadata": {},
   "outputs": [
    {
     "name": "stdout",
     "output_type": "stream",
     "text": [
      "   of leadership i for  example  am someone who has\n",
      "price of groceries for  example  dealing with an issue\n",
      "the private sector for  example  home builders to create\n",
      "invest in families for  example  extending the child tax\n",
      "      i make about for  example  my plan for increasing\n",
      "   gas emissions as an  example  that value has not\n",
      "these are examples the  example  is what im going\n"
     ]
    }
   ],
   "source": [
    "example_harris_interviews_kwic = make_kwic('example', harris_interviews_toks)\n",
    "example_harris_interviews_random_sample = random.sample(example_harris_interviews_kwic, min(30, len(example_harris_interviews_kwic)))\n",
    "print_kwic(example_harris_interviews_random_sample)"
   ]
  },
  {
   "cell_type": "markdown",
   "id": "c044be9e-5ca9-45c3-b9bf-8a9b18f676ae",
   "metadata": {},
   "source": [
    "'Example' mentions in Harris Podcasts"
   ]
  },
  {
   "cell_type": "code",
   "execution_count": 43,
   "id": "a78d0c04-1926-4b0c-8a53-20ea9ba6bca7",
   "metadata": {
    "scrolled": true
   },
   "outputs": [
    {
     "name": "stdout",
     "output_type": "stream",
     "text": [
      "       be addressed so for  example  as only the second\n",
      "     the most recent stark  example  of who donald trump\n",
      "   supportive about so for  example  here in atlanta what\n",
      "         of the things for  example  on domestic violence that\n",
      "        that have gone for  example  to public servants like\n",
      "     of home ownership for  example  black people are 40\n",
      "          every day im for  example  one of my passions\n",
      "     well its just another  example  of him trying to\n",
      "   debt and thankfully for  example  we have billions of\n",
      "        do to increase for  example  the high risk that\n",
      "          when we like for  example  i helped write the\n",
      "  deal with addressing for  example  my work around what\n",
      "very intentional about for  example  knowing that the kids\n",
      "          are a couple for  example  and one of the\n",
      "      ill give you another  example  of why donald trump\n",
      "        of my policies for  example  is to help medicare\n",
      "        growth my plan for  example  okay so some of\n",
      "         going to talk for  example  about how when he\n",
      "          a history of for  example  something that still exists\n",
      "         thats real so for  example  the child tax credit\n",
      "       know i convened for  example  i said this earlier\n",
      "            to them so for  example  through the small business\n",
      "          which is why for  example  we have done the\n",
      "       this is yet another  example  look what he did\n",
      "   people its just another  example  of him doing that\n",
      "        raised that so for  example  groceries yes the price\n",
      "         will offer so for  example  the work that i\n",
      "        has been about for  example  weve talked about it\n"
     ]
    }
   ],
   "source": [
    "example_harris_podcasts_kwic = make_kwic('example', harris_podcasts_toks)\n",
    "example_harris_podcasts_random_sample = random.sample(example_harris_podcasts_kwic, min(30, len(example_harris_podcasts_kwic)))\n",
    "print_kwic(example_harris_podcasts_random_sample)"
   ]
  },
  {
   "cell_type": "markdown",
   "id": "8483e268-1064-4d16-a8bc-0b6f046136d9",
   "metadata": {},
   "source": [
    "**Observations**\n",
    "\n",
    "* In podcasts, Harris gives more examples of Donald Trump's problems that she does in interviews"
   ]
  }
 ],
 "metadata": {
  "citation-manager": {
   "items": {}
  },
  "kernelspec": {
   "display_name": "Python 3.8",
   "language": "python",
   "name": "python3"
  },
  "language_info": {
   "codemirror_mode": {
    "name": "ipython",
    "version": 3
   },
   "file_extension": ".py",
   "mimetype": "text/x-python",
   "name": "python",
   "nbconvert_exporter": "python",
   "pygments_lexer": "ipython3",
   "version": "3.8.8"
  }
 },
 "nbformat": 4,
 "nbformat_minor": 5
}
