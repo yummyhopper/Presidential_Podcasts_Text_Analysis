{
 "cells": [
  {
   "cell_type": "markdown",
   "id": "dc15355d-43fb-45d2-b62e-c2b88aa504bc",
   "metadata": {},
   "source": [
    "# Transcribe (with speaker IDs) audio files\n",
    "\n",
    "### Overview\n",
    "\n",
    "* Audio files (mp3) of interviews and podcasts in `data/audio`\n",
    "* Diarization (giving segments of speech speaker IDs) using picovoice model and API\n",
    "* Transcription of speech using OpenAI Whisper model\n",
    "* **IMPORTANT - OpenAI Whisper Model through API has a limit of 25Mb for an audio file to transcribe**\n",
    "---"
   ]
  },
  {
   "cell_type": "markdown",
   "id": "3b80c357-31e0-4643-8d2a-882b19154854",
   "metadata": {},
   "source": [
    "### Setup"
   ]
  },
  {
   "cell_type": "code",
   "execution_count": 64,
   "id": "69f392a9-78ef-4eeb-90e9-119b986756b5",
   "metadata": {
    "scrolled": true
   },
   "outputs": [],
   "source": [
    "import pvfalcon\n",
    "from openai import OpenAI\n",
    "from dotenv import load_dotenv\n",
    "\n",
    "import re\n",
    "import os\n",
    "import shutil\n",
    "import json\n",
    "import glob\n",
    "\n",
    "_ = load_dotenv()"
   ]
  },
  {
   "cell_type": "markdown",
   "id": "63ef9793-7135-40f1-a5e0-e79e1cc54c34",
   "metadata": {},
   "source": [
    "#### Set up model access"
   ]
  },
  {
   "cell_type": "code",
   "execution_count": 65,
   "id": "176de27a-9485-44dd-88ae-acf84a6ee20e",
   "metadata": {},
   "outputs": [],
   "source": [
    "os.environ['ACCESS_KEY'] = 'IgAZ8Ob8wFjSNjp765e+MsvjFLzEKKM/2GUUyxc9TPR+zSXMg7u8MA=='"
   ]
  },
  {
   "cell_type": "code",
   "execution_count": 66,
   "id": "73e0be73-9615-4c8e-8e47-bd280fe66005",
   "metadata": {},
   "outputs": [],
   "source": [
    "falcon = pvfalcon.create(access_key=os.environ['ACCESS_KEY'])\n",
    "client = OpenAI()"
   ]
  },
  {
   "cell_type": "code",
   "execution_count": 67,
   "id": "06701543-ad13-48da-9476-a5945a066bfa",
   "metadata": {},
   "outputs": [],
   "source": [
    "# parameters\n",
    "\n",
    "# where are audio files\n",
    "AUDIO_DIR = '../data/audio'"
   ]
  },
  {
   "cell_type": "markdown",
   "id": "87bb636a-309d-49c2-90bb-2e9c7579c056",
   "metadata": {},
   "source": [
    "#### Get list of mp3 files in `AUDIO_DIR`"
   ]
  },
  {
   "cell_type": "code",
   "execution_count": 68,
   "id": "6b86b816-fe83-42b8-bbf0-acbfb79923b9",
   "metadata": {},
   "outputs": [
    {
     "data": {
      "text/plain": [
       "67"
      ]
     },
     "execution_count": 68,
     "metadata": {},
     "output_type": "execute_result"
    }
   ],
   "source": [
    "mp3_files = glob.glob(f'{AUDIO_DIR}/*/*.mp3')\n",
    "len(mp3_files)"
   ]
  },
  {
   "cell_type": "markdown",
   "id": "3307a943-94a8-49a0-8de9-7dcc2eb91e2c",
   "metadata": {},
   "source": [
    "#### Fix filenames\n",
    "\n",
    "* **NOTE** do not want spaces or quotes and parentheses in file names\n",
    "* Some of the mp3 files had long filenames with these characters\n",
    "* The following code cell will clean up mp3 filenames"
   ]
  },
  {
   "cell_type": "code",
   "execution_count": 69,
   "id": "d12e6146-27ea-45a0-9357-d9e0435f8507",
   "metadata": {},
   "outputs": [],
   "source": [
    "# Preprocessing to rename audio files to remove spaces etc.\n",
    "\n",
    "replace_RE = re.compile('[,()\\'‘’]')\n",
    "\n",
    "for m3 in mp3_files:\n",
    "    fname = m3.split('/')[-1]\n",
    "    new_fname = re.sub('_+','_',re.sub('\\s+','_',replace_RE.sub('',fname)))\n",
    "    if fname != new_fname:\n",
    "        new_fname = m3.replace(fname, new_fname)\n",
    "        shutil.move(m3, new_fname)"
   ]
  },
  {
   "cell_type": "code",
   "execution_count": 70,
   "id": "2762e388-0157-44f6-9688-4d873f47dffa",
   "metadata": {},
   "outputs": [
    {
     "data": {
      "text/plain": [
       "['../data/audio/harris_interviews/Harris_60_Minutes.mp3',\n",
       " '../data/audio/harris_interviews/Harris_CNN_Part_1.mp3',\n",
       " '../data/audio/harris_interviews/Harris_CNN_Part_2.mp3',\n",
       " '../data/audio/harris_interviews/Harris_CNN_Part_3.mp3',\n",
       " '../data/audio/harris_interviews/Harris_Fox_News.mp3',\n",
       " '../data/audio/harris_interviews/Harris_NBC.mp3',\n",
       " '../data/audio/harris_podcasts/Harris_All_The_Smoke_Part_1.mp3',\n",
       " '../data/audio/harris_podcasts/Harris_All_The_Smoke_Part_2.mp3',\n",
       " '../data/audio/harris_podcasts/Harris_All_The_Smoke_Part_3.mp3',\n",
       " '../data/audio/harris_podcasts/Harris_Club_Shay_Shay_Part_1.mp3',\n",
       " '../data/audio/harris_podcasts/Harris_Club_Shay_Shay_Part_2.mp3',\n",
       " '../data/audio/harris_podcasts/Harris_Club_Shay_Shay_Part_3.mp3',\n",
       " '../data/audio/harris_podcasts/Harris_Howard_Stern_Part_1.mp3',\n",
       " '../data/audio/harris_podcasts/Harris_Howard_Stern_Part_2.mp3',\n",
       " '../data/audio/harris_podcasts/Harris_Howard_Stern_Part_3.mp3',\n",
       " '../data/audio/harris_podcasts/Harris_The_Breakfast_Club_Part_1.mp3',\n",
       " '../data/audio/harris_podcasts/Harris_The_Breakfast_Club_Part_2.mp3',\n",
       " '../data/audio/harris_podcasts/Harris_The_Breakfast_Club_Part_3.mp3',\n",
       " '../data/audio/trump_interviews/Trump_Bloomberg_Part_1.mp3',\n",
       " '../data/audio/trump_interviews/Trump_Bloomberg_Part_2.mp3',\n",
       " '../data/audio/trump_interviews/Trump_Bloomberg_Part_3.mp3',\n",
       " '../data/audio/trump_interviews/Trump_Fox_News_Faulkner.mp3',\n",
       " '../data/audio/trump_interviews/Trump_Fox_News_Ingram.mp3',\n",
       " '../data/audio/trump_interviews/Trump_NABJ_Part_1.mp3',\n",
       " '../data/audio/trump_interviews/Trump_NABJ_Part_2.mp3',\n",
       " '../data/audio/trump_podcasts/Trump_Adin_Ross_Part_1.mp3',\n",
       " '../data/audio/trump_podcasts/Trump_Adin_Ross_Part_2.mp3',\n",
       " '../data/audio/trump_podcasts/Trump_Adin_Ross_Part_3.mp3',\n",
       " '../data/audio/trump_podcasts/Trump_Adin_Ross_Part_4.mp3',\n",
       " '../data/audio/trump_podcasts/Trump_Ben_Shapiro_Part_1.mp3',\n",
       " '../data/audio/trump_podcasts/Trump_Ben_Shapiro_Part_2.mp3',\n",
       " '../data/audio/trump_podcasts/Trump_Ben_Shapiro_Part_3.mp3',\n",
       " '../data/audio/trump_podcasts/Trump_Bussin_With_The_Boys_Part_1.mp3',\n",
       " '../data/audio/trump_podcasts/Trump_Bussin_With_The_Boys_Part_2.mp3',\n",
       " '../data/audio/trump_podcasts/Trump_Bussin_With_The_Boys_Part_3.mp3',\n",
       " '../data/audio/trump_podcasts/Trump_Bussin_With_The_Boys_Part_4.mp3',\n",
       " '../data/audio/trump_podcasts/Trump_Bussin_With_The_Boys_Part_5.mp3',\n",
       " '../data/audio/trump_podcasts/Trump_Bussin_With_The_Boys_Part_6.mp3',\n",
       " '../data/audio/trump_podcasts/Trump_Elon_Musk_Part_1.mp3',\n",
       " '../data/audio/trump_podcasts/Trump_Elon_Musk_Part_2.mp3',\n",
       " '../data/audio/trump_podcasts/Trump_Elon_Musk_Part_3.mp3',\n",
       " '../data/audio/trump_podcasts/Trump_Elon_Musk_Part_4.mp3',\n",
       " '../data/audio/trump_podcasts/Trump_Elon_Musk_Part_5.mp3',\n",
       " '../data/audio/trump_podcasts/Trump_Flagrant_Part_1.mp3',\n",
       " '../data/audio/trump_podcasts/Trump_Flagrant_Part_2.mp3',\n",
       " '../data/audio/trump_podcasts/Trump_Flagrant_Part_3.mp3',\n",
       " '../data/audio/trump_podcasts/Trump_Flagrant_Part_4.mp3',\n",
       " '../data/audio/trump_podcasts/Trump_Impaulsive_Part_1.mp3',\n",
       " '../data/audio/trump_podcasts/Trump_Impaulsive_Part_2.mp3',\n",
       " '../data/audio/trump_podcasts/Trump_Joe_Rogan_Part_1.mp3',\n",
       " '../data/audio/trump_podcasts/Trump_Joe_Rogan_Part_2.mp3',\n",
       " '../data/audio/trump_podcasts/Trump_Joe_Rogan_Part_3.mp3',\n",
       " '../data/audio/trump_podcasts/Trump_Joe_Rogan_Part_4.mp3',\n",
       " '../data/audio/trump_podcasts/Trump_Joe_Rogan_Part_5.mp3',\n",
       " '../data/audio/trump_podcasts/Trump_Joe_Rogan_Part_6.mp3',\n",
       " '../data/audio/trump_podcasts/Trump_Lex_Friedman_Part_1.mp3',\n",
       " '../data/audio/trump_podcasts/Trump_Lex_Friedman_Part_2.mp3',\n",
       " '../data/audio/trump_podcasts/Trump_Nelk_Boys_Part_1.mp3',\n",
       " '../data/audio/trump_podcasts/Trump_Nelk_Boys_Part_2.mp3',\n",
       " '../data/audio/trump_podcasts/Trump_PBD_Podcast_Part_1.mp3',\n",
       " '../data/audio/trump_podcasts/Trump_PBD_Podcast_Part_2.mp3',\n",
       " '../data/audio/trump_podcasts/Trump_PBD_Podcast_Part_3.mp3',\n",
       " '../data/audio/trump_podcasts/Trump_PBD_Podcast_Part_4.mp3',\n",
       " '../data/audio/trump_podcasts/Trump_PBD_Podcast_Part_5.mp3',\n",
       " '../data/audio/trump_podcasts/Trump_Theo_Von_Part_1.mp3',\n",
       " '../data/audio/trump_podcasts/Trump_Theo_Von_Part_2.mp3',\n",
       " '../data/audio/trump_podcasts/Trump_Theo_Von_Part_3.mp3']"
      ]
     },
     "execution_count": 70,
     "metadata": {},
     "output_type": "execute_result"
    }
   ],
   "source": [
    "mp3_files"
   ]
  },
  {
   "cell_type": "markdown",
   "id": "88395ec2-fd91-45d1-95b0-f406bd529d3d",
   "metadata": {},
   "source": [
    "## Key Functions\n",
    "\n",
    "1. `get_speaker_ids(file_path)`\n",
    "2. `get_transcript(file_path)`\n",
    "3. `create_transcript(file_path)`"
   ]
  },
  {
   "cell_type": "code",
   "execution_count": 71,
   "id": "576d44e1-8230-4f4f-b774-d9d1ec5f972f",
   "metadata": {},
   "outputs": [],
   "source": [
    "def get_speaker_ids(file_path):\n",
    "    '''\n",
    "    Get speaker IDs (diarization) from audio (mp3) file using picovoice model API call\n",
    "\n",
    "    1. Check if file `file_path` has already been processed and has a file_path_SPEAKER.json \n",
    "       file already\n",
    "\n",
    "    2. If not already processed call API and handle errors\n",
    "\n",
    "    3. Create list of dictionaries and save as a JSON file\n",
    "    '''\n",
    "    \n",
    "    filename=file_path.split('/')[-1]\n",
    "    \n",
    "    # 1. check if the diarization has already but run and saved\n",
    "    diary_json = file_path.replace('/audio/','/raw_transcripts/').replace('.mp3','_SPEAKERS.json')\n",
    "    if os.path.exists(diary_json):\n",
    "        print(f\"SPEAKER IDS ALREADY OBTAINED FOR {filename}\")\n",
    "        return\n",
    "\n",
    "    # 2. if no JSON file \n",
    "\n",
    "    try:\n",
    "        print(f'Calling picovoice model for {filename}')\n",
    "        segments = falcon.process_file(file_path)\n",
    "    except pvfalcon.FalconError as e:\n",
    "        print('Error trying to call picovoice model', e)\n",
    "        return\n",
    "\n",
    "    # 3. convert segments object into JSON and save\n",
    "    fields = ('speaker_tag', 'start_sec', 'end_sec')\n",
    "    \n",
    "    segment_list = []\n",
    "    for segment in segments:\n",
    "        seg_dict=dict(zip(\n",
    "            fields,\n",
    "            (segment.speaker_tag, segment.start_sec, segment.end_sec)\n",
    "        ))\n",
    "        segment_list.append(seg_dict)\n",
    "\n",
    "    # 4. write segment data structure out to JSON file in `data/raw_transcripts`\n",
    "    with open(diary_json, 'w') as out:\n",
    "        out.write(json.dumps(segment_list, indent=4))\n",
    "        "
   ]
  },
  {
   "cell_type": "code",
   "execution_count": 72,
   "id": "fd48d4fc-bba4-409b-baab-5d9ebf52d08f",
   "metadata": {},
   "outputs": [],
   "source": [
    "def get_transcript(file_path):\n",
    "    filename=file_path.split('/')[-1]\n",
    "\n",
    "    # 1. check if the whisper transcript has already but run and saved\n",
    "    transcript_json = file_path.replace('/audio/','/raw_transcripts/').replace('.mp3','_TRANSCRIPT.json')\n",
    "    if os.path.exists(transcript_json):\n",
    "        print(f\"WHISPER API TRANSCRIPT ALREADY OBTAINED FOR {filename}\")\n",
    "        return\n",
    "\n",
    "    # 2. if no JSON file make call to Whisper API\n",
    "\n",
    "    audio_file= open(file_path, \"rb\")\n",
    "\n",
    "    try:\n",
    "        print(f'Calling OpenAI Whisper API for {filename}')\n",
    "\n",
    "        transcript = client.audio.transcriptions.create(\n",
    "          file=audio_file,\n",
    "          model=\"whisper-1\",\n",
    "          response_format=\"verbose_json\",\n",
    "          timestamp_granularities=[\"segment\"]\n",
    "        )\n",
    "    except Exception as e:\n",
    "        print('ERROR trying to get transcript from OpenAI Whisper API call', e)\n",
    "        return\n",
    "\n",
    "\n",
    "    with open(transcript_json, 'w') as out:\n",
    "        out.write(transcript.json())\n",
    "        "
   ]
  },
  {
   "cell_type": "code",
   "execution_count": 73,
   "id": "3c1b1336-a0bf-4806-8473-538c3d579a99",
   "metadata": {},
   "outputs": [],
   "source": [
    "def segment_score(transcript_segment, speaker_segment):\n",
    "    transcript_segment_start = transcript_segment[\"start\"]\n",
    "    transcript_segment_end = transcript_segment[\"end\"]\n",
    "    speaker_segment_start = speaker_segment[\"start_sec\"]\n",
    "    speaker_segment_end = speaker_segment[\"end_sec\"]\n",
    "\n",
    "    overlap = min(transcript_segment_end, speaker_segment_end) - max(transcript_segment_start, speaker_segment_start)\n",
    "    try:\n",
    "        overlap_ratio = overlap / (transcript_segment_end - transcript_segment_start)\n",
    "    except:\n",
    "        overlap_ratio = -1\n",
    "    return overlap_ratio"
   ]
  },
  {
   "cell_type": "code",
   "execution_count": 74,
   "id": "6100f48d-d39d-43a0-bb17-34f94784218b",
   "metadata": {},
   "outputs": [],
   "source": [
    "def create_transcript(file_path, output='text'):\n",
    "\n",
    "    # 1. Check for JSON files for speakers and transcript\n",
    "    diary_json = file_path.replace('/audio/','/raw_transcripts/').replace('.mp3','_SPEAKERS.json')\n",
    "    transcript_json = file_path.replace('/audio/','/raw_transcripts/').replace('.mp3','_TRANSCRIPT.json')\n",
    "\n",
    "    if not os.path.exists(diary_json) or not os.path.exists(transcript_json):\n",
    "        print('Cannot create transcript because TRANSCRIPT and/or SPEAKERS json file(s) missing')\n",
    "        return \n",
    "\n",
    "\n",
    "    # 2. Load JSON files for speaker ids and transcript segments\n",
    "    speaker_segments = json.load(open(diary_json))\n",
    "    transcript_segments = json.load(open(transcript_json))\n",
    "\n",
    "\n",
    "\n",
    "    transcript = []\n",
    "    \n",
    "    # 3. combine speaker ids and transcript segments\n",
    "    for t_segment in transcript_segments['segments']:\n",
    "        #print(t_segment)\n",
    "        max_score = 0\n",
    "        best_s_segment = None\n",
    "        for s_segment in speaker_segments:\n",
    "            score = segment_score(t_segment, s_segment)\n",
    "            if score > max_score:\n",
    "                max_score = score\n",
    "                best_s_segment = s_segment\n",
    "\n",
    "        speaker = \"UNKNOWN\" if not best_s_segment else best_s_segment['speaker_tag']\n",
    "        \n",
    "        transcript.append({\"speaker\": speaker, \"text\": t_segment['text']})\n",
    "\n",
    "    # write the output\n",
    "\n",
    "    suffix = \".json\" if output.lower()=='json' else \".txt\"\n",
    "    \n",
    "    output_filename = file_path.replace('/audio/','/transcriptions/').replace('.mp3',suffix)\n",
    "\n",
    "    with open(output_filename, 'w') as out:\n",
    "        if suffix=='json':\n",
    "            out.write(json.dumps(transcript, indent=4))\n",
    "        else:\n",
    "            transcript_txt = [f\"SPEAKER {line['speaker']}:\\t{line['text']}\" for line in transcript]\n",
    "            out.write('\\n'.join(transcript_txt))"
   ]
  },
  {
   "cell_type": "markdown",
   "id": "0228ed67-ea02-48e1-b37e-5bcc1f7880ff",
   "metadata": {},
   "source": [
    "### Get speaker ids"
   ]
  },
  {
   "cell_type": "code",
   "execution_count": 75,
   "id": "4e620b83-58cc-4a1f-8b3a-4c7cc4cc75c0",
   "metadata": {
    "scrolled": true
   },
   "outputs": [
    {
     "name": "stdout",
     "output_type": "stream",
     "text": [
      "SPEAKER IDS ALREADY OBTAINED FOR Harris_60_Minutes.mp3\n",
      "SPEAKER IDS ALREADY OBTAINED FOR Harris_CNN_Part_1.mp3\n",
      "SPEAKER IDS ALREADY OBTAINED FOR Harris_CNN_Part_2.mp3\n",
      "SPEAKER IDS ALREADY OBTAINED FOR Harris_CNN_Part_3.mp3\n",
      "SPEAKER IDS ALREADY OBTAINED FOR Harris_Fox_News.mp3\n",
      "SPEAKER IDS ALREADY OBTAINED FOR Harris_NBC.mp3\n",
      "SPEAKER IDS ALREADY OBTAINED FOR Harris_All_The_Smoke_Part_1.mp3\n",
      "SPEAKER IDS ALREADY OBTAINED FOR Harris_All_The_Smoke_Part_2.mp3\n",
      "SPEAKER IDS ALREADY OBTAINED FOR Harris_All_The_Smoke_Part_3.mp3\n",
      "SPEAKER IDS ALREADY OBTAINED FOR Harris_Club_Shay_Shay_Part_1.mp3\n",
      "SPEAKER IDS ALREADY OBTAINED FOR Harris_Club_Shay_Shay_Part_2.mp3\n",
      "SPEAKER IDS ALREADY OBTAINED FOR Harris_Club_Shay_Shay_Part_3.mp3\n",
      "SPEAKER IDS ALREADY OBTAINED FOR Harris_Howard_Stern_Part_1.mp3\n",
      "SPEAKER IDS ALREADY OBTAINED FOR Harris_Howard_Stern_Part_2.mp3\n",
      "SPEAKER IDS ALREADY OBTAINED FOR Harris_Howard_Stern_Part_3.mp3\n",
      "SPEAKER IDS ALREADY OBTAINED FOR Harris_The_Breakfast_Club_Part_1.mp3\n",
      "SPEAKER IDS ALREADY OBTAINED FOR Harris_The_Breakfast_Club_Part_2.mp3\n",
      "SPEAKER IDS ALREADY OBTAINED FOR Harris_The_Breakfast_Club_Part_3.mp3\n",
      "SPEAKER IDS ALREADY OBTAINED FOR Trump_Bloomberg_Part_1.mp3\n",
      "SPEAKER IDS ALREADY OBTAINED FOR Trump_Bloomberg_Part_2.mp3\n",
      "SPEAKER IDS ALREADY OBTAINED FOR Trump_Bloomberg_Part_3.mp3\n",
      "SPEAKER IDS ALREADY OBTAINED FOR Trump_Fox_News_Faulkner.mp3\n",
      "SPEAKER IDS ALREADY OBTAINED FOR Trump_Fox_News_Ingram.mp3\n",
      "SPEAKER IDS ALREADY OBTAINED FOR Trump_NABJ_Part_1.mp3\n",
      "SPEAKER IDS ALREADY OBTAINED FOR Trump_NABJ_Part_2.mp3\n",
      "SPEAKER IDS ALREADY OBTAINED FOR Trump_Adin_Ross_Part_1.mp3\n",
      "SPEAKER IDS ALREADY OBTAINED FOR Trump_Adin_Ross_Part_2.mp3\n",
      "SPEAKER IDS ALREADY OBTAINED FOR Trump_Adin_Ross_Part_3.mp3\n",
      "SPEAKER IDS ALREADY OBTAINED FOR Trump_Adin_Ross_Part_4.mp3\n",
      "SPEAKER IDS ALREADY OBTAINED FOR Trump_Ben_Shapiro_Part_1.mp3\n",
      "SPEAKER IDS ALREADY OBTAINED FOR Trump_Ben_Shapiro_Part_2.mp3\n",
      "SPEAKER IDS ALREADY OBTAINED FOR Trump_Ben_Shapiro_Part_3.mp3\n",
      "SPEAKER IDS ALREADY OBTAINED FOR Trump_Bussin_With_The_Boys_Part_1.mp3\n",
      "SPEAKER IDS ALREADY OBTAINED FOR Trump_Bussin_With_The_Boys_Part_2.mp3\n",
      "SPEAKER IDS ALREADY OBTAINED FOR Trump_Bussin_With_The_Boys_Part_3.mp3\n",
      "SPEAKER IDS ALREADY OBTAINED FOR Trump_Bussin_With_The_Boys_Part_4.mp3\n",
      "SPEAKER IDS ALREADY OBTAINED FOR Trump_Bussin_With_The_Boys_Part_5.mp3\n",
      "SPEAKER IDS ALREADY OBTAINED FOR Trump_Bussin_With_The_Boys_Part_6.mp3\n",
      "SPEAKER IDS ALREADY OBTAINED FOR Trump_Elon_Musk_Part_1.mp3\n",
      "SPEAKER IDS ALREADY OBTAINED FOR Trump_Elon_Musk_Part_2.mp3\n",
      "SPEAKER IDS ALREADY OBTAINED FOR Trump_Elon_Musk_Part_3.mp3\n",
      "SPEAKER IDS ALREADY OBTAINED FOR Trump_Elon_Musk_Part_4.mp3\n",
      "SPEAKER IDS ALREADY OBTAINED FOR Trump_Elon_Musk_Part_5.mp3\n",
      "SPEAKER IDS ALREADY OBTAINED FOR Trump_Flagrant_Part_1.mp3\n",
      "SPEAKER IDS ALREADY OBTAINED FOR Trump_Flagrant_Part_2.mp3\n",
      "SPEAKER IDS ALREADY OBTAINED FOR Trump_Flagrant_Part_3.mp3\n",
      "SPEAKER IDS ALREADY OBTAINED FOR Trump_Flagrant_Part_4.mp3\n",
      "SPEAKER IDS ALREADY OBTAINED FOR Trump_Impaulsive_Part_1.mp3\n",
      "SPEAKER IDS ALREADY OBTAINED FOR Trump_Impaulsive_Part_2.mp3\n",
      "SPEAKER IDS ALREADY OBTAINED FOR Trump_Joe_Rogan_Part_1.mp3\n",
      "SPEAKER IDS ALREADY OBTAINED FOR Trump_Joe_Rogan_Part_2.mp3\n",
      "SPEAKER IDS ALREADY OBTAINED FOR Trump_Joe_Rogan_Part_3.mp3\n",
      "SPEAKER IDS ALREADY OBTAINED FOR Trump_Joe_Rogan_Part_4.mp3\n",
      "SPEAKER IDS ALREADY OBTAINED FOR Trump_Joe_Rogan_Part_5.mp3\n",
      "SPEAKER IDS ALREADY OBTAINED FOR Trump_Joe_Rogan_Part_6.mp3\n",
      "SPEAKER IDS ALREADY OBTAINED FOR Trump_Lex_Friedman_Part_1.mp3\n",
      "SPEAKER IDS ALREADY OBTAINED FOR Trump_Lex_Friedman_Part_2.mp3\n",
      "SPEAKER IDS ALREADY OBTAINED FOR Trump_Nelk_Boys_Part_1.mp3\n",
      "SPEAKER IDS ALREADY OBTAINED FOR Trump_Nelk_Boys_Part_2.mp3\n",
      "SPEAKER IDS ALREADY OBTAINED FOR Trump_PBD_Podcast_Part_1.mp3\n",
      "SPEAKER IDS ALREADY OBTAINED FOR Trump_PBD_Podcast_Part_2.mp3\n",
      "SPEAKER IDS ALREADY OBTAINED FOR Trump_PBD_Podcast_Part_3.mp3\n",
      "SPEAKER IDS ALREADY OBTAINED FOR Trump_PBD_Podcast_Part_4.mp3\n",
      "SPEAKER IDS ALREADY OBTAINED FOR Trump_PBD_Podcast_Part_5.mp3\n",
      "SPEAKER IDS ALREADY OBTAINED FOR Trump_Theo_Von_Part_1.mp3\n",
      "SPEAKER IDS ALREADY OBTAINED FOR Trump_Theo_Von_Part_2.mp3\n",
      "SPEAKER IDS ALREADY OBTAINED FOR Trump_Theo_Von_Part_3.mp3\n"
     ]
    }
   ],
   "source": [
    "for mp3_file in mp3_files:\n",
    "    get_speaker_ids(mp3_file)"
   ]
  },
  {
   "cell_type": "markdown",
   "id": "ab4a84f0-7516-4d95-bb56-bc475e201bdc",
   "metadata": {},
   "source": [
    "## Get transcriptions using Whisper API"
   ]
  },
  {
   "cell_type": "code",
   "execution_count": 18,
   "id": "66da7038-c433-41a4-a436-df887eb677ff",
   "metadata": {},
   "outputs": [
    {
     "name": "stdout",
     "output_type": "stream",
     "text": [
      "WHISPER API TRANSCRIPT ALREADY OBTAINED FOR Harris_60_Minutes.mp3\n",
      "WHISPER API TRANSCRIPT ALREADY OBTAINED FOR Harris_CNN_Part_1.mp3\n",
      "WHISPER API TRANSCRIPT ALREADY OBTAINED FOR Harris_CNN_Part_2.mp3\n",
      "WHISPER API TRANSCRIPT ALREADY OBTAINED FOR Harris_CNN_Part_3.mp3\n",
      "WHISPER API TRANSCRIPT ALREADY OBTAINED FOR Harris_Fox_News.mp3\n",
      "WHISPER API TRANSCRIPT ALREADY OBTAINED FOR Harris_NBC.mp3\n",
      "WHISPER API TRANSCRIPT ALREADY OBTAINED FOR Harris_All_The_Smoke_Part_1.mp3\n",
      "WHISPER API TRANSCRIPT ALREADY OBTAINED FOR Harris_All_The_Smoke_Part_2.mp3\n",
      "WHISPER API TRANSCRIPT ALREADY OBTAINED FOR Harris_All_The_Smoke_Part_3.mp3\n",
      "WHISPER API TRANSCRIPT ALREADY OBTAINED FOR Harris_Breakfast_Club.mp3\n",
      "WHISPER API TRANSCRIPT ALREADY OBTAINED FOR Harris_Club_Shay_Shay_Part_1.mp3\n",
      "WHISPER API TRANSCRIPT ALREADY OBTAINED FOR Harris_Club_Shay_Shay_Part_2.mp3\n",
      "WHISPER API TRANSCRIPT ALREADY OBTAINED FOR Harris_Club_Shay_Shay_Part_3.mp3\n",
      "WHISPER API TRANSCRIPT ALREADY OBTAINED FOR Harris_Howard_Stern.mp3\n",
      "WHISPER API TRANSCRIPT ALREADY OBTAINED FOR Trump_Bloomberg_Part_1.mp3\n",
      "WHISPER API TRANSCRIPT ALREADY OBTAINED FOR Trump_Bloomberg_Part_2.mp3\n",
      "WHISPER API TRANSCRIPT ALREADY OBTAINED FOR Trump_Bloomberg_Part_3.mp3\n",
      "WHISPER API TRANSCRIPT ALREADY OBTAINED FOR Trump_Fox_News_Faulkner.mp3\n",
      "WHISPER API TRANSCRIPT ALREADY OBTAINED FOR Trump_Fox_News_Ingram.mp3\n",
      "WHISPER API TRANSCRIPT ALREADY OBTAINED FOR Trump_NABJ_Part_1.mp3\n",
      "WHISPER API TRANSCRIPT ALREADY OBTAINED FOR Trump_NABJ_Part_2.mp3\n",
      "WHISPER API TRANSCRIPT ALREADY OBTAINED FOR Trump_Adin_Ross_Part_1.mp3\n",
      "WHISPER API TRANSCRIPT ALREADY OBTAINED FOR Trump_Adin_Ross_Part_2.mp3\n",
      "WHISPER API TRANSCRIPT ALREADY OBTAINED FOR Trump_Adin_Ross_Part_3.mp3\n",
      "WHISPER API TRANSCRIPT ALREADY OBTAINED FOR Trump_Adin_Ross_Part_4.mp3\n",
      "WHISPER API TRANSCRIPT ALREADY OBTAINED FOR Trump_Ben_Shapiro_Part_1.mp3\n",
      "WHISPER API TRANSCRIPT ALREADY OBTAINED FOR Trump_Ben_Shapiro_Part_2.mp3\n",
      "WHISPER API TRANSCRIPT ALREADY OBTAINED FOR Trump_Ben_Shapiro_Part_3.mp3\n",
      "WHISPER API TRANSCRIPT ALREADY OBTAINED FOR Trump_Bussin_With_The_Boys_Part_1.mp3\n",
      "WHISPER API TRANSCRIPT ALREADY OBTAINED FOR Trump_Bussin_With_The_Boys_Part_2.mp3\n",
      "WHISPER API TRANSCRIPT ALREADY OBTAINED FOR Trump_Bussin_With_The_Boys_Part_3.mp3\n",
      "WHISPER API TRANSCRIPT ALREADY OBTAINED FOR Trump_Bussin_With_The_Boys_Part_4.mp3\n",
      "WHISPER API TRANSCRIPT ALREADY OBTAINED FOR Trump_Bussin_With_The_Boys_Part_5.mp3\n",
      "WHISPER API TRANSCRIPT ALREADY OBTAINED FOR Trump_Bussin_With_The_Boys_Part_6.mp3\n",
      "WHISPER API TRANSCRIPT ALREADY OBTAINED FOR Trump_Elon_Musk_Part_1.mp3\n",
      "WHISPER API TRANSCRIPT ALREADY OBTAINED FOR Trump_Elon_Musk_Part_2.mp3\n",
      "WHISPER API TRANSCRIPT ALREADY OBTAINED FOR Trump_Elon_Musk_Part_3.mp3\n",
      "WHISPER API TRANSCRIPT ALREADY OBTAINED FOR Trump_Elon_Musk_Part_4.mp3\n",
      "WHISPER API TRANSCRIPT ALREADY OBTAINED FOR Trump_Elon_Musk_Part_5.mp3\n",
      "WHISPER API TRANSCRIPT ALREADY OBTAINED FOR Trump_Flagrant_Part_1.mp3\n",
      "WHISPER API TRANSCRIPT ALREADY OBTAINED FOR Trump_Flagrant_Part_2.mp3\n",
      "WHISPER API TRANSCRIPT ALREADY OBTAINED FOR Trump_Flagrant_Part_3.mp3\n",
      "WHISPER API TRANSCRIPT ALREADY OBTAINED FOR Trump_Flagrant_Part_4.mp3\n",
      "WHISPER API TRANSCRIPT ALREADY OBTAINED FOR Trump_Impaulsive_Part_1.mp3\n",
      "WHISPER API TRANSCRIPT ALREADY OBTAINED FOR Trump_Impaulsive_Part_2.mp3\n",
      "WHISPER API TRANSCRIPT ALREADY OBTAINED FOR Trump_Joe_Rogan_Part_1.mp3\n",
      "WHISPER API TRANSCRIPT ALREADY OBTAINED FOR Trump_Joe_Rogan_Part_2.mp3\n",
      "WHISPER API TRANSCRIPT ALREADY OBTAINED FOR Trump_Joe_Rogan_Part_3.mp3\n",
      "WHISPER API TRANSCRIPT ALREADY OBTAINED FOR Trump_Joe_Rogan_Part_4.mp3\n",
      "WHISPER API TRANSCRIPT ALREADY OBTAINED FOR Trump_Joe_Rogan_Part_5.mp3\n",
      "WHISPER API TRANSCRIPT ALREADY OBTAINED FOR Trump_Joe_Rogan_Part_6.mp3\n",
      "WHISPER API TRANSCRIPT ALREADY OBTAINED FOR Trump_Lex_Friedman_Part_1.mp3\n",
      "WHISPER API TRANSCRIPT ALREADY OBTAINED FOR Trump_Lex_Friedman_Part_2.mp3\n",
      "WHISPER API TRANSCRIPT ALREADY OBTAINED FOR Trump_Nelk_Boys_Part_1.mp3\n",
      "WHISPER API TRANSCRIPT ALREADY OBTAINED FOR Trump_Nelk_Boys_Part_2.mp3\n",
      "WHISPER API TRANSCRIPT ALREADY OBTAINED FOR Trump_PBD_Podcast_Part_1.mp3\n",
      "WHISPER API TRANSCRIPT ALREADY OBTAINED FOR Trump_PBD_Podcast_Part_2.mp3\n",
      "WHISPER API TRANSCRIPT ALREADY OBTAINED FOR Trump_PBD_Podcast_Part_3.mp3\n",
      "WHISPER API TRANSCRIPT ALREADY OBTAINED FOR Trump_PBD_Podcast_Part_4.mp3\n",
      "WHISPER API TRANSCRIPT ALREADY OBTAINED FOR Trump_PBD_Podcast_Part_5.mp3\n",
      "WHISPER API TRANSCRIPT ALREADY OBTAINED FOR Trump_Theo_Von_Part_1.mp3\n",
      "WHISPER API TRANSCRIPT ALREADY OBTAINED FOR Trump_Theo_Von_Part_2.mp3\n",
      "WHISPER API TRANSCRIPT ALREADY OBTAINED FOR Trump_Theo_Von_Part_3.mp3\n"
     ]
    }
   ],
   "source": [
    "for mp3_file in mp3_files:\n",
    "    get_transcript(mp3_file)"
   ]
  },
  {
   "cell_type": "code",
   "execution_count": 21,
   "id": "de9d2ac1-c4aa-4eed-b61e-91a3f9d37fa7",
   "metadata": {},
   "outputs": [],
   "source": [
    "for mp3_file in mp3_files:\n",
    "    create_transcript(mp3_file)"
   ]
  },
  {
   "cell_type": "code",
   "execution_count": 14,
   "id": "bbd91ace-7c4d-4748-ace6-df5136da666a",
   "metadata": {},
   "outputs": [
    {
     "name": "stdout",
     "output_type": "stream",
     "text": [
      "Calling picovoice model for Harris_Howard_Stern_Part_1.mp3\n",
      "Calling picovoice model for Harris_Howard_Stern_Part_2.mp3\n",
      "Calling picovoice model for Harris_Howard_Stern_Part_3.mp3\n"
     ]
    }
   ],
   "source": [
    "get_speaker_ids('../data/audio/harris_podcasts/Harris_Howard_Stern_Part_1.mp3')\n",
    "get_speaker_ids('../data/audio/harris_podcasts/Harris_Howard_Stern_Part_2.mp3')\n",
    "get_speaker_ids('../data/audio/harris_podcasts/Harris_Howard_Stern_Part_3.mp3')"
   ]
  },
  {
   "cell_type": "code",
   "execution_count": 15,
   "id": "56a0ae74-d5df-4538-8a88-178f19ee0e08",
   "metadata": {},
   "outputs": [
    {
     "name": "stdout",
     "output_type": "stream",
     "text": [
      "Calling OpenAI Whisper API for Harris_Howard_Stern_Part_1.mp3\n",
      "Calling OpenAI Whisper API for Harris_Howard_Stern_Part_2.mp3\n",
      "Calling OpenAI Whisper API for Harris_Howard_Stern_Part_3.mp3\n"
     ]
    }
   ],
   "source": [
    "get_transcript('../data/audio/harris_podcasts/Harris_Howard_Stern_Part_1.mp3')\n",
    "get_transcript('../data/audio/harris_podcasts/Harris_Howard_Stern_Part_2.mp3')\n",
    "get_transcript('../data/audio/harris_podcasts/Harris_Howard_Stern_Part_3.mp3')"
   ]
  },
  {
   "cell_type": "code",
   "execution_count": 16,
   "id": "b1c33f15-3af7-4331-87bb-c5d9688283cb",
   "metadata": {},
   "outputs": [],
   "source": [
    "create_transcript('../data/audio/harris_podcasts/Harris_Howard_Stern_Part_1.mp3')\n",
    "create_transcript('../data/audio/harris_podcasts/Harris_Howard_Stern_Part_2.mp3')\n",
    "create_transcript('../data/audio/harris_podcasts/Harris_Howard_Stern_Part_3.mp3')"
   ]
  },
  {
   "cell_type": "code",
   "execution_count": 17,
   "id": "4336aff0-4066-43a8-b246-2f776e7ba106",
   "metadata": {},
   "outputs": [
    {
     "name": "stdout",
     "output_type": "stream",
     "text": [
      "Calling picovoice model for Harris_The_Breakfast_Club_Part_1.mp3\n",
      "Calling picovoice model for Harris_The_Breakfast_Club_Part_2.mp3\n",
      "Calling picovoice model for Harris_The_Breakfast_Club_Part_3.mp3\n",
      "Calling OpenAI Whisper API for Harris_The_Breakfast_Club_Part_1.mp3\n",
      "Calling OpenAI Whisper API for Harris_The_Breakfast_Club_Part_2.mp3\n",
      "Calling OpenAI Whisper API for Harris_The_Breakfast_Club_Part_3.mp3\n"
     ]
    }
   ],
   "source": [
    "get_speaker_ids('../data/audio/harris_podcasts/Harris_The_Breakfast_Club_Part_1.mp3')\n",
    "get_speaker_ids('../data/audio/harris_podcasts/Harris_The_Breakfast_Club_Part_2.mp3')\n",
    "get_speaker_ids('../data/audio/harris_podcasts/Harris_The_Breakfast_Club_Part_3.mp3')\n",
    "\n",
    "get_transcript('../data/audio/harris_podcasts/Harris_The_Breakfast_Club_Part_1.mp3')\n",
    "get_transcript('../data/audio/harris_podcasts/Harris_The_Breakfast_Club_Part_2.mp3')\n",
    "get_transcript('../data/audio/harris_podcasts/Harris_The_Breakfast_Club_Part_3.mp3')\n",
    "\n",
    "create_transcript('../data/audio/harris_podcasts/Harris_The_Breakfast_Club_Part_1.mp3')\n",
    "create_transcript('../data/audio/harris_podcasts/Harris_The_Breakfast_Club_Part_2.mp3')\n",
    "create_transcript('../data/audio/harris_podcasts/Harris_The_Breakfast_Club_Part_3.mp3')"
   ]
  },
  {
   "cell_type": "code",
   "execution_count": 76,
   "id": "aab28613-90b2-4fe4-8f26-bef6c5b5317f",
   "metadata": {},
   "outputs": [
    {
     "name": "stdout",
     "output_type": "stream",
     "text": [
      "SPEAKER IDS ALREADY OBTAINED FOR Harris_All_The_Smoke_Part_1.mp3\n",
      "SPEAKER IDS ALREADY OBTAINED FOR Harris_All_The_Smoke_Part_2.mp3\n",
      "SPEAKER IDS ALREADY OBTAINED FOR Harris_All_The_Smoke_Part_3.mp3\n",
      "WHISPER API TRANSCRIPT ALREADY OBTAINED FOR Harris_All_The_Smoke_Part_1.mp3\n",
      "WHISPER API TRANSCRIPT ALREADY OBTAINED FOR Harris_All_The_Smoke_Part_2.mp3\n",
      "WHISPER API TRANSCRIPT ALREADY OBTAINED FOR Harris_All_The_Smoke_Part_3.mp3\n"
     ]
    }
   ],
   "source": [
    "get_speaker_ids('../data/audio/harris_podcasts/Harris_All_The_Smoke_Part_1.mp3')\n",
    "get_speaker_ids('../data/audio/harris_podcasts/Harris_All_The_Smoke_Part_2.mp3')\n",
    "get_speaker_ids('../data/audio/harris_podcasts/Harris_All_The_Smoke_Part_3.mp3')\n",
    "\n",
    "get_transcript('../data/audio/harris_podcasts/Harris_All_The_Smoke_Part_1.mp3')\n",
    "get_transcript('../data/audio/harris_podcasts/Harris_All_The_Smoke_Part_2.mp3')\n",
    "get_transcript('../data/audio/harris_podcasts/Harris_All_The_Smoke_Part_3.mp3')\n",
    "\n",
    "create_transcript('../data/audio/harris_podcasts/Harris_All_The_Smoke_Part_1.mp3')\n",
    "create_transcript('../data/audio/harris_podcasts/Harris_All_The_Smoke_Part_2.mp3')\n",
    "create_transcript('../data/audio/harris_podcasts/Harris_All_The_Smoke_Part_3.mp3')"
   ]
  },
  {
   "cell_type": "code",
   "execution_count": null,
   "id": "9c60d4f8-c9c4-46f1-90e4-09b1db28e517",
   "metadata": {},
   "outputs": [],
   "source": []
  }
 ],
 "metadata": {
  "citation-manager": {
   "items": {}
  },
  "kernelspec": {
   "display_name": "Python 3.11 (COMM4190)",
   "language": "python",
   "name": "comm4190"
  },
  "language_info": {
   "codemirror_mode": {
    "name": "ipython",
    "version": 3
   },
   "file_extension": ".py",
   "mimetype": "text/x-python",
   "name": "python",
   "nbconvert_exporter": "python",
   "pygments_lexer": "ipython3",
   "version": "3.11.7"
  }
 },
 "nbformat": 4,
 "nbformat_minor": 5
}
