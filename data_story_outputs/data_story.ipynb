{
 "cells": [
  {
   "cell_type": "markdown",
   "id": "1c59d730-d0c3-458c-a923-8e35a2428a77",
   "metadata": {},
   "source": [
    "# Text Analysis of Presidential Podcasts \n",
    "\n",
    "*By Max Orenstein & Julia Keswin*"
   ]
  },
  {
   "cell_type": "markdown",
   "id": "91b882e4-45b8-4cc7-91e0-43dc2d7d466d",
   "metadata": {},
   "source": [
    "<img src=\"images/cover_image.avif\" alt=\"Cover Image\" width=\"1200\" />"
   ]
  },
  {
   "cell_type": "markdown",
   "id": "17d88983-217e-4d4e-ac68-02170a147f09",
   "metadata": {},
   "source": [
    "<img src=\"images/cover_image3.avif\" alt=\"Cover Image\" width=\"1200\" />"
   ]
  },
  {
   "cell_type": "markdown",
   "id": "02bbc75a-b9ba-401a-a272-c90d73832046",
   "metadata": {},
   "source": [
    "## Introduction"
   ]
  },
  {
   "cell_type": "markdown",
   "id": "553696de-b478-413c-92f6-44868f3d49e1",
   "metadata": {},
   "source": [
    "Explaining why podcasts played such a significant role in the 2024 election to your parents can be challenging. Not only do you have to explain what a \"Call Her Daddy\" is and why you know so much about it, you also need to explain why it was worth the valuable time of both presidential candidates to participate in this new influential form of media and why it was so successful. We're not even going to attempt the first explanation, but the latter is more manageable. \n",
    "\n",
    "In recent years online podcasting has rose to challenge traditional news networks as arbiters of political discourse. According to survey data from Edison Research in early 2023, 75% of Americans ages 12 and older listened to online audio in the past month, while 70% have listened in the past week. Meanwhile, a Pew Research survey from just before the 2024 election found that about one-in-five Americans – including a much higher share of adults under 30 (37%) – say they regularly get news from influencers on social media. More anecdotal claims on the influence of new media on political have emphasized the dominance of Trump amongst the \"Joe Rogan Demographic\" referring to a younger, overwhelmingly male, and often independent-minded following that listen to the host of the world's most popular podcast \"The Joe Rogan Experience.\" On the theoretical side, this claim can be further substantiated by parasocial relationship theory, which suggests that audiences develop one-sided emotional connections with media personalities, as if they were real-life acquaintances or friends. Podcasts, with their conversational tone, extended format, and intimate delivery—often directly into a listener’s headphones—are particularly well-suited to fostering these relationships. This dynamic allows podcast hosts to build trust and influence among their audiences in a way that traditional news anchors or fleeting social media posts often cannot. So, if podcasts really have become this influential in the political sphere it's worth asking the question raised in by David Dowling author of the 2019 book *Podcast Journalism*:\n",
    "\n",
    ">\n",
    "> To what extent can podcasting perform as principled, narrative journalism capable of fulfilling media’s duty to democracy? *- Dowling (2019)*\n",
    ">\n",
    "\n",
    "In this project we aimed to provide insight into this question using text analysis and Natural Language Processing (NLP) techniques contrasting the podcast appearances of each candidate in the 2024 election with their interviews on traditional news networks. By contrasting the podcast appearances of each 2024 presidential candidate with their interviews on traditional news networks, we aim to better understand how podcasts shaped political narratives and influenced voter behavior.\n",
    "\n",
    "In this project, we sought to provide insight into the evolving role of podcasts in political communication by leveraging text analysis and Natural Language Processing (NLP) techniques. Specifically, we contrasted the podcast appearances of each 2024 presidential candidate with their interviews on traditional news networks. To address this, we posed the following research questions:  \n",
    "\n",
    "**1. Structural Differences**  \n",
    "   - **Question:** How many turns/topics are covered in each format?  \n",
    "   - *Initial Hypothesis:* Interviews on podcasts feature longer, fewer turns compared to traditional news formats.  \n",
    "\n",
    "**2. Issue Focus**  \n",
    "   - **Question:** What percentage of the content is focused on policy issues versus personal anecdotes?  \n",
    "   - *Initial Hypothesis:* Harris is more issue-focused in her content.  \n",
    "\n",
    "**3. Opponent Mentions**  \n",
    "   - **Question:** Which candidate mentions their opponent more frequently?  \n",
    "   - *Initial Hypothesis:* Trump mentions Harris more often.  \n",
    "\n",
    "**4. Emotional Language**  \n",
    "   - **Question:** In which outlet is emotional language utilized more prominently?  \n",
    "   - *Initial Hypothesis:* Podcasts are more likely to feature emotional language.  \n",
    "\n",
    "To address these questions, we leveraged Natural Language Processing (NLP) and text analysis techniques, conducting the project entirely in Python. We used Picovoice Falcon layered on OpenAI’s Whisper model to transcribe and diarize audio from podcasts and interviews into text files. The data was then structured into dictionaries with metadata such as transcription title, medium, and tokens. We performed frequency analysis to examine key terms and bigrams, conducted keyness analysis to identify statistically significant word usage across formats, and used Key Words in Context (KWIC) to explore how these words were used. Dispersion plots helped us visualize where specific words occurred in the timeline of interviews or podcasts, while sentiment analysis captured emotional tone.\n",
    "\n",
    "The data for this project was sourced from YouTube videos, converted to MP3 format. Trump appeared on podcasts like The Joe Rogan Experience, Lex Fridman, and Flagrant, while Harris joined platforms such as Call Her Daddy, Breakfast Club, and Howard Stern. Traditional interviews included appearances on networks like Fox News, CNN, and NBC for Harris, and Bloomberg, NABJ, and Fox News for Trump.\n",
    "\n",
    "By analyzing these contrasting formats, this project sheds light on how podcasts have transformed political messaging, offering deeper insights into their influence on voter behavior and the broader democratic process."
   ]
  },
  {
   "cell_type": "markdown",
   "id": "e3f7fd76-1ffb-46ad-9dac-8b07226e0934",
   "metadata": {},
   "source": [
    "## Structural Differences"
   ]
  },
  {
   "cell_type": "markdown",
   "id": "b8dbb46d-f333-4d7c-8aa2-2e428546769e",
   "metadata": {},
   "source": [
    "Podcasts provide a unique space where political discussions can transcend the rigid formats of traditional media, allowing candidates to reach audiences through a more conversational dialogue. Podcasts tend to be longer than traditional news interviews and often involve more interjections from the interviewers who are considered more of personalities rather than expected to conform to a certain editorial standard. To assess this *structural* difference between the mediums, we conducted a descriptive analysis to quantify the communication patterns. We began by looking at word count per medium:"
   ]
  },
  {
   "cell_type": "markdown",
   "id": "cbce0ae9-127a-4df5-95ea-d725d30b7b57",
   "metadata": {},
   "source": [
    "<img src=\"images/avg_word_count_per_title.png\" alt=\"Avg Word Count Per Title\" width=\"400\" />"
   ]
  },
  {
   "cell_type": "markdown",
   "id": "990953bb-536c-4f28-aef0-3bceeb8ff9c1",
   "metadata": {},
   "source": [
    "For both candidates, podcasts have significantly higher word counts than interviews. Interviews tend to be more structured and are likely constrained by time limits, reflecting their lower average word count. Across both mediums, Trump has a higher word count than Harris. This could reflect Trump's strategy to dominate the conversation and emphasize his points more thoroughly. \n",
    "\n",
    "We also analyzed the average number of turns per title in each medium. Turns refers to a switch in speakers (e.g., between the candidate and the host). Podcasts consistently have more turns than interviews, which reflects the medium’s suitability for facilitating conversation. The average number of turns between Harris and Trump within the same medium is similar, suggesting comparable interaction levels between the candidates and their hosts."
   ]
  },
  {
   "cell_type": "markdown",
   "id": "16544be6-24eb-439f-af4c-4752be822b02",
   "metadata": {},
   "source": [
    "<img src=\"images/avg_word_count_per_turn_per_title_graph.png\" alt=\"Avg Word Count Per Turn Per Title\" width=\"800\" />"
   ]
  },
  {
   "cell_type": "markdown",
   "id": "6896ea90-fdf6-4f7c-abde-8c3a5d2beab7",
   "metadata": {},
   "source": [
    "Here we can see that there are far more turns in podcasts than interviews. This shouldn't be surprising either since the conversational format of podcast allows for more frequent back and forth. This can allow for dynamic and engaging discussions, helping candidates appear relatable and offering room for nuanced storytelling. However, this lack of structure in some cases might dilute key messages and increase the risk of off-the-cuff remarks being misinterpreted or scrutinized. We also see that  Trump’s average word count per turn in podcasts is larger than Harris’ which might again demonstrate his tendency to maintain conversational control. Finally, we can also look at dispersion plots to get a sense of the differing structure of interview formats. These plots show each time throughout a specific podcast or interview the candidate mentioned a word associated with a particular topic (e.g. economy: tariff, tax, jobs). These plots can give us insight into the structure ofthe different formats by looking at the frequency at which different topics are discussed throughout the interview:"
   ]
  },
  {
   "cell_type": "markdown",
   "id": "1a4363eb-15be-4195-8d93-13b4f93e345e",
   "metadata": {},
   "source": [
    "<img src=\"images/trump_rogan_dispersion.png\" alt=\"Avg Word Count Per Turn Per Title\" width=\"1200\" />\n",
    "<img src=\"images/trump_bloomberg_dispersion.png\" alt=\"Avg Word Count Per Turn Per Title\" width=\"1200\" />"
   ]
  },
  {
   "cell_type": "markdown",
   "id": "76f628ae-11d0-483c-83de-4ca019b73646",
   "metadata": {},
   "source": [
    "Trump's dispersion plots for his appearance on \"The Joe Rogan Experience\" and Bloomberg interview reveal some potentially impactful insights. While dicuss a wide variety of issues, the Bloomberg interview seems to stay a bit more on track than the Joe Rogan interview. This makes sense seeing as Bloomberg is a publication that focuses on economic issues, and likely discusses the other issues in relation to the economy. Meanwhile Trump's appearance on Joe Rogan appears to have jumped from topic to topic significantly more frequently. Trump's discussed his use of a rhetorical technique called \"the weave\" he uses in which he seems to go off track from a particular topic, and then tie things back in at the end. This strategy appears to have been more prevalent in his podcast appearances while the interview format keeps him more focused on one particular topic at a time."
   ]
  },
  {
   "cell_type": "markdown",
   "id": "46561dd0-ba93-480d-986a-4c8a137fae80",
   "metadata": {},
   "source": [
    "<img src=\"images/harris_callherdaddy_dispersion.png\" alt=\"Avg Word Count Per Turn Per Title\" width=\"1200\" />\n",
    "<img src=\"images/harris_cnn_dispersion.png\" alt=\"Avg Word Count Per Turn Per Title\" width=\"1200\" />"
   ]
  },
  {
   "cell_type": "markdown",
   "id": "e2125f61-6d55-472b-bfba-9c5573e9a45c",
   "metadata": {},
   "source": [
    "For Harris we see similar trends to Trump where the interviews appear to stay more on track one issue at a time. However in both formats Harris generally does less weaving than Trump. In the Trump-Rogan podcast for instance from 20,000-25,000 tokens it becomes very difficult to even tell what they're discussing, whereas in the Harris Call Her Daddy Podcast 2000-3000 tokens seems more focused on abortion and healthcare issues. "
   ]
  },
  {
   "cell_type": "markdown",
   "id": "b397c420-0fe0-4e47-b64e-7bf05210df4a",
   "metadata": {},
   "source": [
    "Overall, the structural analysis reveals that podcasts enable a more dynamic and conversational format, with higher word counts and frequent speaker turns fostering deeper engagement and relatability. This flexibility allows candidates to weave between topics and connect on a personal level, potentially broadening their appeal to diverse audiences. However, the unstructured nature of podcasts also poses challenges, such as the risk of diluted messaging or off-script remarks being scrutinized. In contrast, the structured nature of traditional interviews keeps discussions focused, which can enhance clarity but limit opportunities for nuanced storytelling."
   ]
  },
  {
   "cell_type": "markdown",
   "id": "4d9217e9-2c63-4aa6-82f4-c5a551723425",
   "metadata": {},
   "source": [
    "## Issue Focus"
   ]
  },
  {
   "cell_type": "markdown",
   "id": "9095c161-9afa-4ff1-a1f2-7a936ea54f1f",
   "metadata": {},
   "source": [
    "Next, we turn our attention to analyzing how Harris and Trump discuss key political issues. We created a list of 9 words to assess the candidates' focus on specific issues. \n",
    "\n",
    "In order to make accurate comparisons, we needed to normalize the data. The raw counts of words in each tokenized dataset are not directly comparable because the total number of words in each medium varies. The dataframe below takes this into account and divides the count of each selected word by the total number of words in each category."
   ]
  },
  {
   "cell_type": "markdown",
   "id": "ce28e8cf-61c6-44b2-a8d0-c9ca933fafc2",
   "metadata": {},
   "source": [
    "<img src=\"images/Issue_Focus.png\" alt=\"Issue Focus\" width=\"1200\" />"
   ]
  },
  {
   "cell_type": "markdown",
   "id": "b7f6f6f2-ee1b-4dff-9ae5-62be6e9f3e16",
   "metadata": {},
   "source": [
    "Both candidates discuss key political issues more in interviews than in podcasts. Harris emphasizes \"border\" significantly in interviews (314.40 mentions per 100,000 words), suggesting a focus on immigration-related topics, while Trump also mentions \"border\" relatively frequently (129.13 mentions). The focus on these issues in interviews rather than podcasts demonstrates a tendency to address policy-heavy topics in formal settings, reserving podcasts for potentially less structured conversations. "
   ]
  },
  {
   "cell_type": "markdown",
   "id": "0ee1bc81-1149-41d2-8223-16f613ab54b0",
   "metadata": {},
   "source": [
    "Given the noticeable difference between the amount of times \"border\" is used in interviews versus podcasts for both candidates, we employed KWIC analysis to understand the context of how the word is used further. "
   ]
  },
  {
   "cell_type": "markdown",
   "id": "d5e5e7b1-4824-489d-96fc-97faf65ac102",
   "metadata": {},
   "source": [
    "'Border' mentions in Trump Interviews\n",
    "\n",
    "<img src=\"images/Border_Trump_Interviews.png\" alt=\"Border Trump Interviews\" width=\"800\" />"
   ]
  },
  {
   "cell_type": "markdown",
   "id": "c137f65c-2d2e-4257-afbb-bc9a4dcfe123",
   "metadata": {},
   "source": [
    "When Trump mentions the border in interviews, he frequently is critiquing the current administration while commenting on his own successes. He repeats \"she was the worst border czar in history\", demonstrating his usage of intense and emotional language."
   ]
  },
  {
   "cell_type": "markdown",
   "id": "4f19b8de-5782-444c-afce-457c4c1dcbc2",
   "metadata": {},
   "source": [
    "'Border' mentions in Trump Podcasts\n",
    "\n",
    "<img src=\"images/Border_Trump_Podcasts.png\" alt=\"Border Trump Podcasts\" width=\"800\" />"
   ]
  },
  {
   "cell_type": "markdown",
   "id": "701e37b5-2168-450a-a066-e74eed6fedd6",
   "metadata": {},
   "source": [
    "There are many similarities to how Trump talks about the border in interviews and podcasts. \"She was the border czar\", again shoes Trump's tendency to talk about the other side's failures. Again, we see intense language including \"very strong\", \"worst\", \"best\", \"safest\", demonstrating no clear difference between how Trump discusses political issues in podcasts and interviews. "
   ]
  },
  {
   "cell_type": "markdown",
   "id": "1bf24756-3631-4814-9655-e28192ef0aab",
   "metadata": {},
   "source": [
    "'Border' mentions in Harris Interviews\n",
    "\n",
    "<img src=\"images/Border_Harris_Interviews.png\" alt=\"Border Harris Interviews\" width=\"800\" />"
   ]
  },
  {
   "cell_type": "markdown",
   "id": "2dd4b13a-8ebf-49d7-86c4-224d79dcc613",
   "metadata": {},
   "source": [
    "There are clear differences between how Harris and Trump discuss the border. When Harris mentions the border in interviews, she tends to focus on legislative action and support she has already received from law enforcement. In this selection of text, there is no mention of Trump and we see Harris continue to back up her stance on border crossing, which could show her need to convey her values rather than bash her opponent, as she entered the race later."
   ]
  },
  {
   "cell_type": "markdown",
   "id": "c4ec144a-f13e-4b80-87c4-5a4c41ec30a8",
   "metadata": {},
   "source": [
    "'Border' mentions in Harris Podcasts\n",
    "\n",
    "<img src=\"images/Border_Harris_Podcasts.png\" alt=\"Border Harris Podcasts\" width=\"800\" />"
   ]
  },
  {
   "cell_type": "markdown",
   "id": "463a095f-f1fa-4610-9dd5-5a456f5c73c4",
   "metadata": {},
   "source": [
    "When Harris mentions the border in podcasts, we again see a focus on legislative action. She is defending her stance and because of that we see less emotional and definitive language compared to Trump."
   ]
  },
  {
   "cell_type": "markdown",
   "id": "a8aaa198-dd1c-469b-88c6-0d81656e4141",
   "metadata": {},
   "source": [
    "There are clear differences between how often the candidates are talking about key political and issues and how they address them. However, both Harris and Trump seem to communicate about these issues similarly regardless of medium.  "
   ]
  },
  {
   "cell_type": "markdown",
   "id": "7d957bdd-ed52-4037-a1ce-55302bee8e44",
   "metadata": {},
   "source": [
    "## Opponent Mentions"
   ]
  },
  {
   "cell_type": "markdown",
   "id": "7e472ef0-7e8f-46a4-bdb6-deff43978dfe",
   "metadata": {},
   "source": [
    "We also analyzed opponents mentions to determine whether the frequency at which each candidate mentioned their opponent and the context in which they did differed across different formats. We started by looking at raw frequency of the candidates names across the different mediums:"
   ]
  },
  {
   "cell_type": "markdown",
   "id": "46a572e4-4f9f-43f2-a1af-17a15de8dcb2",
   "metadata": {},
   "source": [
    "<img src=\"images/trump_harris_opponent_mentions_raw.png\" alt=\"Opponent Mentions\" width=\"800\" />"
   ]
  },
  {
   "cell_type": "markdown",
   "id": "34d97570-d555-4bd3-a2fa-8707d1f83dca",
   "metadata": {},
   "source": [
    "We see that Harris is far more likely to refers to Trump significantly more than Trump refers to her across all formats (especially considering overall word count difference.) However, Trump does mention her by her first name significantly more in podcast appearances. He also mentions himself a lot in podcasts which is an unexpected finding. We can use KWIC analysis to take a deeper look at Trump's podcast mentions of \"kamala\":"
   ]
  },
  {
   "cell_type": "markdown",
   "id": "3275dc4c-bb78-4d3b-a3d5-6f653a8595fc",
   "metadata": {},
   "source": [
    "<img src=\"images/trump_podcast_kamala_mentions.png\" alt=\"Opponent Mentions\" width=\"800\" />"
   ]
  },
  {
   "cell_type": "markdown",
   "id": "1528323c-aa00-41a2-974d-0dc1ce04ead3",
   "metadata": {},
   "source": [
    "This KWIC reveals some interesting trends with Trumps mentions of his opponents. We see his penchant for creating nicknames such as \"comrade kamala\", \"kamala migrant crime\" and \"lyin kamala.\" We also see a sort of ranty-ness and less formal of a tone in many of these lines which may be due to the less formal nature of podcasts. Podcasts may have provided Trump more of an avenue to rant against his opponent than a more formal news interview would allow for. "
   ]
  },
  {
   "cell_type": "markdown",
   "id": "4037ca83-3eb1-4a6a-b368-ffd8d85c9406",
   "metadata": {},
   "source": [
    "We can also delve deeper into the differences between formats by looking at keyness which identifies which words or phrases are disproportionately significant in one text or subset of a corpus compared to another, as opposed to a raw score. In this case we're looking at a comparison of Harris' interview appearances to her podcast appearances:"
   ]
  },
  {
   "cell_type": "markdown",
   "id": "e3ca5665-80e3-4fea-b7d5-4d6623140aea",
   "metadata": {},
   "source": [
    "<img src=\"images/trump_interview_podcast_keyness.png\" alt=\"Opponent Mentions\" width=\"800\" />"
   ]
  },
  {
   "cell_type": "markdown",
   "id": "734404fa-5d1d-4106-947d-fa0d363fc416",
   "metadata": {},
   "source": [
    "We see that Harris is mentioning Trump more in her interview appearances than her podcasts. To consider why this might be happening we can further contextualize this result by looking at a KWIC plot of Trump mentions in Harris Interviews:"
   ]
  },
  {
   "cell_type": "markdown",
   "id": "1351c9bd-f681-4e93-a9d6-30e54b664e5a",
   "metadata": {},
   "source": [
    "<img src=\"images/Trump_Harris_Interviews.png\" alt=\"Trump Harris Interviews\" width=\"800\" />"
   ]
  },
  {
   "cell_type": "markdown",
   "id": "52c8ba90-dc35-4c69-b2ad-293e5968dc8c",
   "metadata": {},
   "source": [
    "From this KWIC, we see that Harris's mentions of Trump in interviews are highly critical, targeting his character (\"admires dictators,\" \"tried to\") and policies (\"Trump abortion bans,\" \"hand-selected three members\"). This increased bashing in interviews likely reflects the formal tone of the medium, where direct opposition and accountability are expected. Traditional news audiences, often older and more politically engaged, may value assertive critiques as a demonstration of leadership and readiness to confront rivals. Additionally, the time constraints of interviews may push Harris to focus on headline-grabbing attacks to frame the narrative quickly. "
   ]
  },
  {
   "cell_type": "markdown",
   "id": "c1364406-eb64-4abd-bdde-6bdd9b3474eb",
   "metadata": {},
   "source": [
    "## Emotional Language"
   ]
  },
  {
   "cell_type": "markdown",
   "id": "3005ce61-634d-4176-b365-6f76cb0b27ff",
   "metadata": {},
   "source": [
    "Next, we looked to analyze differences in emotional language. We chose 3 positive emotional words (good, hope, and happy) and 3 negative emotional words (bad, hate, worry). We also analyzed the intensity modifier \"very\". "
   ]
  },
  {
   "cell_type": "markdown",
   "id": "1e111e82-bdba-49f1-80b5-b65f8ed10b0d",
   "metadata": {},
   "source": [
    "<img src=\"images/Emotional_Language.png\" alt=\"Emotional Language\" width=\"1200\" />"
   ]
  },
  {
   "cell_type": "markdown",
   "id": "3b2e72da-1337-4d5a-bcc0-5f028d737aea",
   "metadata": {},
   "source": [
    "Trump uses more emotionally charged language overall, with frequent use of words like \"good,\" \"bad,\" and \"very,\" in both interviews and podcasts. His use of \"very\" stands out, with consistently high frequencies across formats (589.52 mentions per 100,000 words in interviews and 563.27 in podcasts). In contrast, Harris uses \"very\" more in interviews than podcasts but generally employs emotional language less frequently than Trump. Diving deeper into Trump's use of emotional language using keyness analysis we can look at the words he's using disproportionately more in podcasts versus interviews."
   ]
  },
  {
   "attachments": {},
   "cell_type": "markdown",
   "id": "ebbb4b7a-339a-4732-9433-52ad4dd8488e",
   "metadata": {},
   "source": [
    "<img src=\"images/keyness_hyberbole.png\" alt=\"Very Trump Interviews\" width=\"800\" />"
   ]
  },
  {
   "cell_type": "markdown",
   "id": "c1cfa558-2d2d-4217-ba6d-a633721096e6",
   "metadata": {},
   "source": [
    "As we hypothesized, Trumps vocabulary becomes more \"Trumpian\" in his podcast appearances. We see him use words like \"great\", \"important\", \"problem\", \"big\", \"terrible\", and \"fight\". This increased hyperbolic language is likely due to the more informal tone of podcasts which gives Trump more leeway to speak how he thinks, accentuating his manneurims. We can further contextualize this use of hyperbole by looking at KWIC plots of Trump's use of the word \"Very\" in both podcasts and interviews:"
   ]
  },
  {
   "cell_type": "markdown",
   "id": "e56794c8-eee7-4563-83cd-6bc90742d31b",
   "metadata": {},
   "source": [
    "**Trump Interviews**\n",
    "\n",
    "<img src=\"images/Very_Trump_Interviews.png\" alt=\"Very Trump Interviews\" width=\"800\" />"
   ]
  },
  {
   "cell_type": "markdown",
   "id": "baee9e62-fa3a-4ffd-8665-63179fa0d2b8",
   "metadata": {},
   "source": [
    "When Trump uses the word \"very\" in interviews\" he is often referencing specific people or specific events. He talks about specific relationships with other people and specific countries. This usage suggests that Trump has done a more formal assessment or reflection in preparation for more structured contexts. Trump uses the word \"very\" to speak with conviction."
   ]
  },
  {
   "cell_type": "markdown",
   "id": "dfe9c63c-933d-4d9d-beba-1ad3efc512da",
   "metadata": {},
   "source": [
    "**Trump Podcasts**\n",
    "\n",
    "<img src=\"images/Very_Trump_Podcasts.png\" alt=\"Very Trump Podcasts\" width=\"800\" />"
   ]
  },
  {
   "cell_type": "markdown",
   "id": "7f540bb3-3392-47ae-87d3-1229335c19e1",
   "metadata": {},
   "source": [
    "When Trump uses the word \"very\" in podcasts, he seems to speak more generally referencing, \"powerful countries\", \"radical left people\",  and \"those industries.\" \"Very\" in podcasts adds an emotional intensity, whereas its use in interviews is more measured and tied to diplomatic discussions. Comparing these KWIC's with those from Harris' interview and podcast appearances reveal some interesting differences as well: "
   ]
  },
  {
   "cell_type": "markdown",
   "id": "1337cd13-b891-4fd4-baf7-1f62000e0e70",
   "metadata": {},
   "source": [
    "**Harris Interviews**\n",
    "\n",
    "<img src=\"images/Very_Harris_Interviews.png\" alt=\"Very Harris Interviews\" width=\"800\" />"
   ]
  },
  {
   "cell_type": "markdown",
   "id": "d087811a-e2d0-4a06-ac49-0fac7f46e058",
   "metadata": {},
   "source": [
    "In Kamala Harris’s interviews, the use of “very” often emphasizes clarity and decisiveness (“very clear about where I stand” and “very important decisions on behalf”)."
   ]
  },
  {
   "cell_type": "markdown",
   "id": "df490c1e-bf15-4061-ac37-6ef1fadb4d4e",
   "metadata": {},
   "source": [
    "**Harris Podcasts**\n",
    "\n",
    "<img src=\"images/Very_Harris_Podcasts.png\" alt=\"Very Harris Podcasts\" width=\"800\" />"
   ]
  },
  {
   "cell_type": "markdown",
   "id": "a040728c-b67f-4081-8842-6dbe03d3eb81",
   "metadata": {},
   "source": [
    "In her podcasts, “very” takes on a more reflective and conversational role, highlighting personal moments, as in “very touched, I was” and “very frank and candid.” The podcast examples show a more emotional and narrative-driven use, connecting with listeners on a deeper level.\n",
    "\n",
    "The emotional language analysis highlights distinct rhetorical strategies between the candidates across mediums. Trump’s frequent use of emotionally charged words, especially \"very,\" underscores his focus on intensifying his messaging to energize and persuade audiences. Harris, meanwhile, adopts a more reflective tone in podcasts, leveraging personal anecdotes and narrative-driven language to foster emotional connection and relatability. These patterns illustrate how candidates strategically adapt their communication to suit the medium—Trump being able to open up and let his hyperbole go, and Harris seeking to build trust and intimacy with listeners."
   ]
  },
  {
   "cell_type": "markdown",
   "id": "ab085c69-ae1b-4133-b7be-92ab23a51040",
   "metadata": {},
   "source": [
    "## Limitations"
   ]
  },
  {
   "cell_type": "markdown",
   "id": "7d210ee4-ce72-4e3d-9243-ffc3a43c7209",
   "metadata": {},
   "source": [
    "Before we conclude, we want to highlight some limitations of our research. First, our sample size is relatively small, with only 11 podcasts featuring Trump, 5 podcasts featuring Harris, and 4 interviews for each candidate. This limited dataset may not capture the full breadth of their communication styles or account for outliers. Additionally, we focused solely on the candidates' responses without analyzing the hosts' questions, which could have significantly influenced the tone, content, and depth of their answers, especially if certain hosts asked more probing or emotionally charged questions. Furthermore, the podcast platforms themselves vary widely in format and audience demographics, which might introduce bias into the types of language and topics emphasized by the candidates. For example, Trump primarily appeared on podcasts aimed at male audiences, while Harris did the opposite. "
   ]
  },
  {
   "cell_type": "markdown",
   "id": "b998fc20-babb-40de-b80d-2faa49adf4a9",
   "metadata": {},
   "source": [
    "## Conclusion\n",
    "\n",
    "The role of podcasts in the 2024 presidential election underscores the growing importance of alternative media platforms in shaping political discourse. As traditional news outlets face declining trust and relevance among younger, digitally native audiences, podcasts have emerged as a powerful medium for political communication. This raises a key question: To what extent can podcasting perform as principled, narrative journalism capable of fulfilling media’s duty to democracy? Our analysis sought to address this by contrasting how the 2024 presidential candidates, Donald Trump and Kamala Harris, navigated podcasts and traditional interviews, revealing how these platforms influenced their messaging strategies.\n",
    "\n",
    "Our findings show clear distinctions between the two mediums. Podcasts allowed for more dynamic, emotionally charged, and personal communication, particularly for Trump, who used the informal setting to amplify his rhetoric. Harris, on the other hand, used podcasts to foster a reflective, relational connection with voters. The structural differences between podcasts and interviews, with longer word counts, more speaker turns, and a freer-flowing conversation in podcasts, indicated a shift toward more accessible, less structured political communication. In terms of issue focus, both candidates emphasized policy in interviews, but Trump’s podcasts were characterized by frequent topic shifts, while Harris maintained a more focused approach. Emotional language was notably more prevalent in Trump’s appearances, where hyperbole and intensity became central to his appeal, while Harris used podcasts for more personal storytelling aimed at building trust.\n",
    "\n",
    "The implications of these findings are significant for both political strategy and media consumption. Candidates are increasingly adapting their messaging to suit the medium, with podcasts offering a space for personalized, emotional appeals that might not resonate in the more formal structure of interviews. This speaks to the potential of podcasts to foster deeper connections with voters, especially in an era where traditional media often struggles to maintain credibility.\n",
    "\n",
    "Looking forward, future research could explore the long-term impact of podcasts on voter behavior, examining whether their more personal, informal style translates into greater political engagement or polarization. Additionally, the influence of podcast hosts and their audiences, particularly in partisan media spaces, warrants further investigation. Lastly, considering the rise of influencers and independent content creators in politics, understanding how podcasts intersect with democracy will be crucial. As podcasts continue to reshape political communication, their role in shaping public discourse and its implications for democratic processes remain vital areas for exploration."
   ]
  },
  {
   "cell_type": "markdown",
   "id": "140dc027-a51a-4afc-b77b-70d9019faf79",
   "metadata": {},
   "source": [
    "## References"
   ]
  },
  {
   "cell_type": "markdown",
   "id": "046ed2b6-e48c-4cf9-8e56-1f5dcd00393f",
   "metadata": {},
   "source": [
    "- Dowling, D. (2024). *Podcast Journalism: The Promise and Perils of Audio Reporting*. Columbia University Press.  \n",
    "- Edison. (2023, March 3). *The Infinite Dial 2023 from Edison Research with Amazon Music, Wondery, and ART19*. Edison Research.  \n",
    "  [https://www.edisonresearch.com/infinite-dial-2023-from-edison-research-with-amazon-music-wondery-and-art19/](https://www.edisonresearch.com/infinite-dial-2023-from-edison-research-with-amazon-music-wondery-and-art19/)  \n",
    "- Liedke, G. S., Luxuan Wang, Michael Lipka, Katerina Eva Matsa, Regina Widjaya, Emily Tomasik, and Jacob. (2024, November 18).  \n",
    "  *America’s News Influencers*. Pew Research Center.  \n",
    "  [https://www.pewresearch.org/journalism/2024/11/18/americas-news-influencers/](https://www.pewresearch.org/journalism/2024/11/18/americas-news-influencers/)  \n",
    "- Schlütz, D., & Hedder, I. (2022). *Aural Parasocial Relations: Host–Listener Relationships in Podcasts*.  \n",
    "  *Journal of Radio & Audio Media*, 29(2), 457–474.  \n",
    "  [https://doi.org/10.1080/19376529.2020.1870467](https://doi.org/10.1080/19376529.2020.1870467)  \n",
    "- *Trump’s success among young men illustrates influence of online “manosphere.”* (2024, November 25). PBS News.  \n",
    "  [https://www.pbs.org/newshour/show/trumps-success-among-young-men-illustrates-influence-of-online-manosphere](https://www.pbs.org/newshour/show/trumps-success-among-young-men-illustrates-influence-of-online-manosphere)  \n",
    "\n",
    "\n"
   ]
  }
 ],
 "metadata": {
  "citation-manager": {
   "items": {}
  },
  "kernelspec": {
   "display_name": "Python 3.8",
   "language": "python",
   "name": "python3"
  },
  "language_info": {
   "codemirror_mode": {
    "name": "ipython",
    "version": 3
   },
   "file_extension": ".py",
   "mimetype": "text/x-python",
   "name": "python",
   "nbconvert_exporter": "python",
   "pygments_lexer": "ipython3",
   "version": "3.8.8"
  }
 },
 "nbformat": 4,
 "nbformat_minor": 5
}
